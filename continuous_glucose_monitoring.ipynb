{
 "cells": [
  {
   "cell_type": "markdown",
   "id": "dc6d5f4c",
   "metadata": {},
   "source": [
    "<div style=\"text-align: center;\">\n",
    "  \n",
    "# 🧁 Limpeza e tratamento de dados de CGM (monitoramento contínuo de glicemia)\n",
    "\n",
    "</div>"
   ]
  },
  {
   "cell_type": "markdown",
   "id": "7b5815ac",
   "metadata": {},
   "source": [
    "## 1. Carregando as bibliotecas"
   ]
  },
  {
   "cell_type": "code",
   "execution_count": null,
   "id": "4b08ef7c",
   "metadata": {},
   "outputs": [],
   "source": [
    "#%pip install missingno"
   ]
  },
  {
   "cell_type": "code",
   "execution_count": null,
   "id": "a7f2527f",
   "metadata": {},
   "outputs": [],
   "source": [
    "import pandas as pd\n",
    "import seaborn as sns\n",
    "import matplotlib.pyplot as plt\n",
    "import numpy as np"
   ]
  },
  {
   "cell_type": "markdown",
   "id": "51d404a1",
   "metadata": {},
   "source": [
    "## 2. Extraindo e visualizando o dataframe; padronizando os nomes das variáveis; certificando os tipos de dados"
   ]
  },
  {
   "cell_type": "code",
   "execution_count": null,
   "id": "bf62036a",
   "metadata": {},
   "outputs": [],
   "source": [
    "# Dataset extraído pelo RStudio através do repositório \n",
    "# https://rdrr.io/github/personalscience/psi-shiny-cgm/man/sample_libreview_df.html\n",
    "df_extract = pd.read_csv('./sample_libreview_df_raw.csv')\n",
    "df_raw = df_extract.copy()"
   ]
  },
  {
   "cell_type": "code",
   "execution_count": null,
   "id": "671e00bd",
   "metadata": {},
   "outputs": [],
   "source": [
    "'''\n",
    "No atributo columns (do tipo índice) do objeto df_raw, nosso dataframe, iremos formatar\n",
    "todos os seus elementos, isto é, os nomes das colunas. Para isso, utilizamos o acessor .str, \n",
    "que nos permite aplicar métodos de strings para todos os elementos do índice/vetor.\n",
    "Os métodos utilizados são: \n",
    "- lower(): torna todos os caracteres minúsculos;\n",
    "- strip(): remove espaços em branco das extremidades da string;\n",
    "- replace(,): substituímos o elemento da esquerda, sempre que ele aparecer, pelo da \n",
    "direita. No nosso caso, trocamos um espaço em branco por nenhum espaço, e \":\" por nenhum espaço.\n",
    "'''\n",
    "\n",
    "df_raw.columns = df_raw.columns.str.lower().str.strip().str.replace(' ', '').str.replace(':', '')\n",
    "df_raw"
   ]
  },
  {
   "cell_type": "code",
   "execution_count": null,
   "id": "cc47014f",
   "metadata": {},
   "outputs": [],
   "source": [
    "# convertemoscoluna 'time' para o tipo datetime\n",
    "df_raw['time'] = pd.to_datetime(df_raw['time'], errors = 'coerce') \n",
    "# a coluna 'value' se torna numérica\n",
    "df_raw['value'] = pd.to_numeric(df_raw['value'], errors = 'coerce') \n",
    "\n",
    "# OBS: errors = 'coerce' faz com que elementos que não estejam num formato válido para\n",
    "# serem convertidos para datetime retornem NaT, e os que não possam ser convertidos para\n",
    "# int ou float (numérico) retornem NaN."
   ]
  },
  {
   "cell_type": "markdown",
   "id": "c753351e",
   "metadata": {},
   "source": [
    "## 3. Atribuindo valores reais (esquecidos) a 'value', seguindo a hierarquia entre 'strip', 'scan' e 'hist'"
   ]
  },
  {
   "cell_type": "code",
   "execution_count": null,
   "id": "7646b579",
   "metadata": {},
   "outputs": [],
   "source": [
    "def value_herda_exclui(df, col_time='time', col_alvo='value', col1='strip', col2='scan', col3='hist'):\n",
    "    \"\"\"\n",
    "    Preenche os NaNs de `col_alvo` com prioridade:\n",
    "    1. Usa `col1` se disponível.\n",
    "    2. Caso contrário, usa `col2`.\n",
    "    3. Caso contrário, usa `col3`.\n",
    "    \"\"\"\n",
    "    \n",
    "    df = df.copy()\n",
    "    \n",
    "    # 0 = não foi preenchido por outra coluna, 1 foi por col1, 2 por col2 e 3 por col3.\n",
    "    df['preenchido_por'] = 0\n",
    "\n",
    "    # vetores (Series), onde: o primeiro tem valores True nos índices em que col_alvo é NaN; \n",
    "    # o segundo tem valores True onde col1 não é NaN\n",
    "    cond1 = df[col_alvo].isna() & df[col1].notna() \n",
    "    # faço a substituição nessas posições\n",
    "    df.loc[cond1, col_alvo] = df.loc[cond1, col1]\n",
    "    df.loc[cond1, 'preenchido_por'] = 1\n",
    "\n",
    "    # Faço o mesmo com as linhas restantes de col_alvo que continuam NaN, mas agora\n",
    "    # comparando com os valores de col2 e col3\n",
    "    cond2 = df[col_alvo].isna() & df[col2].notna()\n",
    "    df.loc[cond2, col_alvo] = df.loc[cond2, col2]\n",
    "    df.loc[cond2, 'preenchido_por'] = 2\n",
    "\n",
    "    cond3 = df[col_alvo].isna() & df[col3].notna()\n",
    "    df.loc[cond3, col_alvo] = df.loc[cond3, col3]\n",
    "    df.loc[cond3, 'preenchido_por'] = 3\n",
    "\n",
    "    # Agora, vamos ordenar por prioridade e eliminar duplicatas no tempo\n",
    "    df[col_time] = pd.to_datetime(df[col_time], errors = 'coerce') \n",
    "    df = df.sort_values(by=[col_time, 'preenchido_por'])  # menor preenchido_por tem maior prioridade\n",
    "    df = df.drop_duplicates(subset=col_time, keep='first').reset_index(drop=True)\n",
    "\n",
    "    # Removo a coluna que indica de qual medição o value foi advindo\n",
    "    df = df.drop(columns=['preenchido_por'])\n",
    "\n",
    "    return df\n",
    "\n",
    "df_raw = value_herda_exclui(df_raw)\n",
    "df_raw"
   ]
  },
  {
   "cell_type": "markdown",
   "id": "b6e7a18e",
   "metadata": {},
   "source": [
    "## 4. Removendo as variáveis restantes e, agora, desnecessárias"
   ]
  },
  {
   "cell_type": "code",
   "execution_count": null,
   "id": "eae39c77",
   "metadata": {},
   "outputs": [],
   "source": [
    "# Eliminando as colunas que não serão utilizadas\n",
    "df_raw = df_raw.drop(columns=['unnamed0', 'strip', 'hist', 'scan', 'food', 'user_id'])\n",
    "\n",
    "df_raw"
   ]
  },
  {
   "cell_type": "markdown",
   "id": "634bba65",
   "metadata": {},
   "source": [
    "## 5. Eliminando os valores nulos e absurdos"
   ]
  },
  {
   "cell_type": "code",
   "execution_count": null,
   "id": "e5ce0a0e",
   "metadata": {},
   "outputs": [],
   "source": [
    "# Contagem de quantos valores nulos (NaN ou NaT) temos em cada coluna de df_raw\n",
    "# df_raw.isnull() retorna um dataframe com True e False em cada célula. True, se a célula tem\n",
    "# valor NaN ou NaT, e False em caso contrário. O método sum(axis = 0) soma a quantidade de cada coluna.\n",
    "# Como True corresponde ao valor 1 e False a 0, teremos assim a soma dos valores nulos.\n",
    "\n",
    "print('Valores nulos antes: \\n')\n",
    "print(df_raw.isnull().sum(axis = 0))"
   ]
  },
  {
   "cell_type": "code",
   "execution_count": null,
   "id": "2bda297d",
   "metadata": {},
   "outputs": [],
   "source": [
    "def elimina_nulos_ruidos(df, col_time='time', col_value='value', lim_inf=0, lim_sup=500, minutes_rel1=15, minutes_rel2=15, ruido_rel=50):\n",
    "    '''Documentação'''\n",
    "\n",
    "    df = df.copy()\n",
    "\n",
    "    # Garantir os tipos de dados\n",
    "    df_raw['time'] = pd.to_datetime(df_raw['time'], errors = 'coerce') \n",
    "    df_raw['value'] = pd.to_numeric(df_raw['value'], errors = 'coerce') \n",
    "\n",
    "    # Excluindo as linhas em que 'time' ou 'value' tem valor nulo\n",
    "    df = df.dropna(subset=[col_time,col_value])\n",
    "\n",
    "    # Excluindo as linhas em que 'value' tem um possível ruído absoluto\n",
    "    df = df[(df[col_value] > lim_inf) & (df[col_value] < lim_sup)]\n",
    "\n",
    "    # Excluindo as linhas em que 'value' tem um possível ruído relativo\n",
    "    df['diff_prev'] = df[col_value].diff().abs() # diferença de valor para a linha anterior\n",
    "    df['diff_next'] = df[col_value].diff(-1).abs() # diferença de valor para a linha posterior\n",
    "\n",
    "    df['delta_prev'] = df[col_time] - df[col_time].shift(1) # diferença de tempo para a linha anterior\n",
    "    df['delta_next'] = df[col_time].shift(-1) - df[col_time] # diferença de tempo para a linha posterior\n",
    "\n",
    "    mask_delta_prev = df['delta_prev'] <= pd.Timedelta(minutes=minutes_rel1)\n",
    "    mask_delta_next = df['delta_next'] <= pd.Timedelta(minutes=minutes_rel2)\n",
    "\n",
    "    mask_ruido_duplo = (df['diff_prev'] > ruido_rel) & mask_delta_prev & \\\n",
    "                    (df['diff_next'] > ruido_rel) & mask_delta_next\n",
    "\n",
    "    df = df.loc[~mask_ruido_duplo]\n",
    "    df.drop(columns=['diff_prev', 'diff_next', 'delta_prev', 'delta_next'], inplace=True)\n",
    "\n",
    "    # Organizando o dataframe por 'time' crescente, e resetando os índices, já que\n",
    "    # ao excluirmos linhas, a linha com o índice é excluída. Agora, temos índices ordenados e\n",
    "    # sequenciados novamente de 0 ao fim do dataframe.\n",
    "    df = df.sort_values(by=col_time).reset_index(drop=True) \n",
    "\n",
    "    return df\n",
    "\n",
    "# Esse é o dataframe apenas com dados medidos\n",
    "df_raw = elimina_nulos_ruidos(df_raw)\n",
    "df_raw\n",
    "\n",
    "\n"
   ]
  },
  {
   "cell_type": "markdown",
   "id": "789ce2f0",
   "metadata": {},
   "source": [
    "## 6. Subdivisão de 'time' em 'date', 'hour', 'hour_minute', 'weekday' e 'hour_cont'"
   ]
  },
  {
   "cell_type": "code",
   "execution_count": null,
   "id": "9d52b7f4",
   "metadata": {},
   "outputs": [],
   "source": [
    "def dividir_time(df, col_time='time'):\n",
    "    \"\"\"\n",
    "    Adiciona colunas derivadas de tempo para análise estatística e manipulação temporal.\n",
    "\n",
    "    Parâmetros:\n",
    "    -----------\n",
    "    df : pd.DataFrame\n",
    "        DataFrame com uma coluna datetime.\n",
    "    col_time : str, default 'time'\n",
    "        Nome da coluna que contém timestamps (deve ser do tipo datetime ou conversível).\n",
    "    Retorna:\n",
    "    --------\n",
    "    pd.DataFrame\n",
    "        DataFrame com as colunas adicionais:\n",
    "            - 'date' : data (sem horário)\n",
    "            - 'hour' : hora inteira\n",
    "            - 'hour_minute' : string com hora e minuto no formato HH:MM\n",
    "            - 'weekday' : nome do dia da semana\n",
    "            - 'hour_cont' : hora com fração decimal (ex: 14.25 para 14:15)\n",
    "    \"\"\"\n",
    "    df = df.copy()\n",
    "\n",
    "    df[col_time] = pd.to_datetime(df[col_time])\n",
    "\n",
    "    df['date'] = pd.to_datetime(df[col_time].dt.date)  # <- corrigido aqui\n",
    "    primeiro_dia = df['date'].min()\n",
    "    df['date_cont'] = (df['date'] - primeiro_dia).dt.days  # <- agora funciona\n",
    "\n",
    "    df['hour'] = df[col_time].dt.hour\n",
    "    df['hour_minute'] = df[col_time].dt.strftime('%H:%M')\n",
    "    df['weekday'] = df[col_time].dt.day_name()\n",
    "    df['hour_cont'] = (df[col_time].dt.hour + df[col_time].dt.minute / 60).round(2)\n",
    "\n",
    "    return df\n",
    "\n",
    "df_raw = dividir_time(df_raw)\n",
    "df_raw"
   ]
  },
  {
   "cell_type": "code",
   "execution_count": null,
   "id": "32d8d63e",
   "metadata": {},
   "outputs": [],
   "source": [
    "# Agora criamos a coluna 'faixa' diretamente, sem gerar warning\n",
    "colunas_ordenadas = ['time', 'date', 'date_cont', 'hour_minute', 'value', 'weekday', 'hour', 'hour_cont']\n",
    "df_raw = df_raw[colunas_ordenadas]\n"
   ]
  },
  {
   "cell_type": "markdown",
   "id": "db483163",
   "metadata": {},
   "source": [
    "## 9. Organização final da tabela"
   ]
  },
  {
   "cell_type": "code",
   "execution_count": null,
   "id": "d15ccc4a",
   "metadata": {},
   "outputs": [],
   "source": [
    "# Organização final da tabela de valores reais\n",
    "def faixa_horaria(hora):\n",
    "    if 0 <= hora <= 6:\n",
    "        return 'Madrugada'\n",
    "    elif 7 <= hora <= 12:\n",
    "        return 'Manhã'\n",
    "    elif 13 <= hora <= 17:\n",
    "        return 'Tarde'\n",
    "    elif 18 <= hora <= 21:\n",
    "        return 'Jantar'\n",
    "    else:\n",
    "        return 'Fim da noite'\n",
    "\n",
    "df_raw.loc[:, 'faixa'] = df_raw['hour'].apply(faixa_horaria)\n",
    "df_raw\n",
    "\n",
    "df_raw.to_csv(\"df_raw_editado.csv\", index=False)"
   ]
  },
  {
   "cell_type": "markdown",
   "id": "da0258b7",
   "metadata": {},
   "source": [
    "<div style=\"text-align: center;\">\n",
    "  \n",
    "# 🔍 Análise Exploratória de Dados\n",
    "\n",
    "</div>"
   ]
  },
  {
   "cell_type": "markdown",
   "id": "16bcac7d",
   "metadata": {},
   "source": [
    "## 1. Informações da tabela df_raw"
   ]
  },
  {
   "cell_type": "code",
   "execution_count": null,
   "id": "1e4c4f8e",
   "metadata": {},
   "outputs": [],
   "source": [
    "print('Quantidade de linhas e colunas:\\n', df_raw.shape, '\\n\\n---\\n')\n",
    "print('Colunas presentes:\\n', df_raw.columns, '\\n---\\n')\n",
    "print('Tipo de dados:\\n', df_raw.dtypes, '\\n\\n---\\n')\n",
    "print('Quantidade de dados únicos:\\n', df_raw.nunique())"
   ]
  },
  {
   "cell_type": "markdown",
   "id": "04f74dfe",
   "metadata": {},
   "source": [
    "## 2. Estatísticas gerais da variável 'value' e sua distribuição de frequências absolutas"
   ]
  },
  {
   "cell_type": "code",
   "execution_count": null,
   "id": "e6642d99",
   "metadata": {},
   "outputs": [],
   "source": [
    "df_raw['value'].describe().round(1)"
   ]
  },
  {
   "cell_type": "code",
   "execution_count": null,
   "id": "54ed2965",
   "metadata": {},
   "outputs": [],
   "source": [
    "print('Quantidade de aparições dos valores medidos de glicemia (mg/dL)')\n",
    "sns.histplot(df_raw['value'], kde=True)\n",
    "plt.ylabel('Número de aparições')\n",
    "plt.xlabel('Glicemia (mg/dL)')"
   ]
  },
  {
   "cell_type": "code",
   "execution_count": null,
   "id": "d9e98e1f",
   "metadata": {},
   "outputs": [],
   "source": [
    "# Assimetria positiva indica cauda mais longa à direita\n",
    "print(\"Assimetria:\", df_raw['value'].skew())\n",
    "\n",
    "# Curtose acima de 3 indica caudas mais \"pesadas\" que as de uma distribuição normal \n",
    "# (com mais valores extremos do que seriam esperados em dados gerados de uma normal)\n",
    "print(\"Curtose:\", df_raw['value'].kurt())"
   ]
  },
  {
   "cell_type": "markdown",
   "id": "3672ea3d",
   "metadata": {},
   "source": [
    "## 3. Estatísticas diárias de 'value'"
   ]
  },
  {
   "cell_type": "code",
   "execution_count": null,
   "id": "0208cf2c",
   "metadata": {},
   "outputs": [],
   "source": [
    "print('Quantidade de medições por dia da semana')\n",
    "df_raw['weekday'].value_counts().plot.bar()\n",
    "plt.ylabel('Quantidade de medições')\n",
    "plt.xlabel('Dia da semana')"
   ]
  },
  {
   "cell_type": "code",
   "execution_count": null,
   "id": "305cc409",
   "metadata": {},
   "outputs": [],
   "source": [
    "df_raw['date_str'] = df_raw['date'].dt.strftime('%Y-%m-%d')  # ou '%d/%m/%Y' se preferir\n",
    "df_raw.groupby('date_str').size().plot(\n",
    "    kind='bar', figsize=(15, 4), title='Quantidade de medições por data'\n",
    ")\n",
    "plt.ylabel('Quantidade de aferições')\n",
    "plt.xlabel('Data')\n",
    "plt.show()"
   ]
  },
  {
   "cell_type": "code",
   "execution_count": null,
   "id": "267dddb0",
   "metadata": {},
   "outputs": [],
   "source": [
    "print('Média das medições nos dias em que houve aferição')\n",
    "contagem_por_dia = df_raw.groupby('date_cont')['value'].count()\n",
    "dias_validos = contagem_por_dia[contagem_por_dia > 64].index\n",
    "media_filtrada = df_raw[df_raw['date_cont'].isin(dias_validos)].groupby('date_cont')['value'].mean()\n",
    "\n",
    "# Plota a média diária apenas para os dias com mais de 64 medições\n",
    "media_filtrada.plot(marker='o', linestyle='-')\n",
    "\n",
    "x = media_filtrada.index          # números do dia: 0, 1, 3, 10, etc.\n",
    "y = media_filtrada.values         # médias de glicose\n",
    "\n",
    "# Plotando com espaçamento proporcional\n",
    "plt.plot(x, y, marker='o', linestyle='-')\n",
    "\n",
    "# Rótulos dos eixos\n",
    "plt.xlabel('Dia (contagem desde o início)')\n",
    "plt.ylabel('Média de Glicose (mg/dL)')\n",
    "plt.title(f'Média diária de glicose (apenas dias com mais de 64 medições)')\n",
    "\n",
    "# Ativar grade\n",
    "plt.grid(True)\n",
    "\n",
    "plt.show()"
   ]
  },
  {
   "cell_type": "code",
   "execution_count": null,
   "id": "28732012",
   "metadata": {},
   "outputs": [],
   "source": [
    "# Contar quantas faixas únicas existem por dia\n",
    "faixas_por_dia = df_raw.groupby('date_cont')['faixa'].nunique()\n",
    "\n",
    "# Selecionar apenas os dias que têm todas as 5 faixas\n",
    "dias_completo = faixas_por_dia[faixas_por_dia == 5].index\n",
    "\n",
    "media_filtrada = df_raw[df_raw['date_cont'].isin(dias_completo)].groupby('date_cont')['value'].mean()\n",
    "plt.figure(figsize=(12,4))\n",
    "plt.plot(media_filtrada.index, media_filtrada.values, marker='o', linestyle='-')\n",
    "plt.xlabel('Dia (contagem desde o início)')\n",
    "plt.ylabel('Média de Glicose (mg/dL)')\n",
    "plt.title('Média diária de glicose (apenas para dias com medições nas 5 faixas de horário)')\n",
    "plt.grid(True)\n",
    "plt.show()"
   ]
  },
  {
   "cell_type": "code",
   "execution_count": null,
   "id": "b7610b08",
   "metadata": {},
   "outputs": [],
   "source": [
    "print('Quantidade de medições por hora')\n",
    "contagem_horas_ord = df_raw['hour'].value_counts().sort_index()\n",
    "contagem_horas_ord.plot.bar()\n",
    "plt.ylabel('Quantidade de medições')\n",
    "plt.xlabel('Hora do dia')"
   ]
  },
  {
   "cell_type": "markdown",
   "id": "25df65c0",
   "metadata": {},
   "source": [
    "<div style=\"text-align: center;\">\n",
    "\n",
    "## 👀 Algumas questões importantes\n",
    "\n",
    "</div>\n",
    "\n"
   ]
  },
  {
   "cell_type": "markdown",
   "id": "9703df6b",
   "metadata": {},
   "source": [
    "### 1️⃣ Há relação entre o valor da glicemia (value) e o horário do dia (time)? Em quais horas do dia há maiores picos de glicemia? Em quais horas do dia há menores valores de glicemia? \n"
   ]
  },
  {
   "cell_type": "code",
   "execution_count": null,
   "id": "aa9e1eee",
   "metadata": {},
   "outputs": [],
   "source": [
    "# Valores de média, mínimo e máximo valores de glicemia (mg/dL) por hora do dia\n",
    "df_raw.groupby('hour')['value'].agg(['mean', 'median', 'min', 'max']).round(1)"
   ]
  },
  {
   "cell_type": "code",
   "execution_count": null,
   "id": "89d4c2c0",
   "metadata": {},
   "outputs": [],
   "source": [
    "# Gráfico da média de glicemia por hora do dia \n",
    "media_por_hora = df_raw.groupby('hour')['value'].mean()\n",
    "plt.figure(figsize=(10, 5))\n",
    "sns.lineplot(x=media_por_hora.index, y=media_por_hora.values)\n",
    "plt.xlabel('Hora do dia')\n",
    "plt.ylabel('Glicemia média (mg/dL)')\n",
    "plt.grid(True)\n",
    "plt.xticks(range(24))\n",
    "plt.show()"
   ]
  },
  {
   "cell_type": "markdown",
   "id": "265f178b",
   "metadata": {},
   "source": [
    "### 2️⃣ Nos dados analisados, o paciente está dentro da porcentagem de tempo ideal para cada intervalo de referência? "
   ]
  },
  {
   "cell_type": "markdown",
   "id": "cd8703bd",
   "metadata": {},
   "source": [
    "##### Porcentagem de tempo ideal em cada intervalo de referência:\n",
    "- TIR time in range: ≥ 70% do tempo entre 70-180 mg/dL\n",
    "- TBR time below range: < 4% do tempo abaixo de 70 mg/dL\n",
    "- TVBR time very below range: < 1% abaixo de 54 mg/dL\n",
    "- TAR time above range: < 25% acima de 180 mg/dL"
   ]
  },
  {
   "cell_type": "code",
   "execution_count": null,
   "id": "09272d41",
   "metadata": {},
   "outputs": [],
   "source": [
    "total = len(df_raw)\n",
    "tar = len(df_raw[df_raw['value'] > 180]) / total * 100\n",
    "tir = len(df_raw[(df_raw['value'] >= 70) & (df_raw['value'] <= 180)]) / total * 100\n",
    "tbr = len(df_raw[df_raw['value'] < 70]) / total * 100\n",
    "tvbr = len(df_raw[df_raw['value'] < 54]) / total * 100"
   ]
  },
  {
   "cell_type": "code",
   "execution_count": null,
   "id": "2e8c152a",
   "metadata": {},
   "outputs": [],
   "source": [
    "tar_check = '✔️' if tar < 25 else '❌'\n",
    "tir_check = '✔️' if tir >= 70 else '❌'\n",
    "tbr_check = '✔️' if tbr < 4 else '❌'\n",
    "tvbr_check = '✔️' if tvbr < 1 else '❌'"
   ]
  },
  {
   "cell_type": "code",
   "execution_count": null,
   "id": "86a8ede5",
   "metadata": {},
   "outputs": [],
   "source": [
    "print(f'| TAR time above range      | {tar:.1f}%  | < 25% acima de 180 mg/dL           | {tar_check} |')\n",
    "print(f'| TIR time in range         | {tir:.1f}% |  ≥ 70% do tempo entre 70-180 mg/dL | {tir_check} |')\n",
    "print(f'| TBR time below range      | {tbr:.1f}% | < 4% do tempo abaixo de 70 mg/dL   | {tbr_check} |')\n",
    "print(f'| TBR time very below range | {tvbr:.1f}%  | < 1% abaixo de 54 mg/dL            | {tvbr_check} |')"
   ]
  },
  {
   "cell_type": "markdown",
   "id": "570380f2",
   "metadata": {},
   "source": [
    "### 3️⃣ Há diferença significativa da média de glicemia entre dias da semana (dias úteis, fins de semana)?"
   ]
  },
  {
   "cell_type": "code",
   "execution_count": null,
   "id": "ed0487e1",
   "metadata": {},
   "outputs": [],
   "source": [
    "import pandas as pd\n",
    "import seaborn as sns\n",
    "import matplotlib.pyplot as plt\n",
    "\n",
    "# Definindo a ordem dos dias da semana\n",
    "dias_ordem = ['Monday', 'Tuesday', 'Wednesday', 'Thursday', 'Friday', 'Saturday', 'Sunday']\n",
    "\n",
    "# Transformando a coluna weekday em categorical, com ordem correta\n",
    "df_raw['weekday_cat'] = pd.Categorical(df_raw['weekday'], categories=dias_ordem, ordered=True)\n",
    "\n",
    "# Calculando a média por dia da semana\n",
    "media_por_dia = df_raw.groupby('weekday_cat')['value'].mean().reset_index()\n",
    "\n",
    "# Criando o DataFrame para heatmap\n",
    "mapa_mediageral = pd.DataFrame([media_por_dia['value'].values], columns=media_por_dia['weekday_cat'].values)\n",
    "\n",
    "# Plotando!\n",
    "plt.figure(figsize=(8, 2))\n",
    "sns.heatmap(\n",
    "    mapa_mediageral,\n",
    "    annot=True,\n",
    "    fmt=\".1f\",\n",
    "    cmap=\"crest\",\n",
    "    \n",
    ")\n",
    "plt.title(\"Média de glicemia por dia da semana (mg/dL)\")\n",
    "plt.yticks([], []) \n",
    "plt.show()"
   ]
  },
  {
   "cell_type": "code",
   "execution_count": null,
   "id": "ad0d3d7c",
   "metadata": {},
   "outputs": [],
   "source": [
    "import pandas as pd\n",
    "import seaborn as sns\n",
    "import matplotlib.pyplot as plt\n",
    "from matplotlib.colors import ListedColormap, BoundaryNorm\n",
    "\n",
    "# Mapeando as faixas do dia como categorias ordenadas\n",
    "faixa_order = ['Madrugada', 'Manhã', 'Tarde', 'Jantar', 'Fim da noite']\n",
    "df_raw['faixa_cat'] = pd.Categorical(df_raw['faixa'], categories=faixa_order, ordered=True)\n",
    "\n",
    "# Pivot table: faixas x dias da semana\n",
    "tabela = df_raw.pivot_table(\n",
    "    index='faixa_cat',\n",
    "    columns='weekday_num',\n",
    "    values='value',\n",
    "    aggfunc='mean'\n",
    ")\n",
    "\n",
    "# Garantindo todas as faixas\n",
    "tabela = tabela.reindex(faixa_order)\n",
    "\n",
    "# Definindo cores e limites\n",
    "glucose_range = [0, 70, 90, df_raw['value'].max() + 1]  # 3 intervalos → 3 cores\n",
    "colors = [\"#79A0C7\", '#A1D99B', \"#77B370\"]  # lilás, azul, verde\n",
    "cmap = ListedColormap(colors)\n",
    "norm = BoundaryNorm(glucose_range, ncolors=len(colors))\n",
    "\n",
    "# Dias da semana em inglês\n",
    "weekday_labels = ['Seg', 'Ter', 'Qua', 'Qui', 'Sex', 'Sab', 'Dom']\n",
    "\n",
    "# Plotando!!\n",
    "plt.figure(figsize=(10, 6))\n",
    "sns.heatmap(\n",
    "    tabela,\n",
    "    annot=True,\n",
    "    fmt=\".1f\",\n",
    "    cmap=cmap,\n",
    "    norm=norm,\n",
    "    cbar_kws={'label': 'Glicemia (mg/dL)'},\n",
    "    linecolor='white',\n",
    "    linewidths=0.5\n",
    ")\n",
    "\n",
    "# Centralizando os labels do eixo X\n",
    "plt.xticks(ticks=range(7), labels=weekday_labels, ha='center')\n",
    "plt.yticks(rotation=0)\n",
    "plt.title(\"Glicemia média por faixa horária e dia da semana\")\n",
    "plt.ylabel(\"Faixa Horária\")\n",
    "plt.xlabel(\"Dia\")\n",
    "plt.show()"
   ]
  },
  {
   "cell_type": "markdown",
   "id": "da4af60d",
   "metadata": {},
   "source": [
    "### 4️⃣ Há alguma diferença entre a média da primeira e última metade da amostra? Houve alguma diferença no controle ao longo do mês ou permaneceu constante?"
   ]
  },
  {
   "cell_type": "code",
   "execution_count": null,
   "id": "ab7ca4c9",
   "metadata": {},
   "outputs": [],
   "source": [
    "# Número total de medições\n",
    "n = len(df_raw)\n",
    "\n",
    "# Dividindo em duas metades\n",
    "primeira_meta = df_raw['value'][:n//2]  # da primeira até a metade\n",
    "segunda_meta = df_raw['value'][n//2:]   # da metade até o final\n",
    "\n",
    "# Calculando médias\n",
    "media_primeira = primeira_meta.mean()\n",
    "media_segunda = segunda_meta.mean()\n",
    "\n",
    "print(\"Média da primeira metade:\", media_primeira)\n",
    "print(\"Média da segunda metade:\", media_segunda)"
   ]
  },
  {
   "cell_type": "code",
   "execution_count": null,
   "id": "08e15bed",
   "metadata": {},
   "outputs": [],
   "source": [
    "from matplotlib.colors import ListedColormap, BoundaryNorm\n",
    "\n",
    "mapa_medicoes = df_raw[['value']]\n",
    "mapa_medicoes = mapa_medicoes.T\n",
    "\n",
    "faixas = [0, 54, 70, 180, df_raw['value'].max() + 1]\n",
    "\n",
    "# Cores suaves e harmônicas:\n",
    "colors = [\"#415691\",\"#7DA8C1\", '#A3C293', \"#BD4033\"]\n",
    "cmap = ListedColormap(colors)\n",
    "norm = BoundaryNorm(faixas, cmap.N)\n",
    "\n",
    "# Plot\n",
    "plt.figure(figsize=(20, 2))\n",
    "sns.heatmap(mapa_medicoes, cmap=cmap, norm=norm, cbar_kws={'label': 'Glicose (mg/dL)'})\n",
    "plt.yticks([], [])\n",
    "plt.xlabel(\"Leituras\")\n",
    "plt.title(\"Mapa de calor com destaque para os diferentes intervalos glicêmicos\")\n",
    "plt.show()"
   ]
  },
  {
   "cell_type": "code",
   "execution_count": null,
   "id": "8c062376",
   "metadata": {},
   "outputs": [],
   "source": [
    "media_por_faixa = df_raw.groupby(['date_cont', 'faixa'])['value'].mean().unstack()\n",
    "\n",
    "media_por_faixa.plot(figsize=(12, 6), marker='o')\n",
    "\n",
    "plt.xlabel('Dia (contagem)')\n",
    "plt.ylabel('Glicemia média (mg/dL)')\n",
    "plt.title('Evolução diária da glicose por faixa horária')\n",
    "plt.grid(True)\n",
    "plt.legend(title='Faixa do dia', bbox_to_anchor=(1.05, 1), loc='upper left')\n",
    "plt.tight_layout()\n",
    "plt.show()"
   ]
  },
  {
   "cell_type": "markdown",
   "id": "1b4a801d",
   "metadata": {},
   "source": [
    "# Predição com regressão linear"
   ]
  },
  {
   "cell_type": "code",
   "execution_count": null,
   "id": "154d9d44",
   "metadata": {},
   "outputs": [],
   "source": [
    "#%pip install scikit-learn"
   ]
  },
  {
   "cell_type": "code",
   "execution_count": null,
   "id": "7c678fc5",
   "metadata": {},
   "outputs": [],
   "source": [
    "import pandas as pd\n",
    "from sklearn.linear_model import LinearRegression\n",
    "from sklearn.model_selection import train_test_split\n",
    "from sklearn.metrics import mean_squared_error, r2_score\n",
    "import matplotlib.pyplot as plt"
   ]
  },
  {
   "cell_type": "code",
   "execution_count": null,
   "id": "47cb6398",
   "metadata": {},
   "outputs": [],
   "source": [
    "x = df_raw[['hour']]\n",
    "y = df_raw['value']"
   ]
  },
  {
   "cell_type": "code",
   "execution_count": null,
   "id": "9c934737",
   "metadata": {},
   "outputs": [],
   "source": [
    "x_treino, x_teste, y_treino, y_teste = train_test_split(x, y, test_size=0.2, random_state=42)"
   ]
  },
  {
   "cell_type": "code",
   "execution_count": null,
   "id": "307d235c",
   "metadata": {},
   "outputs": [],
   "source": [
    "modelo = LinearRegression()\n",
    "modelo.fit(x_treino, y_treino)\n"
   ]
  },
  {
   "cell_type": "code",
   "execution_count": null,
   "id": "e72c1929",
   "metadata": {},
   "outputs": [],
   "source": [
    "y_pred = modelo.predict(x_teste)\n",
    "rmse = np.sqrt(mean_squared_error(y_teste, y_pred))\n",
    "\n",
    "print(\"Coeficiente angular (slope):\", modelo.coef_[0])\n",
    "print(\"Intercepto:\", modelo.intercept_)\n",
    "print(\"R²:\", r2_score(y_teste, y_pred))\n",
    "print(\"RMSE:\", rmse)"
   ]
  },
  {
   "cell_type": "code",
   "execution_count": null,
   "id": "59603b12",
   "metadata": {},
   "outputs": [],
   "source": [
    "plt.scatter(x_teste, y_teste, color='gray', label='Real')\n",
    "plt.plot(x_teste, y_pred, color='blue', linewidth=2, label='Previsão')\n",
    "plt.title('Previsão da glicemia com base na hora do dia')\n",
    "plt.xlabel('Hora do dia')\n",
    "plt.ylabel('Glicemia (mg/dL)')\n",
    "plt.legend()\n",
    "plt.grid(True)\n",
    "plt.show()"
   ]
  }
 ],
 "metadata": {
  "kernelspec": {
   "display_name": "Python 3",
   "language": "python",
   "name": "python3"
  },
  "language_info": {
   "codemirror_mode": {
    "name": "ipython",
    "version": 3
   },
   "file_extension": ".py",
   "mimetype": "text/x-python",
   "name": "python",
   "nbconvert_exporter": "python",
   "pygments_lexer": "ipython3",
   "version": "3.13.5"
  }
 },
 "nbformat": 4,
 "nbformat_minor": 5
}
