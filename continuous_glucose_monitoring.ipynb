{
 "cells": [
  {
   "cell_type": "markdown",
   "id": "dc6d5f4c",
   "metadata": {},
   "source": [
    "<div style=\"text-align: center;\">\n",
    "  \n",
    "# 🧁 Limpeza e tratamento de dados de CGM (monitoramento contínuo de glicemia)\n",
    "\n",
    "</div>"
   ]
  },
  {
   "cell_type": "markdown",
   "id": "7b5815ac",
   "metadata": {},
   "source": [
    "## 1. Carregando as bibliotecas"
   ]
  },
  {
   "cell_type": "code",
   "execution_count": 898,
   "id": "4b08ef7c",
   "metadata": {},
   "outputs": [],
   "source": [
    "#%pip install missingno"
   ]
  },
  {
   "cell_type": "code",
   "execution_count": 899,
   "id": "a7f2527f",
   "metadata": {},
   "outputs": [],
   "source": [
    "import pandas as pd\n",
    "import seaborn as sns\n",
    "import matplotlib.pyplot as plt\n",
    "import numpy as np"
   ]
  },
  {
   "cell_type": "markdown",
   "id": "51d404a1",
   "metadata": {},
   "source": [
    "## 2. Extraindo e visualizando o dataframe; padronizando os nomes das variáveis"
   ]
  },
  {
   "cell_type": "code",
   "execution_count": 900,
   "id": "bf62036a",
   "metadata": {},
   "outputs": [],
   "source": [
    "# Dataset extraído pelo RStudio através do repositório \n",
    "# https://rdrr.io/github/personalscience/psi-shiny-cgm/man/sample_libreview_df.html\n",
    "df_a = pd.read_csv('./sample_libreview_df_raw.csv')\n",
    "df_raw = df_a.copy()"
   ]
  },
  {
   "cell_type": "code",
   "execution_count": 901,
   "id": "671e00bd",
   "metadata": {},
   "outputs": [
    {
     "data": {
      "text/html": [
       "<div>\n",
       "<style scoped>\n",
       "    .dataframe tbody tr th:only-of-type {\n",
       "        vertical-align: middle;\n",
       "    }\n",
       "\n",
       "    .dataframe tbody tr th {\n",
       "        vertical-align: top;\n",
       "    }\n",
       "\n",
       "    .dataframe thead th {\n",
       "        text-align: right;\n",
       "    }\n",
       "</style>\n",
       "<table border=\"1\" class=\"dataframe\">\n",
       "  <thead>\n",
       "    <tr style=\"text-align: right;\">\n",
       "      <th></th>\n",
       "      <th>unnamed0</th>\n",
       "      <th>time</th>\n",
       "      <th>scan</th>\n",
       "      <th>hist</th>\n",
       "      <th>strip</th>\n",
       "      <th>value</th>\n",
       "      <th>food</th>\n",
       "      <th>user_id</th>\n",
       "    </tr>\n",
       "  </thead>\n",
       "  <tbody>\n",
       "    <tr>\n",
       "      <th>0</th>\n",
       "      <td>1</td>\n",
       "      <td>2021-05-30 16:59:00</td>\n",
       "      <td>NaN</td>\n",
       "      <td>69.0</td>\n",
       "      <td>NaN</td>\n",
       "      <td>69.0</td>\n",
       "      <td>NaN</td>\n",
       "      <td>1234</td>\n",
       "    </tr>\n",
       "    <tr>\n",
       "      <th>1</th>\n",
       "      <td>2</td>\n",
       "      <td>2021-05-30 17:14:00</td>\n",
       "      <td>NaN</td>\n",
       "      <td>66.0</td>\n",
       "      <td>NaN</td>\n",
       "      <td>66.0</td>\n",
       "      <td>NaN</td>\n",
       "      <td>1234</td>\n",
       "    </tr>\n",
       "    <tr>\n",
       "      <th>2</th>\n",
       "      <td>3</td>\n",
       "      <td>2021-05-30 17:30:00</td>\n",
       "      <td>NaN</td>\n",
       "      <td>62.0</td>\n",
       "      <td>NaN</td>\n",
       "      <td>62.0</td>\n",
       "      <td>NaN</td>\n",
       "      <td>1234</td>\n",
       "    </tr>\n",
       "    <tr>\n",
       "      <th>3</th>\n",
       "      <td>4</td>\n",
       "      <td>2021-05-30 17:45:00</td>\n",
       "      <td>NaN</td>\n",
       "      <td>60.0</td>\n",
       "      <td>NaN</td>\n",
       "      <td>60.0</td>\n",
       "      <td>NaN</td>\n",
       "      <td>1234</td>\n",
       "    </tr>\n",
       "    <tr>\n",
       "      <th>4</th>\n",
       "      <td>5</td>\n",
       "      <td>2021-05-30 18:00:00</td>\n",
       "      <td>NaN</td>\n",
       "      <td>62.0</td>\n",
       "      <td>NaN</td>\n",
       "      <td>62.0</td>\n",
       "      <td>NaN</td>\n",
       "      <td>1234</td>\n",
       "    </tr>\n",
       "    <tr>\n",
       "      <th>...</th>\n",
       "      <td>...</td>\n",
       "      <td>...</td>\n",
       "      <td>...</td>\n",
       "      <td>...</td>\n",
       "      <td>...</td>\n",
       "      <td>...</td>\n",
       "      <td>...</td>\n",
       "      <td>...</td>\n",
       "    </tr>\n",
       "    <tr>\n",
       "      <th>3979</th>\n",
       "      <td>3980</td>\n",
       "      <td>2021-07-12 19:27:00</td>\n",
       "      <td>NaN</td>\n",
       "      <td>NaN</td>\n",
       "      <td>NaN</td>\n",
       "      <td>NaN</td>\n",
       "      <td>NaN</td>\n",
       "      <td>1234</td>\n",
       "    </tr>\n",
       "    <tr>\n",
       "      <th>3980</th>\n",
       "      <td>3981</td>\n",
       "      <td>2021-07-13 11:25:00</td>\n",
       "      <td>NaN</td>\n",
       "      <td>NaN</td>\n",
       "      <td>NaN</td>\n",
       "      <td>NaN</td>\n",
       "      <td>NaN</td>\n",
       "      <td>1234</td>\n",
       "    </tr>\n",
       "    <tr>\n",
       "      <th>3981</th>\n",
       "      <td>3982</td>\n",
       "      <td>2021-07-15 14:17:00</td>\n",
       "      <td>NaN</td>\n",
       "      <td>NaN</td>\n",
       "      <td>NaN</td>\n",
       "      <td>NaN</td>\n",
       "      <td>NaN</td>\n",
       "      <td>1234</td>\n",
       "    </tr>\n",
       "    <tr>\n",
       "      <th>3982</th>\n",
       "      <td>3983</td>\n",
       "      <td>2021-07-16 09:31:00</td>\n",
       "      <td>NaN</td>\n",
       "      <td>NaN</td>\n",
       "      <td>NaN</td>\n",
       "      <td>NaN</td>\n",
       "      <td>NaN</td>\n",
       "      <td>1234</td>\n",
       "    </tr>\n",
       "    <tr>\n",
       "      <th>3983</th>\n",
       "      <td>3984</td>\n",
       "      <td>2021-07-17 12:10:00</td>\n",
       "      <td>NaN</td>\n",
       "      <td>NaN</td>\n",
       "      <td>NaN</td>\n",
       "      <td>NaN</td>\n",
       "      <td>NaN</td>\n",
       "      <td>1234</td>\n",
       "    </tr>\n",
       "  </tbody>\n",
       "</table>\n",
       "<p>3984 rows × 8 columns</p>\n",
       "</div>"
      ],
      "text/plain": [
       "      unnamed0                 time  scan  hist  strip  value food  user_id\n",
       "0            1  2021-05-30 16:59:00   NaN  69.0    NaN   69.0  NaN     1234\n",
       "1            2  2021-05-30 17:14:00   NaN  66.0    NaN   66.0  NaN     1234\n",
       "2            3  2021-05-30 17:30:00   NaN  62.0    NaN   62.0  NaN     1234\n",
       "3            4  2021-05-30 17:45:00   NaN  60.0    NaN   60.0  NaN     1234\n",
       "4            5  2021-05-30 18:00:00   NaN  62.0    NaN   62.0  NaN     1234\n",
       "...        ...                  ...   ...   ...    ...    ...  ...      ...\n",
       "3979      3980  2021-07-12 19:27:00   NaN   NaN    NaN    NaN  NaN     1234\n",
       "3980      3981  2021-07-13 11:25:00   NaN   NaN    NaN    NaN  NaN     1234\n",
       "3981      3982  2021-07-15 14:17:00   NaN   NaN    NaN    NaN  NaN     1234\n",
       "3982      3983  2021-07-16 09:31:00   NaN   NaN    NaN    NaN  NaN     1234\n",
       "3983      3984  2021-07-17 12:10:00   NaN   NaN    NaN    NaN  NaN     1234\n",
       "\n",
       "[3984 rows x 8 columns]"
      ]
     },
     "execution_count": 901,
     "metadata": {},
     "output_type": "execute_result"
    }
   ],
   "source": [
    "'''\n",
    "No atributo columns (do tipo índice) do objeto df_raw, nosso dataframe, iremos formatar\n",
    "todos os seus elementos, isto é, os nomes das colunas. Para isso, utilizamos o acessor .str, \n",
    "que nos permite aplicar métodos de strings para todos os elementos do índice/vetor.\n",
    "Os métodos utilizados são: \n",
    "- lower(): torna todos os caracteres minúsculos;\n",
    "- strip(): remove espaços em branco das extremidades da string;\n",
    "- replace(,): substituímos o elemento da esquerda, sempre que ele aparecer, pelo da \n",
    "direita. No nosso caso, trocamos um espaço em branco por nenhum espaço, e \":\" por nenhum espaço.\n",
    "'''\n",
    "\n",
    "df_raw.columns = df_raw.columns.str.lower().str.strip().str.replace(' ', '').str.replace(':', '')\n",
    "df_raw"
   ]
  },
  {
   "cell_type": "markdown",
   "id": "b6e7a18e",
   "metadata": {},
   "source": [
    "## 3. Excluindo variáveis desnecessárias e cuidando de linhas duplicadas e tipos de dados"
   ]
  },
  {
   "cell_type": "code",
   "execution_count": 902,
   "id": "0e5ca805",
   "metadata": {},
   "outputs": [
    {
     "data": {
      "text/html": [
       "<div>\n",
       "<style scoped>\n",
       "    .dataframe tbody tr th:only-of-type {\n",
       "        vertical-align: middle;\n",
       "    }\n",
       "\n",
       "    .dataframe tbody tr th {\n",
       "        vertical-align: top;\n",
       "    }\n",
       "\n",
       "    .dataframe thead th {\n",
       "        text-align: right;\n",
       "    }\n",
       "</style>\n",
       "<table border=\"1\" class=\"dataframe\">\n",
       "  <thead>\n",
       "    <tr style=\"text-align: right;\">\n",
       "      <th></th>\n",
       "      <th>unnamed0</th>\n",
       "      <th>time</th>\n",
       "      <th>scan</th>\n",
       "      <th>hist</th>\n",
       "      <th>strip</th>\n",
       "      <th>value</th>\n",
       "      <th>food</th>\n",
       "      <th>user_id</th>\n",
       "    </tr>\n",
       "  </thead>\n",
       "  <tbody>\n",
       "    <tr>\n",
       "      <th>0</th>\n",
       "      <td>1</td>\n",
       "      <td>2021-05-30 16:59:00</td>\n",
       "      <td>NaN</td>\n",
       "      <td>69.0</td>\n",
       "      <td>NaN</td>\n",
       "      <td>69.0</td>\n",
       "      <td>NaN</td>\n",
       "      <td>1234</td>\n",
       "    </tr>\n",
       "    <tr>\n",
       "      <th>1</th>\n",
       "      <td>2</td>\n",
       "      <td>2021-05-30 17:14:00</td>\n",
       "      <td>NaN</td>\n",
       "      <td>66.0</td>\n",
       "      <td>NaN</td>\n",
       "      <td>66.0</td>\n",
       "      <td>NaN</td>\n",
       "      <td>1234</td>\n",
       "    </tr>\n",
       "    <tr>\n",
       "      <th>2</th>\n",
       "      <td>3</td>\n",
       "      <td>2021-05-30 17:30:00</td>\n",
       "      <td>NaN</td>\n",
       "      <td>62.0</td>\n",
       "      <td>NaN</td>\n",
       "      <td>62.0</td>\n",
       "      <td>NaN</td>\n",
       "      <td>1234</td>\n",
       "    </tr>\n",
       "    <tr>\n",
       "      <th>3</th>\n",
       "      <td>4</td>\n",
       "      <td>2021-05-30 17:45:00</td>\n",
       "      <td>NaN</td>\n",
       "      <td>60.0</td>\n",
       "      <td>NaN</td>\n",
       "      <td>60.0</td>\n",
       "      <td>NaN</td>\n",
       "      <td>1234</td>\n",
       "    </tr>\n",
       "    <tr>\n",
       "      <th>4</th>\n",
       "      <td>5</td>\n",
       "      <td>2021-05-30 18:00:00</td>\n",
       "      <td>NaN</td>\n",
       "      <td>62.0</td>\n",
       "      <td>NaN</td>\n",
       "      <td>62.0</td>\n",
       "      <td>NaN</td>\n",
       "      <td>1234</td>\n",
       "    </tr>\n",
       "    <tr>\n",
       "      <th>...</th>\n",
       "      <td>...</td>\n",
       "      <td>...</td>\n",
       "      <td>...</td>\n",
       "      <td>...</td>\n",
       "      <td>...</td>\n",
       "      <td>...</td>\n",
       "      <td>...</td>\n",
       "      <td>...</td>\n",
       "    </tr>\n",
       "    <tr>\n",
       "      <th>3979</th>\n",
       "      <td>3980</td>\n",
       "      <td>2021-07-12 19:27:00</td>\n",
       "      <td>NaN</td>\n",
       "      <td>NaN</td>\n",
       "      <td>NaN</td>\n",
       "      <td>NaN</td>\n",
       "      <td>NaN</td>\n",
       "      <td>1234</td>\n",
       "    </tr>\n",
       "    <tr>\n",
       "      <th>3980</th>\n",
       "      <td>3981</td>\n",
       "      <td>2021-07-13 11:25:00</td>\n",
       "      <td>NaN</td>\n",
       "      <td>NaN</td>\n",
       "      <td>NaN</td>\n",
       "      <td>NaN</td>\n",
       "      <td>NaN</td>\n",
       "      <td>1234</td>\n",
       "    </tr>\n",
       "    <tr>\n",
       "      <th>3981</th>\n",
       "      <td>3982</td>\n",
       "      <td>2021-07-15 14:17:00</td>\n",
       "      <td>NaN</td>\n",
       "      <td>NaN</td>\n",
       "      <td>NaN</td>\n",
       "      <td>NaN</td>\n",
       "      <td>NaN</td>\n",
       "      <td>1234</td>\n",
       "    </tr>\n",
       "    <tr>\n",
       "      <th>3982</th>\n",
       "      <td>3983</td>\n",
       "      <td>2021-07-16 09:31:00</td>\n",
       "      <td>NaN</td>\n",
       "      <td>NaN</td>\n",
       "      <td>NaN</td>\n",
       "      <td>NaN</td>\n",
       "      <td>NaN</td>\n",
       "      <td>1234</td>\n",
       "    </tr>\n",
       "    <tr>\n",
       "      <th>3983</th>\n",
       "      <td>3984</td>\n",
       "      <td>2021-07-17 12:10:00</td>\n",
       "      <td>NaN</td>\n",
       "      <td>NaN</td>\n",
       "      <td>NaN</td>\n",
       "      <td>NaN</td>\n",
       "      <td>NaN</td>\n",
       "      <td>1234</td>\n",
       "    </tr>\n",
       "  </tbody>\n",
       "</table>\n",
       "<p>3984 rows × 8 columns</p>\n",
       "</div>"
      ],
      "text/plain": [
       "      unnamed0                time  scan  hist  strip  value food  user_id\n",
       "0            1 2021-05-30 16:59:00   NaN  69.0    NaN   69.0  NaN     1234\n",
       "1            2 2021-05-30 17:14:00   NaN  66.0    NaN   66.0  NaN     1234\n",
       "2            3 2021-05-30 17:30:00   NaN  62.0    NaN   62.0  NaN     1234\n",
       "3            4 2021-05-30 17:45:00   NaN  60.0    NaN   60.0  NaN     1234\n",
       "4            5 2021-05-30 18:00:00   NaN  62.0    NaN   62.0  NaN     1234\n",
       "...        ...                 ...   ...   ...    ...    ...  ...      ...\n",
       "3979      3980 2021-07-12 19:27:00   NaN   NaN    NaN    NaN  NaN     1234\n",
       "3980      3981 2021-07-13 11:25:00   NaN   NaN    NaN    NaN  NaN     1234\n",
       "3981      3982 2021-07-15 14:17:00   NaN   NaN    NaN    NaN  NaN     1234\n",
       "3982      3983 2021-07-16 09:31:00   NaN   NaN    NaN    NaN  NaN     1234\n",
       "3983      3984 2021-07-17 12:10:00   NaN   NaN    NaN    NaN  NaN     1234\n",
       "\n",
       "[3984 rows x 8 columns]"
      ]
     },
     "execution_count": 902,
     "metadata": {},
     "output_type": "execute_result"
    }
   ],
   "source": [
    "# Retirando linhas duplicadas e formatamos o tipo de dados\n",
    "\n",
    "df_raw['time'] = pd.to_datetime(df_raw['time'], errors = 'coerce') # convertemos a coluna 'time' para o tipo datetime\n",
    "df_raw['value'] = pd.to_numeric(df_raw['value'], errors = 'coerce') # a coluna 'value' se torna numérica\n",
    "\n",
    "# OBS: errors = 'coerce' faz com que elementos que não estejam num formato válido para\n",
    "# serem convertidos para datetime retornem NaT, e os que não possam ser convertidos para\n",
    "# int ou float (numérico) retornem NaN.\n",
    "\n",
    "df_raw\n"
   ]
  },
  {
   "cell_type": "code",
   "execution_count": 903,
   "id": "eae39c77",
   "metadata": {},
   "outputs": [
    {
     "data": {
      "text/html": [
       "<div>\n",
       "<style scoped>\n",
       "    .dataframe tbody tr th:only-of-type {\n",
       "        vertical-align: middle;\n",
       "    }\n",
       "\n",
       "    .dataframe tbody tr th {\n",
       "        vertical-align: top;\n",
       "    }\n",
       "\n",
       "    .dataframe thead th {\n",
       "        text-align: right;\n",
       "    }\n",
       "</style>\n",
       "<table border=\"1\" class=\"dataframe\">\n",
       "  <thead>\n",
       "    <tr style=\"text-align: right;\">\n",
       "      <th></th>\n",
       "      <th>time</th>\n",
       "      <th>value</th>\n",
       "    </tr>\n",
       "  </thead>\n",
       "  <tbody>\n",
       "    <tr>\n",
       "      <th>0</th>\n",
       "      <td>2021-05-30 15:57:00</td>\n",
       "      <td>NaN</td>\n",
       "    </tr>\n",
       "    <tr>\n",
       "      <th>1</th>\n",
       "      <td>2021-05-30 16:58:00</td>\n",
       "      <td>NaN</td>\n",
       "    </tr>\n",
       "    <tr>\n",
       "      <th>2</th>\n",
       "      <td>2021-05-30 16:59:00</td>\n",
       "      <td>69.0</td>\n",
       "    </tr>\n",
       "    <tr>\n",
       "      <th>3</th>\n",
       "      <td>2021-05-30 17:02:00</td>\n",
       "      <td>NaN</td>\n",
       "    </tr>\n",
       "    <tr>\n",
       "      <th>4</th>\n",
       "      <td>2021-05-30 17:14:00</td>\n",
       "      <td>NaN</td>\n",
       "    </tr>\n",
       "    <tr>\n",
       "      <th>...</th>\n",
       "      <td>...</td>\n",
       "      <td>...</td>\n",
       "    </tr>\n",
       "    <tr>\n",
       "      <th>3880</th>\n",
       "      <td>2021-07-20 06:55:00</td>\n",
       "      <td>77.0</td>\n",
       "    </tr>\n",
       "    <tr>\n",
       "      <th>3881</th>\n",
       "      <td>2021-07-20 07:10:00</td>\n",
       "      <td>80.0</td>\n",
       "    </tr>\n",
       "    <tr>\n",
       "      <th>3882</th>\n",
       "      <td>2021-07-20 07:25:00</td>\n",
       "      <td>83.0</td>\n",
       "    </tr>\n",
       "    <tr>\n",
       "      <th>3883</th>\n",
       "      <td>2021-07-20 07:40:00</td>\n",
       "      <td>82.0</td>\n",
       "    </tr>\n",
       "    <tr>\n",
       "      <th>3884</th>\n",
       "      <td>2021-07-20 07:59:00</td>\n",
       "      <td>NaN</td>\n",
       "    </tr>\n",
       "  </tbody>\n",
       "</table>\n",
       "<p>3885 rows × 2 columns</p>\n",
       "</div>"
      ],
      "text/plain": [
       "                    time  value\n",
       "0    2021-05-30 15:57:00    NaN\n",
       "1    2021-05-30 16:58:00    NaN\n",
       "2    2021-05-30 16:59:00   69.0\n",
       "3    2021-05-30 17:02:00    NaN\n",
       "4    2021-05-30 17:14:00    NaN\n",
       "...                  ...    ...\n",
       "3880 2021-07-20 06:55:00   77.0\n",
       "3881 2021-07-20 07:10:00   80.0\n",
       "3882 2021-07-20 07:25:00   83.0\n",
       "3883 2021-07-20 07:40:00   82.0\n",
       "3884 2021-07-20 07:59:00    NaN\n",
       "\n",
       "[3885 rows x 2 columns]"
      ]
     },
     "execution_count": 903,
     "metadata": {},
     "output_type": "execute_result"
    }
   ],
   "source": [
    "# A coluna 'unnamed0' faz a contagem das linhas, o que um dataframe do python já recebe automaticamente,\n",
    "# por isso, iremos excluí-la. De restante, iremos trabalhar apenas com 'time' e 'value', portanto, as demais\n",
    "# variáveis também serão deletadas.\n",
    "\n",
    "df_raw = df_raw.drop(columns=['unnamed0', 'strip', 'hist', 'scan', 'food', 'user_id'])\n",
    "df_raw = df_raw.dropna(subset=['time'])\n",
    "df_raw.drop_duplicates(inplace=True) # com inplace = True, o objeto df_raw já é substituído\n",
    "                                     # pelo novo dataframe sem as duplicatas, ao invés de\n",
    "                                     # ser feita uma cópia com as alterações (inplace = False)\n",
    "df_raw = df_raw.sort_values(by='time').reset_index(drop=True) \n",
    "df_raw"
   ]
  },
  {
   "cell_type": "markdown",
   "id": "634bba65",
   "metadata": {},
   "source": [
    "## 4. Eliminando os valores nulos e absurdos"
   ]
  },
  {
   "cell_type": "code",
   "execution_count": 904,
   "id": "1da46773",
   "metadata": {},
   "outputs": [
    {
     "data": {
      "text/html": [
       "<div>\n",
       "<style scoped>\n",
       "    .dataframe tbody tr th:only-of-type {\n",
       "        vertical-align: middle;\n",
       "    }\n",
       "\n",
       "    .dataframe tbody tr th {\n",
       "        vertical-align: top;\n",
       "    }\n",
       "\n",
       "    .dataframe thead th {\n",
       "        text-align: right;\n",
       "    }\n",
       "</style>\n",
       "<table border=\"1\" class=\"dataframe\">\n",
       "  <thead>\n",
       "    <tr style=\"text-align: right;\">\n",
       "      <th></th>\n",
       "      <th>time</th>\n",
       "      <th>value</th>\n",
       "    </tr>\n",
       "  </thead>\n",
       "  <tbody>\n",
       "    <tr>\n",
       "      <th>0</th>\n",
       "      <td>2021-05-30 15:57:00</td>\n",
       "      <td>NaN</td>\n",
       "    </tr>\n",
       "    <tr>\n",
       "      <th>1</th>\n",
       "      <td>2021-05-30 16:58:00</td>\n",
       "      <td>NaN</td>\n",
       "    </tr>\n",
       "    <tr>\n",
       "      <th>3</th>\n",
       "      <td>2021-05-30 17:02:00</td>\n",
       "      <td>NaN</td>\n",
       "    </tr>\n",
       "    <tr>\n",
       "      <th>4</th>\n",
       "      <td>2021-05-30 17:14:00</td>\n",
       "      <td>NaN</td>\n",
       "    </tr>\n",
       "    <tr>\n",
       "      <th>7</th>\n",
       "      <td>2021-05-30 17:42:00</td>\n",
       "      <td>NaN</td>\n",
       "    </tr>\n",
       "    <tr>\n",
       "      <th>...</th>\n",
       "      <td>...</td>\n",
       "      <td>...</td>\n",
       "    </tr>\n",
       "    <tr>\n",
       "      <th>3801</th>\n",
       "      <td>2021-07-19 08:17:00</td>\n",
       "      <td>NaN</td>\n",
       "    </tr>\n",
       "    <tr>\n",
       "      <th>3834</th>\n",
       "      <td>2021-07-19 16:39:00</td>\n",
       "      <td>NaN</td>\n",
       "    </tr>\n",
       "    <tr>\n",
       "      <th>3845</th>\n",
       "      <td>2021-07-19 19:20:00</td>\n",
       "      <td>NaN</td>\n",
       "    </tr>\n",
       "    <tr>\n",
       "      <th>3852</th>\n",
       "      <td>2021-07-19 20:54:00</td>\n",
       "      <td>NaN</td>\n",
       "    </tr>\n",
       "    <tr>\n",
       "      <th>3884</th>\n",
       "      <td>2021-07-20 07:59:00</td>\n",
       "      <td>NaN</td>\n",
       "    </tr>\n",
       "  </tbody>\n",
       "</table>\n",
       "<p>324 rows × 2 columns</p>\n",
       "</div>"
      ],
      "text/plain": [
       "                    time  value\n",
       "0    2021-05-30 15:57:00    NaN\n",
       "1    2021-05-30 16:58:00    NaN\n",
       "3    2021-05-30 17:02:00    NaN\n",
       "4    2021-05-30 17:14:00    NaN\n",
       "7    2021-05-30 17:42:00    NaN\n",
       "...                  ...    ...\n",
       "3801 2021-07-19 08:17:00    NaN\n",
       "3834 2021-07-19 16:39:00    NaN\n",
       "3845 2021-07-19 19:20:00    NaN\n",
       "3852 2021-07-19 20:54:00    NaN\n",
       "3884 2021-07-20 07:59:00    NaN\n",
       "\n",
       "[324 rows x 2 columns]"
      ]
     },
     "execution_count": 904,
     "metadata": {},
     "output_type": "execute_result"
    }
   ],
   "source": [
    "# Visualizar o dataframe df_raw nas posições em que as linhas de 'value' não têm valores computados (NaN). \n",
    "# Percebemos que a ausência de valores ocorre da posição 3562 em diante do dataframe.\n",
    "\n",
    "df_raw[df_raw['value'].isnull()]"
   ]
  },
  {
   "cell_type": "code",
   "execution_count": 905,
   "id": "e5ce0a0e",
   "metadata": {},
   "outputs": [
    {
     "name": "stdout",
     "output_type": "stream",
     "text": [
      "Valores nulos antes: \n",
      "\n",
      "time       0\n",
      "value    324\n",
      "dtype: int64\n"
     ]
    }
   ],
   "source": [
    "# Contagem de quantos valores nulos (NaN ou NaT) temos em cada coluna de df_raw\n",
    "# df_raw.isnull() retorna um dataframe com True e False em cada célula. True, se a célula tem\n",
    "# valor NaN ou NaT, e False em caso contrário. O método sum(axis = 0) soma a quantidade de cada coluna.\n",
    "# Como True corresponde ao valor 1 e False a 0, teremos assim a soma dos valores nulos.\n",
    "\n",
    "print('Valores nulos antes: \\n')\n",
    "print(df_raw.isnull().sum(axis = 0))"
   ]
  },
  {
   "cell_type": "code",
   "execution_count": null,
   "id": "59d2787f",
   "metadata": {},
   "outputs": [
    {
     "data": {
      "text/html": [
       "<div>\n",
       "<style scoped>\n",
       "    .dataframe tbody tr th:only-of-type {\n",
       "        vertical-align: middle;\n",
       "    }\n",
       "\n",
       "    .dataframe tbody tr th {\n",
       "        vertical-align: top;\n",
       "    }\n",
       "\n",
       "    .dataframe thead th {\n",
       "        text-align: right;\n",
       "    }\n",
       "</style>\n",
       "<table border=\"1\" class=\"dataframe\">\n",
       "  <thead>\n",
       "    <tr style=\"text-align: right;\">\n",
       "      <th></th>\n",
       "      <th>time</th>\n",
       "      <th>value</th>\n",
       "      <th>diff_dias</th>\n",
       "    </tr>\n",
       "  </thead>\n",
       "  <tbody>\n",
       "    <tr>\n",
       "      <th>0</th>\n",
       "      <td>2021-05-30 15:57:00</td>\n",
       "      <td>NaN</td>\n",
       "      <td>NaN</td>\n",
       "    </tr>\n",
       "    <tr>\n",
       "      <th>1</th>\n",
       "      <td>2021-05-30 16:58:00</td>\n",
       "      <td>NaN</td>\n",
       "      <td>0.042361</td>\n",
       "    </tr>\n",
       "    <tr>\n",
       "      <th>2</th>\n",
       "      <td>2021-05-30 16:59:00</td>\n",
       "      <td>69.0</td>\n",
       "      <td>0.000694</td>\n",
       "    </tr>\n",
       "    <tr>\n",
       "      <th>3</th>\n",
       "      <td>2021-05-30 17:02:00</td>\n",
       "      <td>NaN</td>\n",
       "      <td>0.002083</td>\n",
       "    </tr>\n",
       "    <tr>\n",
       "      <th>4</th>\n",
       "      <td>2021-05-30 17:14:00</td>\n",
       "      <td>NaN</td>\n",
       "      <td>0.008333</td>\n",
       "    </tr>\n",
       "    <tr>\n",
       "      <th>...</th>\n",
       "      <td>...</td>\n",
       "      <td>...</td>\n",
       "      <td>...</td>\n",
       "    </tr>\n",
       "    <tr>\n",
       "      <th>3880</th>\n",
       "      <td>2021-07-20 06:55:00</td>\n",
       "      <td>77.0</td>\n",
       "      <td>0.010417</td>\n",
       "    </tr>\n",
       "    <tr>\n",
       "      <th>3881</th>\n",
       "      <td>2021-07-20 07:10:00</td>\n",
       "      <td>80.0</td>\n",
       "      <td>0.010417</td>\n",
       "    </tr>\n",
       "    <tr>\n",
       "      <th>3882</th>\n",
       "      <td>2021-07-20 07:25:00</td>\n",
       "      <td>83.0</td>\n",
       "      <td>0.010417</td>\n",
       "    </tr>\n",
       "    <tr>\n",
       "      <th>3883</th>\n",
       "      <td>2021-07-20 07:40:00</td>\n",
       "      <td>82.0</td>\n",
       "      <td>0.010417</td>\n",
       "    </tr>\n",
       "    <tr>\n",
       "      <th>3884</th>\n",
       "      <td>2021-07-20 07:59:00</td>\n",
       "      <td>NaN</td>\n",
       "      <td>0.013194</td>\n",
       "    </tr>\n",
       "  </tbody>\n",
       "</table>\n",
       "<p>3885 rows × 3 columns</p>\n",
       "</div>"
      ],
      "text/plain": [
       "                    time  value  diff_dias\n",
       "0    2021-05-30 15:57:00    NaN        NaN\n",
       "1    2021-05-30 16:58:00    NaN   0.042361\n",
       "2    2021-05-30 16:59:00   69.0   0.000694\n",
       "3    2021-05-30 17:02:00    NaN   0.002083\n",
       "4    2021-05-30 17:14:00    NaN   0.008333\n",
       "...                  ...    ...        ...\n",
       "3880 2021-07-20 06:55:00   77.0   0.010417\n",
       "3881 2021-07-20 07:10:00   80.0   0.010417\n",
       "3882 2021-07-20 07:25:00   83.0   0.010417\n",
       "3883 2021-07-20 07:40:00   82.0   0.010417\n",
       "3884 2021-07-20 07:59:00    NaN   0.013194\n",
       "\n",
       "[3885 rows x 3 columns]"
      ]
     },
     "execution_count": 906,
     "metadata": {},
     "output_type": "execute_result"
    }
   ],
   "source": [
    "df_raw['diff_dias'] = (df_raw['time'].diff().dt.total_seconds())/(24 * 60 * 60)\n",
    "\n",
    "hiato = 1 # 1 dia\n",
    "indices_fim_hiato_anterior = df_raw[df_raw['diff_dias'] >= hiato].index - 1\n",
    "indices_inicio_hiato_proximo = df_raw[df_raw['diff_dias'] >= hiato].index\n",
    "\n",
    "linhas_a_adicionar = []\n",
    "\n",
    "for i in range(len(indices_fim_hiato_anterior)):\n",
    "    idx_fim_anterior = indices_fim_hiato_anterior[i] #indice 10\n",
    "    idx_inicio_proximo = indices_inicio_hiato_proximo[i] #indice 9\n",
    "\n",
    "    start_time = df_raw.loc[idx_fim_anterior, 'time'] #valor do dataframe na coluna 'time' na posição 9\n",
    "    end_time = df_raw.loc[idx_inicio_proximo, 'time'] #na 10\n",
    "\n",
    "    range_preenchimento = pd.date_range(start=start_time + pd.Timedelta(minutes=20),\n",
    "                                        end=end_time - pd.Timedelta(minutes=20), # -1 minuto para garantir que não inclui end_time se for exato\n",
    "                                        freq='20min')\n",
    "    for timestamp in range_preenchimento:\n",
    "        linhas_a_adicionar.append({'time': timestamp, 'value': np.nan})\n",
    "\n",
    "df_raw\n",
    "\n"
   ]
  },
  {
   "cell_type": "code",
   "execution_count": 907,
   "id": "83befe95",
   "metadata": {},
   "outputs": [
    {
     "data": {
      "text/html": [
       "<div>\n",
       "<style scoped>\n",
       "    .dataframe tbody tr th:only-of-type {\n",
       "        vertical-align: middle;\n",
       "    }\n",
       "\n",
       "    .dataframe tbody tr th {\n",
       "        vertical-align: top;\n",
       "    }\n",
       "\n",
       "    .dataframe thead th {\n",
       "        text-align: right;\n",
       "    }\n",
       "</style>\n",
       "<table border=\"1\" class=\"dataframe\">\n",
       "  <thead>\n",
       "    <tr style=\"text-align: right;\">\n",
       "      <th></th>\n",
       "      <th>time</th>\n",
       "      <th>value</th>\n",
       "    </tr>\n",
       "  </thead>\n",
       "  <tbody>\n",
       "    <tr>\n",
       "      <th>0</th>\n",
       "      <td>2021-05-30 15:57:00</td>\n",
       "      <td>NaN</td>\n",
       "    </tr>\n",
       "    <tr>\n",
       "      <th>1</th>\n",
       "      <td>2021-05-30 16:58:00</td>\n",
       "      <td>NaN</td>\n",
       "    </tr>\n",
       "    <tr>\n",
       "      <th>2</th>\n",
       "      <td>2021-05-30 16:59:00</td>\n",
       "      <td>69.0</td>\n",
       "    </tr>\n",
       "    <tr>\n",
       "      <th>3</th>\n",
       "      <td>2021-05-30 17:02:00</td>\n",
       "      <td>NaN</td>\n",
       "    </tr>\n",
       "    <tr>\n",
       "      <th>4</th>\n",
       "      <td>2021-05-30 17:14:00</td>\n",
       "      <td>NaN</td>\n",
       "    </tr>\n",
       "    <tr>\n",
       "      <th>...</th>\n",
       "      <td>...</td>\n",
       "      <td>...</td>\n",
       "    </tr>\n",
       "    <tr>\n",
       "      <th>4324</th>\n",
       "      <td>2021-07-20 06:55:00</td>\n",
       "      <td>77.0</td>\n",
       "    </tr>\n",
       "    <tr>\n",
       "      <th>4325</th>\n",
       "      <td>2021-07-20 07:10:00</td>\n",
       "      <td>80.0</td>\n",
       "    </tr>\n",
       "    <tr>\n",
       "      <th>4326</th>\n",
       "      <td>2021-07-20 07:25:00</td>\n",
       "      <td>83.0</td>\n",
       "    </tr>\n",
       "    <tr>\n",
       "      <th>4327</th>\n",
       "      <td>2021-07-20 07:40:00</td>\n",
       "      <td>82.0</td>\n",
       "    </tr>\n",
       "    <tr>\n",
       "      <th>4328</th>\n",
       "      <td>2021-07-20 07:59:00</td>\n",
       "      <td>NaN</td>\n",
       "    </tr>\n",
       "  </tbody>\n",
       "</table>\n",
       "<p>4329 rows × 2 columns</p>\n",
       "</div>"
      ],
      "text/plain": [
       "                    time  value\n",
       "0    2021-05-30 15:57:00    NaN\n",
       "1    2021-05-30 16:58:00    NaN\n",
       "2    2021-05-30 16:59:00   69.0\n",
       "3    2021-05-30 17:02:00    NaN\n",
       "4    2021-05-30 17:14:00    NaN\n",
       "...                  ...    ...\n",
       "4324 2021-07-20 06:55:00   77.0\n",
       "4325 2021-07-20 07:10:00   80.0\n",
       "4326 2021-07-20 07:25:00   83.0\n",
       "4327 2021-07-20 07:40:00   82.0\n",
       "4328 2021-07-20 07:59:00    NaN\n",
       "\n",
       "[4329 rows x 2 columns]"
      ]
     },
     "execution_count": 907,
     "metadata": {},
     "output_type": "execute_result"
    }
   ],
   "source": [
    "df_novas_linhas = pd.DataFrame(linhas_a_adicionar)\n",
    "df_raw = pd.concat([df_raw.drop(columns=['diff_dias']), df_novas_linhas], ignore_index=True)\n",
    "df_raw = df_raw.sort_values(by='time').reset_index(drop=True)\n",
    "\n",
    "a = df_raw.copy()\n",
    "a.to_csv('meu_dataframe_salvo4.csv', index=False, encoding='utf-8')\n",
    "df_raw\n"
   ]
  },
  {
   "cell_type": "code",
   "execution_count": 908,
   "id": "21b251a2",
   "metadata": {},
   "outputs": [
    {
     "name": "stdout",
     "output_type": "stream",
     "text": [
      "Valores nulos depois: \n",
      "\n",
      "time       0\n",
      "value    768\n",
      "dtype: int64\n"
     ]
    }
   ],
   "source": [
    "print('Valores nulos depois: \\n')\n",
    "print(df_raw.isnull().sum())"
   ]
  },
  {
   "cell_type": "markdown",
   "id": "789ce2f0",
   "metadata": {},
   "source": [
    "## 5. Granulação de 'time' em 'date', 'hour', 'hour_minute', 'weekday' e 'hour_cont'"
   ]
  },
  {
   "cell_type": "code",
   "execution_count": 909,
   "id": "9d52b7f4",
   "metadata": {},
   "outputs": [],
   "source": [
    "df_raw['time'] = pd.to_datetime(df_raw['time'])\n",
    "df_raw['date'] = df_raw['time'].dt.date \n",
    "\n",
    "# valor inteiro das horas, para representações diretas\n",
    "df_raw['hour'] = df_raw['time'].dt.hour\n",
    "\n",
    "df_raw['hour_minute'] = df_raw['time'].dt.strftime('%H:%M')\n",
    "df_raw['weekday'] = df_raw['time'].dt.day_name()\n",
    "\n",
    "# horas com fração decimal, para usar em modelos estatísticos\n",
    "df_raw['hour_cont'] = (df_raw['time'].dt.hour + df_raw['time'].dt.minute / 60).round(2)\n"
   ]
  },
  {
   "cell_type": "markdown",
   "id": "db483163",
   "metadata": {},
   "source": [
    "## 6. Organização final da tabela"
   ]
  },
  {
   "cell_type": "code",
   "execution_count": 910,
   "id": "ce8070af",
   "metadata": {},
   "outputs": [],
   "source": [
    "df_raw = df_raw[['time', 'date', 'hour_minute', 'value', 'weekday', 'hour', 'hour_cont']]\n",
    "df_raw\n",
    "\n",
    "b = df_raw.copy()\n",
    "b.to_csv('meu_dataframe_salvo2.csv', index=False, encoding='utf-8')"
   ]
  },
  {
   "cell_type": "code",
   "execution_count": null,
   "id": "b85b6454",
   "metadata": {},
   "outputs": [],
   "source": [
    "jan_amost = 3\n",
    "ini_jan = "
   ]
  },
  {
   "cell_type": "code",
   "execution_count": 911,
   "id": "70964b51",
   "metadata": {},
   "outputs": [
    {
     "name": "stdout",
     "output_type": "stream",
     "text": [
      "\n",
      "--- DataFrame Após Preenchimento por Sorteio (Solução Robustada) ---\n",
      "                    time        date hour_minute  value  weekday  hour  \\\n",
      "0    2021-05-30 15:57:00  2021-05-30       15:57   69.0   Sunday    15   \n",
      "1    2021-05-30 16:58:00  2021-05-30       16:58   65.0   Sunday    16   \n",
      "2    2021-05-30 16:59:00  2021-05-30       16:59   69.0   Sunday    16   \n",
      "3    2021-05-30 17:02:00  2021-05-30       17:02   70.0   Sunday    17   \n",
      "4    2021-05-30 17:14:00  2021-05-30       17:14   88.0   Sunday    17   \n",
      "...                  ...         ...         ...    ...      ...   ...   \n",
      "4324 2021-07-20 06:55:00  2021-07-20       06:55   77.0  Tuesday     6   \n",
      "4325 2021-07-20 07:10:00  2021-07-20       07:10   80.0  Tuesday     7   \n",
      "4326 2021-07-20 07:25:00  2021-07-20       07:25   83.0  Tuesday     7   \n",
      "4327 2021-07-20 07:40:00  2021-07-20       07:40   82.0  Tuesday     7   \n",
      "4328 2021-07-20 07:59:00  2021-07-20       07:59   74.0  Tuesday     7   \n",
      "\n",
      "      hour_cont  \n",
      "0         15.95  \n",
      "1         16.97  \n",
      "2         16.98  \n",
      "3         17.03  \n",
      "4         17.23  \n",
      "...         ...  \n",
      "4324       6.92  \n",
      "4325       7.17  \n",
      "4326       7.42  \n",
      "4327       7.67  \n",
      "4328       7.98  \n",
      "\n",
      "[4329 rows x 7 columns]\n",
      "\n",
      "NaNs em 'value' após sorteio: 0\n",
      "----------------------------------------------------------------------\n"
     ]
    }
   ],
   "source": [
    "# Primeiro, vamos identificar todos os NaNs e a hora correspondente\n",
    "nan_mask = df_raw['value'].isna()\n",
    "nan_rows = df_raw[nan_mask]\n",
    "\n",
    "# Dicionário para armazenar os valores válidos por hora\n",
    "hourly_valid_values = {}\n",
    "for hour_val in df_raw['hour'].unique():\n",
    "    # Coleta todos os valores NÃO-NaN para essa hora específica\n",
    "    valid_values_for_hour = df_raw[df_raw['hour'] == hour_val]['value'].dropna()\n",
    "    if not valid_values_for_hour.empty:\n",
    "        hourly_valid_values[hour_val] = valid_values_for_hour.tolist() # Converte para lista para np.random.choice\n",
    "\n",
    "# Criar uma cópia para trabalhar nela\n",
    "df_raw_filled = df_raw.copy()\n",
    "\n",
    "# Preencher os NaNs iterando apenas sobre as linhas com NaN\n",
    "for idx, row in nan_rows.iterrows():\n",
    "    current_hour = row['hour']\n",
    "    \n",
    "    # Verifica se existem valores válidos para sortear para essa hora\n",
    "    if current_hour in hourly_valid_values and hourly_valid_values[current_hour]:\n",
    "        # Sorteia um valor da lista de valores válidos para a hora atual\n",
    "        sorted_value = np.random.choice(hourly_valid_values[current_hour])\n",
    "        df_raw_filled.loc[idx, 'value'] = sorted_value\n",
    "    else:\n",
    "        # Se não há valores válidos para a hora, o NaN permanece (ou você pode preencher com outra estratégia)\n",
    "        pass # Deixa como NaN ou implementa outra lógica de fillna\n",
    "\n",
    "# 4. Verificar o resultado\n",
    "print(\"\\n--- DataFrame Após Preenchimento por Sorteio (Solução Robustada) ---\")\n",
    "print(df_raw_filled)\n",
    "print(f\"\\nNaNs em 'value' após sorteio: {df_raw_filled['value'].isnull().sum()}\")\n",
    "print(\"-\" * 70)\n",
    "\n",
    "c = df_raw_filled.copy()\n",
    "c.to_csv('meu_dataframe_salvo3.csv', index=False, encoding='utf-8')"
   ]
  },
  {
   "cell_type": "markdown",
   "id": "da0258b7",
   "metadata": {},
   "source": [
    "<div style=\"text-align: center;\">\n",
    "  \n",
    "# 🔍 Análise Exploratória de Dados\n",
    "\n",
    "</div>"
   ]
  },
  {
   "cell_type": "code",
   "execution_count": 912,
   "id": "1e4c4f8e",
   "metadata": {},
   "outputs": [
    {
     "name": "stdout",
     "output_type": "stream",
     "text": [
      "Quantidade de linhas e colunas:\n",
      " (4329, 7) \n",
      "\n",
      "---\n",
      "\n",
      "Colunas presentes:\n",
      " Index(['time', 'date', 'hour_minute', 'value', 'weekday', 'hour', 'hour_cont'], dtype='object') \n",
      "---\n",
      "\n",
      "Tipo de dados:\n",
      " time           datetime64[ns]\n",
      "date                   object\n",
      "hour_minute            object\n",
      "value                 float64\n",
      "weekday                object\n",
      "hour                    int32\n",
      "hour_cont             float64\n",
      "dtype: object \n",
      "\n",
      "---\n",
      "\n",
      "Quantidade de dados únicos:\n",
      " time           4311\n",
      "date             52\n",
      "hour_minute    1375\n",
      "value           121\n",
      "weekday           7\n",
      "hour             24\n",
      "hour_cont      1375\n",
      "dtype: int64\n"
     ]
    }
   ],
   "source": [
    "print('Quantidade de linhas e colunas:\\n', df_raw.shape, '\\n\\n---\\n')\n",
    "print('Colunas presentes:\\n', df_raw.columns, '\\n---\\n')\n",
    "print('Tipo de dados:\\n', df_raw.dtypes, '\\n\\n---\\n')\n",
    "print('Quantidade de dados únicos:\\n', df_raw.nunique())"
   ]
  },
  {
   "cell_type": "code",
   "execution_count": 913,
   "id": "e6642d99",
   "metadata": {},
   "outputs": [
    {
     "data": {
      "text/plain": [
       "count    3561.0\n",
       "mean       77.8\n",
       "std        17.0\n",
       "min        40.0\n",
       "25%        68.0\n",
       "50%        76.0\n",
       "75%        84.0\n",
       "max       223.0\n",
       "Name: value, dtype: float64"
      ]
     },
     "execution_count": 913,
     "metadata": {},
     "output_type": "execute_result"
    }
   ],
   "source": [
    "df_raw['value'].describe().round(1)"
   ]
  },
  {
   "cell_type": "code",
   "execution_count": 914,
   "id": "54ed2965",
   "metadata": {},
   "outputs": [
    {
     "name": "stdout",
     "output_type": "stream",
     "text": [
      "Quantidade de aparições dos valores medidos para glucose no fluido intersticial (mg/dL)\n"
     ]
    },
    {
     "data": {
      "text/plain": [
       "Text(0.5, 0, 'Glicose (mg/dL)')"
      ]
     },
     "execution_count": 914,
     "metadata": {},
     "output_type": "execute_result"
    },
    {
     "data": {
      "image/png": "[encoded data removed]",
      "text/plain": [
       "<Figure size 640x480 with 1 Axes>"
      ]
     },
     "metadata": {},
     "output_type": "display_data"
    }
   ],
   "source": [
    "print('Quantidade de aparições dos valores medidos para glucose no fluido intersticial (mg/dL)')\n",
    "sns.histplot(df_raw['value'], kde=True)\n",
    "plt.ylabel('Número de aparições')\n",
    "plt.xlabel('Glicose (mg/dL)')"
   ]
  },
  {
   "cell_type": "code",
   "execution_count": 915,
   "id": "0208cf2c",
   "metadata": {},
   "outputs": [
    {
     "name": "stdout",
     "output_type": "stream",
     "text": [
      "Quantidade de medições por dia da semana\n"
     ]
    },
    {
     "data": {
      "text/plain": [
       "Text(0.5, 0, 'Dia da semana')"
      ]
     },
     "execution_count": 915,
     "metadata": {},
     "output_type": "execute_result"
    },
    {
     "data": {
      "image/png": "[encoded data removed]",
      "text/plain": [
       "<Figure size 640x480 with 1 Axes>"
      ]
     },
     "metadata": {},
     "output_type": "display_data"
    }
   ],
   "source": [
    "print('Quantidade de medições por dia da semana')\n",
    "df_raw['weekday'].value_counts().plot.bar()\n",
    "plt.ylabel('Quantidade de medições')\n",
    "plt.xlabel('Dia da semana')"
   ]
  },
  {
   "cell_type": "code",
   "execution_count": 918,
   "id": "267dddb0",
   "metadata": {},
   "outputs": [
    {
     "name": "stdout",
     "output_type": "stream",
     "text": [
      "Média das medições nos dias em que houve aferição\n"
     ]
    },
    {
     "data": {
      "text/plain": [
       "Text(0.5, 0, 'Data')"
      ]
     },
     "execution_count": 918,
     "metadata": {},
     "output_type": "execute_result"
    },
    {
     "data": {
      "image/png": "[encoded data removed]",
      "text/plain": [
       "<Figure size 640x480 with 1 Axes>"
      ]
     },
     "metadata": {},
     "output_type": "display_data"
    }
   ],
   "source": [
    "print('Média das medições nos dias em que houve aferição')\n",
    "df_raw_filled.groupby('time')['value'].mean().plot()\n",
    "plt.ylabel('Glicose (mg/dL)')\n",
    "plt.xlabel('Data')"
   ]
  },
  {
   "cell_type": "code",
   "execution_count": 917,
   "id": "3ea1815f",
   "metadata": {},
   "outputs": [
    {
     "name": "stdout",
     "output_type": "stream",
     "text": [
      "Número de medições por data\n"
     ]
    },
    {
     "data": {
      "image/png": "[encoded data removed]",
      "text/plain": [
       "<Figure size 1500x400 with 1 Axes>"
      ]
     },
     "metadata": {},
     "output_type": "display_data"
    }
   ],
   "source": [
    "print('Número de medições por data')\n",
    "df_raw_filled.groupby('date').size().plot(kind='bar', figsize=(15, 4), title='Quantidade de medições por data')\n",
    "plt.ylabel('Quantidade de aferições')\n",
    "plt.xlabel('Data')\n",
    "plt.show()"
   ]
  },
  {
   "cell_type": "code",
   "execution_count": null,
   "id": "b7610b08",
   "metadata": {},
   "outputs": [],
   "source": [
    "print('Quantidade de medições por hora')\n",
    "df_raw['hour'].value_counts().plot.bar()\n",
    "contagem_por_hora_ordenada = contagem_por_hora.sort_index()\n",
    "plt.ylabel('Quantidade de medições')\n",
    "plt.xlabel('Dia da semana')"
   ]
  },
  {
   "cell_type": "markdown",
   "id": "9703df6b",
   "metadata": {},
   "source": [
    "## 1. Há relação entre o valor da glicemia (value) e o horário do dia (time)? Em quais horas do dia há maiores picos de glicemia? Em quais horas do dia há menores valores de glicemia? \n"
   ]
  },
  {
   "cell_type": "code",
   "execution_count": null,
   "id": "aa9e1eee",
   "metadata": {},
   "outputs": [],
   "source": [
    "# Valores de média, mínimo e máximo valores de glicemia (mg/dL) por hora do dia\n",
    "df_raw.groupby('hour')['value'].agg(['mean', 'min', 'max']).round(1)"
   ]
  },
  {
   "cell_type": "code",
   "execution_count": null,
   "id": "4f5bb74d",
   "metadata": {},
   "outputs": [],
   "source": [
    "# Gráfico da média de glicemia por hora do dia \n",
    "media_por_hora = df_raw.groupby('hour')['value'].mean()\n",
    "plt.figure(figsize=(10, 5))\n",
    "sns.lineplot(x=media_por_hora.index, y=media_por_hora.values)\n",
    "plt.title('Média de glicemia por hora do dia')\n",
    "plt.xlabel('Hora do dia')\n",
    "plt.ylabel('Glicemia (mg/dL)')\n",
    "plt.grid(True)\n",
    "plt.xticks(range(0, 24))\n",
    "plt.show()"
   ]
  },
  {
   "cell_type": "markdown",
   "id": "265f178b",
   "metadata": {},
   "source": [
    "# 2. Nos dados analisados, qual a porcentagem do tempo o paciente está dentro, acima ou abaixo dos valores de referência ideais? \n",
    "\n",
    "##### Valores ideais:\n",
    "##### TIR time in range: ≥ 70% do tempo entre 70-180 mg/dL\n",
    "##### TBR time below range: < 4% do tempo abaixo de 70 mg/dL\n",
    "##### TBR time very below range: < 1% abaixo de 54 mg/dL\n",
    "##### TAR time above range: < 25% acima de 180 mg/dL"
   ]
  },
  {
   "cell_type": "code",
   "execution_count": null,
   "id": "09272d41",
   "metadata": {},
   "outputs": [],
   "source": [
    "total = len(df_raw)\n",
    "tar = len(df_raw[df_raw['value'] > 180]) / total * 100\n",
    "tir = len(df_raw[(df_raw['value'] >= 70) & (df_raw['value'] <= 180)]) / total * 100\n",
    "tbr = len(df_raw[df_raw['value'] < 70]) / total * 100\n",
    "tvbr = len(df_raw[df_raw['value'] < 54]) / total * 100"
   ]
  },
  {
   "cell_type": "code",
   "execution_count": null,
   "id": "2e8c152a",
   "metadata": {},
   "outputs": [],
   "source": [
    "tar_check = '✔️' if tar < 25 else '❌'\n",
    "tir_check = '✔️' if tir >= 70 else '❌'\n",
    "tbr_check = '✔️' if tbr < 4 else '❌'\n",
    "tvbr_check = '✔️' if tvbr < 1 else '❌'"
   ]
  },
  {
   "cell_type": "code",
   "execution_count": null,
   "id": "86a8ede5",
   "metadata": {},
   "outputs": [],
   "source": [
    "print(f'| TAR time above range      | {tar:.1f}%  | < 25% acima de 180 mg/dL           | {tar_check} |')\n",
    "print(f'| TIR time in range         | {tir:.1f}% |  ≥ 70% do tempo entre 70-180 mg/dL | {tir_check} |')\n",
    "print(f'| TBR time below range      | {tbr:.1f}% | < 4% do tempo abaixo de 70 mg/dL   | {tbr_check} |')\n",
    "print(f'| TBR time very below range | {tvbr:.1f}%  | < 1% abaixo de 54 mg/dL            | {tvbr_check} |')"
   ]
  },
  {
   "cell_type": "markdown",
   "id": "a80b7f74",
   "metadata": {},
   "source": [
    "# 3. Dentro do período de medição, houve algum dia em que a média de glicemia destoou muito do normal? Em quais momentos houve episódios de hiper (>180mg/dL) e hipoglicemia? (<70mg/dL)"
   ]
  },
  {
   "cell_type": "code",
   "execution_count": null,
   "id": "a4a9d46a",
   "metadata": {},
   "outputs": [],
   "source": [
    "from matplotlib.colors import ListedColormap, BoundaryNorm\n",
    "\n",
    "mapa_medicoes = df_raw[['value']]\n",
    "mapa_medicoes = mapa_medicoes.T\n",
    "\n",
    "faixas = [0, 70, 180, df_raw['value'].max() + 1]\n",
    "\n",
    "# Cores suaves e harmônicas:\n",
    "colors = ['#7DA6C1', '#A3C293', '#D46256']\n",
    "cmap = ListedColormap(colors)\n",
    "norm = BoundaryNorm(faixas, cmap.N)\n",
    "\n",
    "# Plot\n",
    "plt.figure(figsize=(20, 2))\n",
    "sns.heatmap(mapa_medicoes, cmap=cmap, norm=norm, cbar_kws={'label': 'Glicose (mg/dL)'})\n",
    "plt.yticks([], [])\n",
    "plt.xlabel(\"Leituras\")\n",
    "plt.title(\"Mapa de calor com destaque para medições individuais acima de 180 e abaixo de 70\")\n",
    "plt.show()\n"
   ]
  },
  {
   "cell_type": "markdown",
   "id": "80a9ad97",
   "metadata": {},
   "source": [
    "# 4. Quão rápido a curva de glicemia tende a voltar para os valores de referência ideais? Há alguma variável que influencia o tempo de retorno?"
   ]
  },
  {
   "cell_type": "markdown",
   "id": "570380f2",
   "metadata": {},
   "source": [
    "# 5. Há diferença significativa da média de glicemia entre dias da semana? (dias úteis, fins de semana)"
   ]
  },
  {
   "cell_type": "code",
   "execution_count": null,
   "id": "c31a377d",
   "metadata": {},
   "outputs": [],
   "source": [
    "from matplotlib.colors import ListedColormap, BoundaryNorm\n",
    "\n",
    "tabela = df_raw.pivot_table(index='hour', columns='weekday', values='value', aggfunc='mean')\n",
    "max_val = df_raw['value'].max()\n",
    "\n",
    "colors = ['#E99A8B', '#A3C293', '#D46256'] \n",
    "glucose_range = [0, 70, 140, max_val + 1]\n",
    "\n",
    "cmap = ListedColormap(colors)\n",
    "norm = BoundaryNorm(glucose_range, cmap.N)\n",
    "\n",
    "plt.figure(figsize=(6, 6))\n",
    "sns.heatmap(tabela, annot=True, fmt=\".1f\", cmap=cmap, norm=norm, cbar_kws={'label': 'Glicose (mg/dL)'})\n",
    "plt.title(\"Glicose média por hora do dia e por dia da semana\")\n",
    "plt.ylabel(\"Hora do dia\")\n",
    "plt.xlabel(\"Dia da semana\")\n",
    "plt.show()"
   ]
  },
  {
   "cell_type": "code",
   "execution_count": null,
   "id": "69da3cf6",
   "metadata": {},
   "outputs": [],
   "source": [
    "media_por_dia = df_raw.groupby('weekday')['value'].mean().reindex([\n",
    "    'Monday', 'Tuesday', 'Wednesday', 'Thursday', 'Friday', 'Saturday', 'Sunday'\n",
    "]).reset_index()\n",
    "\n",
    "mapa_mediageral = pd.DataFrame([media_por_dia['value'].values], columns=media_por_dia['weekday'].values)\n",
    "\n",
    "plt.figure(figsize=(8, 2))\n",
    "sns.heatmap(mapa_mediageral, annot=True, fmt=\".1f\", cmap=\"crest\", cbar_kws={'label': 'Glicose média (mg/dL)'})\n",
    "plt.title(\"Média de glicose no fluido intersticial por dia da semana\")\n",
    "plt.yticks([], []) \n",
    "plt.xlabel(\"Dia da semana\")\n",
    "plt.show()\n"
   ]
  },
  {
   "cell_type": "markdown",
   "id": "fee5a95a",
   "metadata": {},
   "source": [
    "# 6. Há variação de glicemia significativa durante o período noturno e durante a manhã (4h-8h)? (dawn phenomenon)"
   ]
  },
  {
   "cell_type": "code",
   "execution_count": null,
   "id": "66d1a549",
   "metadata": {},
   "outputs": [],
   "source": [
    "# Gráfico da média de glicemia por hora do dia \n",
    "media_por_hora = df_raw.groupby('hour')['value'].mean()\n",
    "plt.figure(figsize=(10, 5))\n",
    "sns.lineplot(x=media_por_hora.index, y=media_por_hora.values)\n",
    "plt.title('Média de glicemia por hora do dia')\n",
    "plt.xlabel('Hora do dia')\n",
    "plt.ylabel('Glicemia (mg/dL)')\n",
    "plt.grid(True)\n",
    "plt.xticks(range(0, 24))\n",
    "plt.show()"
   ]
  },
  {
   "cell_type": "markdown",
   "id": "780ba65c",
   "metadata": {},
   "source": [
    "# 7. Qual a glicemia média geral do período analisado?"
   ]
  },
  {
   "cell_type": "code",
   "execution_count": null,
   "id": "b0eb246e",
   "metadata": {},
   "outputs": [],
   "source": [
    "media_global = df_raw['value'].mean()\n",
    "media_check = '✔️' if media_global > 70 and media_global < 180 else '❌'\n",
    "print('Média geral:', media_global, media_check)"
   ]
  },
  {
   "cell_type": "markdown",
   "id": "c4cbb7e8",
   "metadata": {},
   "source": [
    "# 8. Qual o desvio padrão ou coeficiente de variação (CV%) da glicemia?"
   ]
  },
  {
   "cell_type": "markdown",
   "id": "ab7ccc5e",
   "metadata": {},
   "source": [
    "# 9. Quais dias em que houve mais instabilidade (maior variação)?"
   ]
  },
  {
   "cell_type": "markdown",
   "id": "882e716a",
   "metadata": {},
   "source": [
    "# 10. Há consistência nos dados? É possível prever quais horas do dia haverá oscilações significativas?"
   ]
  },
  {
   "cell_type": "markdown",
   "id": "da4af60d",
   "metadata": {},
   "source": [
    "# 11. Há alguma diferença entre a média da primeira e última metade da amostra? Houve alguma diferença no controle ao longo do mês ou permaneceu constante?"
   ]
  },
  {
   "cell_type": "code",
   "execution_count": null,
   "id": "77dbf126",
   "metadata": {},
   "outputs": [],
   "source": [
    "# 12. Número e duração média dos episódios de hipoglicemia e hiperglicemia\n",
    "# 13. Velocidade média de subida e queda da glicemia\n",
    "# 14. Tempo em hipoglicemia noturna (00h–6h)\n",
    "# 17. Predição simples com regressão ou modelo de baseline"
   ]
  },
  {
   "cell_type": "markdown",
   "id": "1b4a801d",
   "metadata": {},
   "source": [
    "# Predição com regressão linear"
   ]
  },
  {
   "cell_type": "code",
   "execution_count": null,
   "id": "154d9d44",
   "metadata": {},
   "outputs": [],
   "source": [
    "#%pip install scikit-learn"
   ]
  },
  {
   "cell_type": "code",
   "execution_count": null,
   "id": "7c678fc5",
   "metadata": {},
   "outputs": [],
   "source": [
    "import pandas as pd\n",
    "from sklearn.linear_model import LinearRegression\n",
    "from sklearn.model_selection import train_test_split\n",
    "from sklearn.metrics import mean_squared_error, r2_score\n",
    "import matplotlib.pyplot as plt"
   ]
  },
  {
   "cell_type": "code",
   "execution_count": null,
   "id": "47cb6398",
   "metadata": {},
   "outputs": [],
   "source": [
    "x = df_raw[['hour']]\n",
    "y = df_raw['value']"
   ]
  },
  {
   "cell_type": "code",
   "execution_count": null,
   "id": "9c934737",
   "metadata": {},
   "outputs": [],
   "source": [
    "x_treino, x_teste, y_treino, y_teste = train_test_split(x, y, test_size=0.2, random_state=42)"
   ]
  },
  {
   "cell_type": "code",
   "execution_count": null,
   "id": "307d235c",
   "metadata": {},
   "outputs": [],
   "source": [
    "modelo = LinearRegression()\n",
    "modelo.fit(x_treino, y_treino)\n"
   ]
  },
  {
   "cell_type": "code",
   "execution_count": null,
   "id": "e72c1929",
   "metadata": {},
   "outputs": [],
   "source": [
    "y_pred = modelo.predict(x_teste)\n",
    "rmse = np.sqrt(mean_squared_error(y_teste, y_pred))\n",
    "\n",
    "print(\"Coeficiente angular (slope):\", modelo.coef_[0])\n",
    "print(\"Intercepto:\", modelo.intercept_)\n",
    "print(\"R²:\", r2_score(y_teste, y_pred))\n",
    "print(\"RMSE:\", rmse)"
   ]
  },
  {
   "cell_type": "code",
   "execution_count": null,
   "id": "59603b12",
   "metadata": {},
   "outputs": [],
   "source": [
    "plt.scatter(x_teste, y_teste, color='gray', label='Real')\n",
    "plt.plot(x_teste, y_pred, color='blue', linewidth=2, label='Previsão')\n",
    "plt.title('Previsão da glicemia com base na hora do dia')\n",
    "plt.xlabel('Hora do dia')\n",
    "plt.ylabel('Glicemia (mg/dL)')\n",
    "plt.legend()\n",
    "plt.grid(True)\n",
    "plt.show()"
   ]
  },
  {
   "cell_type": "code",
   "execution_count": null,
   "id": "e696bd5b",
   "metadata": {},
   "outputs": [],
   "source": []
  }
 ],
 "metadata": {
  "kernelspec": {
   "display_name": "Python 3",
   "language": "python",
   "name": "python3"
  },
  "language_info": {
   "codemirror_mode": {
    "name": "ipython",
    "version": 3
   },
   "file_extension": ".py",
   "mimetype": "text/x-python",
   "name": "python",
   "nbconvert_exporter": "python",
   "pygments_lexer": "ipython3",
   "version": "3.13.5"
  }
 },
 "nbformat": 4,
 "nbformat_minor": 5
}
