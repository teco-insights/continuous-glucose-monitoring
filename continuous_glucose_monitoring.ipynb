{
 "cells": [
  {
   "cell_type": "markdown",
   "id": "dc6d5f4c",
   "metadata": {},
   "source": [
    "<div style=\"text-align: center;\">\n",
    "  \n",
    "# 🧁 Limpeza e tratamento de dados de CGM (monitoramento contínuo de glicemia)\n",
    "\n",
    "</div>"
   ]
  },
  {
   "cell_type": "markdown",
   "id": "7b5815ac",
   "metadata": {},
   "source": [
    "## 1. Carregando as bibliotecas"
   ]
  },
  {
   "cell_type": "code",
   "execution_count": null,
   "id": "4b08ef7c",
   "metadata": {},
   "outputs": [],
   "source": [
    "#%pip install missingno"
   ]
  },
  {
   "cell_type": "code",
   "execution_count": null,
   "id": "a7f2527f",
   "metadata": {},
   "outputs": [],
   "source": [
    "import pandas as pd\n",
    "import seaborn as sns\n",
    "import matplotlib.pyplot as plt\n",
    "import numpy as np"
   ]
  },
  {
   "cell_type": "markdown",
   "id": "51d404a1",
   "metadata": {},
   "source": [
    "## 2. Extraindo e visualizando o dataframe; padronizando os nomes das variáveis"
   ]
  },
  {
   "cell_type": "code",
   "execution_count": null,
   "id": "bf62036a",
   "metadata": {},
   "outputs": [],
   "source": [
    "# Dataset extraído pelo RStudio através do repositório \n",
    "# https://rdrr.io/github/personalscience/psi-shiny-cgm/man/sample_libreview_df.html\n",
    "df_a = pd.read_csv('./sample_libreview_df_raw.csv')\n",
    "df_raw = df_a.copy()"
   ]
  },
  {
   "cell_type": "code",
   "execution_count": null,
   "id": "671e00bd",
   "metadata": {},
   "outputs": [],
   "source": [
    "'''\n",
    "No atributo columns (do tipo índice) do objeto df_raw, nosso dataframe, iremos formatar\n",
    "todos os seus elementos, isto é, os nomes das colunas. Para isso, utilizamos o acessor .str, \n",
    "que nos permite aplicar métodos de strings para todos os elementos do índice/vetor.\n",
    "Os métodos utilizados são: \n",
    "- lower(): torna todos os caracteres minúsculos;\n",
    "- strip(): remove espaços em branco das extremidades da string;\n",
    "- replace(,): substituímos o elemento da esquerda, sempre que ele aparecer, pelo da \n",
    "direita. No nosso caso, trocamos um espaço em branco por nenhum espaço, e \":\" por nenhum espaço.\n",
    "'''\n",
    "\n",
    "df_raw.columns = df_raw.columns.str.lower().str.strip().str.replace(' ', '').str.replace(':', '')\n",
    "df_raw"
   ]
  },
  {
   "cell_type": "markdown",
   "id": "b6e7a18e",
   "metadata": {},
   "source": [
    "## 3. Certificando os tipos de dados, removendo variáveis desnecessárias e as duplicatas restantes"
   ]
  },
  {
   "cell_type": "code",
   "execution_count": null,
   "id": "0e5ca805",
   "metadata": {},
   "outputs": [],
   "source": [
    "# convertemoscoluna 'time' para o tipo datetime\n",
    "df_raw['time'] = pd.to_datetime(df_raw['time'], errors = 'coerce') \n",
    "# a coluna 'value' se torna numérica\n",
    "df_raw['value'] = pd.to_numeric(df_raw['value'], errors = 'coerce') \n",
    "\n",
    "# OBS: errors = 'coerce' faz com que elementos que não estejam num formato válido para\n",
    "# serem convertidos para datetime retornem NaT, e os que não possam ser convertidos para\n",
    "# int ou float (numérico) retornem NaN.\n",
    "\n",
    "df_raw\n"
   ]
  },
  {
   "cell_type": "code",
   "execution_count": null,
   "id": "eae39c77",
   "metadata": {},
   "outputs": [],
   "source": [
    "# Eliminando as colunas que não serão utilizadas\n",
    "df_raw = df_raw.drop(columns=['unnamed0', 'strip', 'hist', 'scan', 'food', 'user_id'])\n",
    "\n",
    "# Retirando as duplicatas\n",
    "df_raw.drop_duplicates(inplace=True) # com inplace = True, o objeto df_raw já é substituído\n",
    "                                     # pelo novo dataframe sem as duplicatas, ao invés de\n",
    "                                     # ser feita uma cópia com as alterações (inplace = False)\n",
    "\n",
    "# Importante observar que ao removermos colunas, algumas linhas que se diferenciavam por células\n",
    "# correspondentes à estas colunas podem ter se tornado iguais. Por isso, aplicamos o duplicate depois\n",
    "# da remoção."
   ]
  },
  {
   "cell_type": "markdown",
   "id": "634bba65",
   "metadata": {},
   "source": [
    "## 4. Eliminando os valores nulos e absurdos"
   ]
  },
  {
   "cell_type": "code",
   "execution_count": null,
   "id": "e5ce0a0e",
   "metadata": {},
   "outputs": [],
   "source": [
    "# Contagem de quantos valores nulos (NaN ou NaT) temos em cada coluna de df_raw\n",
    "# df_raw.isnull() retorna um dataframe com True e False em cada célula. True, se a célula tem\n",
    "# valor NaN ou NaT, e False em caso contrário. O método sum(axis = 0) soma a quantidade de cada coluna.\n",
    "# Como True corresponde ao valor 1 e False a 0, teremos assim a soma dos valores nulos.\n",
    "\n",
    "print('Valores nulos antes: \\n')\n",
    "print(df_raw.isnull().sum(axis = 0))"
   ]
  },
  {
   "cell_type": "code",
   "execution_count": null,
   "id": "2bda297d",
   "metadata": {},
   "outputs": [],
   "source": [
    "# Excluindo as linhas em que 'time' ou 'value' tem valor nulo\n",
    "df_raw = df_raw.dropna(subset=['time','value'])\n",
    "\n",
    "# Excluindo as linhas em que 'value' tem um possível ruído\n",
    "df_raw = df_raw[(df_raw['value'] > 0) & (df_raw['value'] < 500)]\n",
    "\n",
    "# Organizando o dataframe por 'time' crescente, e resetando os índices, já que\n",
    "# ao excluirmos linhas, a linha com o índice é excluída. Agora, temos índices ordenados e\n",
    "# sequenciados novamente de 0 ao fim do dataframe.\n",
    "df_raw = df_raw.sort_values(by='time').reset_index(drop=True) \n",
    "df_raw"
   ]
  },
  {
   "cell_type": "markdown",
   "id": "c49a435c",
   "metadata": {},
   "source": [
    "## 5. Verificando se há grandes hiatos de tempo em 'time' e preenchendo-os"
   ]
  },
  {
   "cell_type": "code",
   "execution_count": null,
   "id": "59d2787f",
   "metadata": {},
   "outputs": [],
   "source": [
    "# criando uma coluna que mede a diferença em horas entre um elemento de 'time' e o elemento 'anterior'\n",
    "df_raw['diff_horas'] = (df_raw['time'].diff().dt.total_seconds())/(60 * 60)\n",
    "\n",
    "# preencheremos somente hiatos maiores ou iguais a 3 horas\n",
    "hiato = 3\n",
    "\n",
    "# índices dos elementos que estão imediatamente antes de cada hiato\n",
    "inds_i = df_raw[df_raw['diff_horas'] >= hiato].index - 1\n",
    "# índices dos elementos que estão ao fim de cada hiato\n",
    "inds_f = df_raw[df_raw['diff_horas'] >= hiato].index\n",
    "\n",
    "# Número de hiatos:\n",
    "print(f'O total de hiatos de {hiato} horas encontrado foi:', len(inds_i), '\\nIremos preenchê-los com mais marcações.\\n')\n",
    "\n",
    "# Novas linhas, com respectivos datatimes, que iremos adicionar ao df_raw após o processo.\n",
    "# Começamos com uma lista vazia.\n",
    "linhas = []\n",
    "\n",
    "# Pegaremos cada índice de início e fim de hiato, acessaremos o elemento correspondente em 'time' e\n",
    "# faremos o preenchimento desse hiato\n",
    "\n",
    "for i in range(len(inds_i)):\n",
    "    inicio = inds_i[i] # indíce início hiato (rodaremos a lista de indices)\n",
    "    fim = inds_f[i] # indíce fim hiato\n",
    "\n",
    "    start_time = df_raw.loc[inicio, 'time'] # acessando df_raw na coluna 'time' na posição início\n",
    "    end_time = df_raw.loc[fim, 'time'] # na posição fim\n",
    "\n",
    "    # Lista com os timestamps criados\n",
    "    range_time = pd.date_range(start=start_time + pd.Timedelta(minutes=15), # começaremos o preenchimento 15 minutos após início do hiato\n",
    "                                        end=end_time - pd.Timedelta(minutes=15), # terminaremos no máximo até 15 minutos antes do fim do hiato\n",
    "                                        freq='15min') # preencheremos de 15 em 15 minutos esse hiato\n",
    "    \n",
    "    # Colocaremos cada um desses timestamps dentro do dicionário com as chaves 'time'\n",
    "    # e 'value', essas últimas recebendo NaN como valores. O objeto 'linhas' receberá esse dicionário.\n",
    "    for timestamp in range_time:\n",
    "        linhas.append({'time': timestamp, 'value': np.nan}) \n",
    "\n",
    "\n",
    "# O dicionário 'linhas' se torna o dataframe 'df_linhas'\n",
    "df_linhas = pd.DataFrame(linhas)\n",
    "\n",
    "# Concatenamos o dataframe df_raw, mas sem a coluna diff_horas (agora desnecessária), com\n",
    "# o dataframe df_linhas, que tem as mesmas colunas (value e time).\n",
    "# ignore_index = True evita indíces duplicados (exemplo: o indíce 2 em ambos os dataframes), \n",
    "# e reseta o indíce do dataframe concatenado, para que vá de 0 até o último elemento da lista, de maneira sequencial\n",
    "df_raw = pd.concat([df_raw.drop(columns=['diff_horas']), df_linhas], ignore_index=True)\n",
    "\n",
    "# Ordenamos o dataframe por 'time' crescente e mais uma vez resetamos os indíces (a redundância\n",
    "# se deve apenas à uma questão de organização)\n",
    "df_raw = df_raw.sort_values(by='time').reset_index(drop=True)\n",
    "\n",
    "df_raw\n",
    "\n"
   ]
  },
  {
   "cell_type": "markdown",
   "id": "b44d3644",
   "metadata": {},
   "source": [
    "## 6. Atribuindo valores aos novos timestamps criados"
   ]
  },
  {
   "cell_type": "markdown",
   "id": "ac92594c",
   "metadata": {},
   "source": [
    "Em construção!"
   ]
  },
  {
   "cell_type": "code",
   "execution_count": null,
   "id": "25eec9eb",
   "metadata": {},
   "outputs": [],
   "source": [
    "# Consideramos as últimas 10 medidas anteriores e 10 posteriores registradas no conjunto de dados.\n",
    "# Atribuíremos pesos diferentes a cada uma, de acordo com a distância para o nosso dado faltante.\n",
    "def imputar_por_media_ponderada(df, col_time='time', col_val='value', alpha=2, k_vizinhos=20):\n",
    "    \"\"\"\n",
    "    Preenche valores ausentes com média ponderada de vizinhos temporais.\n",
    "\n",
    "    Parâmetros:\n",
    "        df: DataFrame com timestamps e valores\n",
    "        col_time: nome da coluna de tempo\n",
    "        col_val: nome da coluna com os valores a imputar\n",
    "        alpha: grau de decaimento dos pesos (ex: 2)\n",
    "        k_vizinhos: número de vizinhos (anteriores + posteriores)\n",
    "\n",
    "    Retorna:\n",
    "        DataFrame com coluna imputada\n",
    "    \"\"\"\n",
    "    df = df.copy()\n",
    "    df = df.sort_values(col_time).reset_index(drop=True)\n",
    "    df['is_imputed'] = False\n",
    "\n",
    "    mask_nan = df[col_val].isna()\n",
    "    idxs_nan = df[mask_nan].index\n",
    "\n",
    "    for idx in idxs_nan:\n",
    "        t_faltante = df.loc[idx, col_time]\n",
    "\n",
    "        # Vizinhos com valor observado\n",
    "        df_obs = df[~df[col_val].isna()].copy()\n",
    "        df_obs['delta'] = (df_obs[col_time] - t_faltante).dt.total_seconds() / (60 * 60 * 24)\n",
    "        df_obs['delta_abs'] = df_obs['delta'].abs()\n",
    "\n",
    "        # Pega os k vizinhos mais próximos no tempo\n",
    "        df_vizinhos = df_obs.nsmallest(k_vizinhos, 'delta_abs')\n",
    "\n",
    "        if df_vizinhos.empty:\n",
    "            continue  # Não há vizinhos disponíveis\n",
    "\n",
    "        # Cálculo dos pesos\n",
    "        pesos = 1 / (1 + df_vizinhos['delta_abs'])**alpha\n",
    "        valores = df_vizinhos[col_val].values\n",
    "\n",
    "        numerador = np.sum(pesos * valores)\n",
    "        denominador = np.sum(pesos)\n",
    "\n",
    "        estimativa = numerador / denominador\n",
    "\n",
    "        df.loc[idx, col_val] = estimativa\n",
    "        df.loc[idx, 'is_imputed'] = True\n",
    "\n",
    "    return df"
   ]
  },
  {
   "cell_type": "markdown",
   "id": "789ce2f0",
   "metadata": {},
   "source": [
    "## 7. Granulação de 'time' em 'date', 'hour', 'hour_minute', 'weekday' e 'hour_cont'"
   ]
  },
  {
   "cell_type": "code",
   "execution_count": null,
   "id": "9d52b7f4",
   "metadata": {},
   "outputs": [],
   "source": [
    "df_raw['time'] = pd.to_datetime(df_raw['time'])\n",
    "df_raw['date'] = df_raw['time'].dt.date \n",
    "\n",
    "# valor inteiro das horas, para representações diretas\n",
    "df_raw['hour'] = df_raw['time'].dt.hour\n",
    "\n",
    "df_raw['hour_minute'] = df_raw['time'].dt.strftime('%H:%M')\n",
    "df_raw['weekday'] = df_raw['time'].dt.day_name()\n",
    "\n",
    "# horas com fração decimal, para usar em modelos estatísticos\n",
    "df_raw['hour_cont'] = (df_raw['time'].dt.hour + df_raw['time'].dt.minute / 60).round(2)\n"
   ]
  },
  {
   "cell_type": "markdown",
   "id": "db483163",
   "metadata": {},
   "source": [
    "## 6. Organização final da tabela"
   ]
  },
  {
   "cell_type": "code",
   "execution_count": null,
   "id": "ce8070af",
   "metadata": {},
   "outputs": [],
   "source": [
    "df_raw = df_raw[['time', 'date', 'hour_minute', 'value', 'weekday', 'hour', 'hour_cont']]\n",
    "df_raw\n",
    "\n",
    "b = df_raw.copy()\n",
    "b.to_csv('meu_dataframe_salvo2.csv', index=False, encoding='utf-8')"
   ]
  },
  {
   "cell_type": "code",
   "execution_count": null,
   "id": "b85b6454",
   "metadata": {},
   "outputs": [],
   "source": [
    "jan_amost = 3\n",
    "ini_jan = "
   ]
  },
  {
   "cell_type": "code",
   "execution_count": null,
   "id": "70964b51",
   "metadata": {},
   "outputs": [],
   "source": [
    "# Primeiro, vamos identificar todos os NaNs e a hora correspondente\n",
    "nan_mask = df_raw['value'].isna()\n",
    "nan_rows = df_raw[nan_mask]\n",
    "\n",
    "# Dicionário para armazenar os valores válidos por hora\n",
    "hourly_valid_values = {}\n",
    "for hour_val in df_raw['hour'].unique():\n",
    "    # Coleta todos os valores NÃO-NaN para essa hora específica\n",
    "    valid_values_for_hour = df_raw[df_raw['hour'] == hour_val]['value'].dropna()\n",
    "    if not valid_values_for_hour.empty:\n",
    "        hourly_valid_values[hour_val] = valid_values_for_hour.tolist() # Converte para lista para np.random.choice\n",
    "\n",
    "# Criar uma cópia para trabalhar nela\n",
    "df_raw_filled = df_raw.copy()\n",
    "\n",
    "# Preencher os NaNs iterando apenas sobre as linhas com NaN\n",
    "for idx, row in nan_rows.iterrows():\n",
    "    current_hour = row['hour']\n",
    "    \n",
    "    # Verifica se existem valores válidos para sortear para essa hora\n",
    "    if current_hour in hourly_valid_values and hourly_valid_values[current_hour]:\n",
    "        # Sorteia um valor da lista de valores válidos para a hora atual\n",
    "        sorted_value = np.random.choice(hourly_valid_values[current_hour])\n",
    "        df_raw_filled.loc[idx, 'value'] = sorted_value\n",
    "    else:\n",
    "        # Se não há valores válidos para a hora, o NaN permanece (ou você pode preencher com outra estratégia)\n",
    "        pass # Deixa como NaN ou implementa outra lógica de fillna\n",
    "\n",
    "# 4. Verificar o resultado\n",
    "print(\"\\n--- DataFrame Após Preenchimento por Sorteio (Solução Robustada) ---\")\n",
    "print(df_raw_filled)\n",
    "print(f\"\\nNaNs em 'value' após sorteio: {df_raw_filled['value'].isnull().sum()}\")\n",
    "print(\"-\" * 70)\n",
    "\n",
    "c = df_raw_filled.copy()\n",
    "c.to_csv('meu_dataframe_salvo3.csv', index=False, encoding='utf-8')"
   ]
  },
  {
   "cell_type": "markdown",
   "id": "da0258b7",
   "metadata": {},
   "source": [
    "<div style=\"text-align: center;\">\n",
    "  \n",
    "# 🔍 Análise Exploratória de Dados\n",
    "\n",
    "</div>"
   ]
  },
  {
   "cell_type": "code",
   "execution_count": null,
   "id": "1e4c4f8e",
   "metadata": {},
   "outputs": [],
   "source": [
    "print('Quantidade de linhas e colunas:\\n', df_raw.shape, '\\n\\n---\\n')\n",
    "print('Colunas presentes:\\n', df_raw.columns, '\\n---\\n')\n",
    "print('Tipo de dados:\\n', df_raw.dtypes, '\\n\\n---\\n')\n",
    "print('Quantidade de dados únicos:\\n', df_raw.nunique())"
   ]
  },
  {
   "cell_type": "code",
   "execution_count": null,
   "id": "e6642d99",
   "metadata": {},
   "outputs": [],
   "source": [
    "df_raw['value'].describe().round(1)"
   ]
  },
  {
   "cell_type": "code",
   "execution_count": null,
   "id": "54ed2965",
   "metadata": {},
   "outputs": [],
   "source": [
    "print('Quantidade de aparições dos valores medidos para glucose no fluido intersticial (mg/dL)')\n",
    "sns.histplot(df_raw['value'], kde=True)\n",
    "plt.ylabel('Número de aparições')\n",
    "plt.xlabel('Glicose (mg/dL)')"
   ]
  },
  {
   "cell_type": "code",
   "execution_count": null,
   "id": "0208cf2c",
   "metadata": {},
   "outputs": [],
   "source": [
    "print('Quantidade de medições por dia da semana')\n",
    "df_raw['weekday'].value_counts().plot.bar()\n",
    "plt.ylabel('Quantidade de medições')\n",
    "plt.xlabel('Dia da semana')"
   ]
  },
  {
   "cell_type": "code",
   "execution_count": null,
   "id": "267dddb0",
   "metadata": {},
   "outputs": [],
   "source": [
    "print('Média das medições nos dias em que houve aferição')\n",
    "df_raw_filled.groupby('time')['value'].mean().plot()\n",
    "plt.ylabel('Glicose (mg/dL)')\n",
    "plt.xlabel('Data')"
   ]
  },
  {
   "cell_type": "code",
   "execution_count": null,
   "id": "3ea1815f",
   "metadata": {},
   "outputs": [],
   "source": [
    "print('Número de medições por data')\n",
    "df_raw_filled.groupby('date').size().plot(kind='bar', figsize=(15, 4), title='Quantidade de medições por data')\n",
    "plt.ylabel('Quantidade de aferições')\n",
    "plt.xlabel('Data')\n",
    "plt.show()"
   ]
  },
  {
   "cell_type": "code",
   "execution_count": null,
   "id": "b7610b08",
   "metadata": {},
   "outputs": [],
   "source": [
    "print('Quantidade de medições por hora')\n",
    "df_raw['hour'].value_counts().plot.bar()\n",
    "contagem_por_hora_ordenada = contagem_por_hora.sort_index()\n",
    "plt.ylabel('Quantidade de medições')\n",
    "plt.xlabel('Dia da semana')"
   ]
  },
  {
   "cell_type": "markdown",
   "id": "9703df6b",
   "metadata": {},
   "source": [
    "## 1. Há relação entre o valor da glicemia (value) e o horário do dia (time)? Em quais horas do dia há maiores picos de glicemia? Em quais horas do dia há menores valores de glicemia? \n"
   ]
  },
  {
   "cell_type": "code",
   "execution_count": null,
   "id": "aa9e1eee",
   "metadata": {},
   "outputs": [],
   "source": [
    "# Valores de média, mínimo e máximo valores de glicemia (mg/dL) por hora do dia\n",
    "df_raw.groupby('hour')['value'].agg(['mean', 'min', 'max']).round(1)"
   ]
  },
  {
   "cell_type": "code",
   "execution_count": null,
   "id": "4f5bb74d",
   "metadata": {},
   "outputs": [],
   "source": [
    "# Gráfico da média de glicemia por hora do dia \n",
    "media_por_hora = df_raw.groupby('hour')['value'].mean()\n",
    "plt.figure(figsize=(10, 5))\n",
    "sns.lineplot(x=media_por_hora.index, y=media_por_hora.values)\n",
    "plt.title('Média de glicemia por hora do dia')\n",
    "plt.xlabel('Hora do dia')\n",
    "plt.ylabel('Glicemia (mg/dL)')\n",
    "plt.grid(True)\n",
    "plt.xticks(range_time(0, 24))\n",
    "plt.show()"
   ]
  },
  {
   "cell_type": "markdown",
   "id": "265f178b",
   "metadata": {},
   "source": [
    "# 2. Nos dados analisados, qual a porcentagem do tempo o paciente está dentro, acima ou abaixo dos valores de referência ideais? \n",
    "\n",
    "##### Valores ideais:\n",
    "##### TIR time in range: ≥ 70% do tempo entre 70-180 mg/dL\n",
    "##### TBR time below range: < 4% do tempo abaixo de 70 mg/dL\n",
    "##### TBR time very below range: < 1% abaixo de 54 mg/dL\n",
    "##### TAR time above range: < 25% acima de 180 mg/dL"
   ]
  },
  {
   "cell_type": "code",
   "execution_count": null,
   "id": "09272d41",
   "metadata": {},
   "outputs": [],
   "source": [
    "total = len(df_raw)\n",
    "tar = len(df_raw[df_raw['value'] > 180]) / total * 100\n",
    "tir = len(df_raw[(df_raw['value'] >= 70) & (df_raw['value'] <= 180)]) / total * 100\n",
    "tbr = len(df_raw[df_raw['value'] < 70]) / total * 100\n",
    "tvbr = len(df_raw[df_raw['value'] < 54]) / total * 100"
   ]
  },
  {
   "cell_type": "code",
   "execution_count": null,
   "id": "2e8c152a",
   "metadata": {},
   "outputs": [],
   "source": [
    "tar_check = '✔️' if tar < 25 else '❌'\n",
    "tir_check = '✔️' if tir >= 70 else '❌'\n",
    "tbr_check = '✔️' if tbr < 4 else '❌'\n",
    "tvbr_check = '✔️' if tvbr < 1 else '❌'"
   ]
  },
  {
   "cell_type": "code",
   "execution_count": null,
   "id": "86a8ede5",
   "metadata": {},
   "outputs": [],
   "source": [
    "print(f'| TAR time above range      | {tar:.1f}%  | < 25% acima de 180 mg/dL           | {tar_check} |')\n",
    "print(f'| TIR time in range         | {tir:.1f}% |  ≥ 70% do tempo entre 70-180 mg/dL | {tir_check} |')\n",
    "print(f'| TBR time below range      | {tbr:.1f}% | < 4% do tempo abaixo de 70 mg/dL   | {tbr_check} |')\n",
    "print(f'| TBR time very below range | {tvbr:.1f}%  | < 1% abaixo de 54 mg/dL            | {tvbr_check} |')"
   ]
  },
  {
   "cell_type": "markdown",
   "id": "a80b7f74",
   "metadata": {},
   "source": [
    "# 3. Dentro do período de medição, houve algum dia em que a média de glicemia destoou muito do normal? Em quais momentos houve episódios de hiper (>180mg/dL) e hipoglicemia? (<70mg/dL)"
   ]
  },
  {
   "cell_type": "code",
   "execution_count": null,
   "id": "a4a9d46a",
   "metadata": {},
   "outputs": [],
   "source": [
    "from matplotlib.colors import ListedColormap, BoundaryNorm\n",
    "\n",
    "mapa_medicoes = df_raw[['value']]\n",
    "mapa_medicoes = mapa_medicoes.T\n",
    "\n",
    "faixas = [0, 70, 180, df_raw['value'].max() + 1]\n",
    "\n",
    "# Cores suaves e harmônicas:\n",
    "colors = ['#7DA6C1', '#A3C293', '#D46256']\n",
    "cmap = ListedColormap(colors)\n",
    "norm = BoundaryNorm(faixas, cmap.N)\n",
    "\n",
    "# Plot\n",
    "plt.figure(figsize=(20, 2))\n",
    "sns.heatmap(mapa_medicoes, cmap=cmap, norm=norm, cbar_kws={'label': 'Glicose (mg/dL)'})\n",
    "plt.yticks([], [])\n",
    "plt.xlabel(\"Leituras\")\n",
    "plt.title(\"Mapa de calor com destaque para medições individuais acima de 180 e abaixo de 70\")\n",
    "plt.show()\n"
   ]
  },
  {
   "cell_type": "markdown",
   "id": "80a9ad97",
   "metadata": {},
   "source": [
    "# 4. Quão rápido a curva de glicemia tende a voltar para os valores de referência ideais? Há alguma variável que influencia o tempo de retorno?"
   ]
  },
  {
   "cell_type": "markdown",
   "id": "570380f2",
   "metadata": {},
   "source": [
    "# 5. Há diferença significativa da média de glicemia entre dias da semana? (dias úteis, fins de semana)"
   ]
  },
  {
   "cell_type": "code",
   "execution_count": null,
   "id": "c31a377d",
   "metadata": {},
   "outputs": [],
   "source": [
    "from matplotlib.colors import ListedColormap, BoundaryNorm\n",
    "\n",
    "tabela = df_raw.pivot_table(index='hour', columns='weekday', values='value', aggfunc='mean')\n",
    "max_val = df_raw['value'].max()\n",
    "\n",
    "colors = ['#E99A8B', '#A3C293', '#D46256'] \n",
    "glucose_range = [0, 70, 140, max_val + 1]\n",
    "\n",
    "cmap = ListedColormap(colors)\n",
    "norm = BoundaryNorm(glucose_range, cmap.N)\n",
    "\n",
    "plt.figure(figsize=(6, 6))\n",
    "sns.heatmap(tabela, annot=True, fmt=\".1f\", cmap=cmap, norm=norm, cbar_kws={'label': 'Glicose (mg/dL)'})\n",
    "plt.title(\"Glicose média por hora do dia e por dia da semana\")\n",
    "plt.ylabel(\"Hora do dia\")\n",
    "plt.xlabel(\"Dia da semana\")\n",
    "plt.show()"
   ]
  },
  {
   "cell_type": "code",
   "execution_count": null,
   "id": "69da3cf6",
   "metadata": {},
   "outputs": [],
   "source": [
    "media_por_dia = df_raw.groupby('weekday')['value'].mean().reindex([\n",
    "    'Monday', 'Tuesday', 'Wednesday', 'Thursday', 'Friday', 'Saturday', 'Sunday'\n",
    "]).reset_index()\n",
    "\n",
    "mapa_mediageral = pd.DataFrame([media_por_dia['value'].values], columns=media_por_dia['weekday'].values)\n",
    "\n",
    "plt.figure(figsize=(8, 2))\n",
    "sns.heatmap(mapa_mediageral, annot=True, fmt=\".1f\", cmap=\"crest\", cbar_kws={'label': 'Glicose média (mg/dL)'})\n",
    "plt.title(\"Média de glicose no fluido intersticial por dia da semana\")\n",
    "plt.yticks([], []) \n",
    "plt.xlabel(\"Dia da semana\")\n",
    "plt.show()\n"
   ]
  },
  {
   "cell_type": "markdown",
   "id": "fee5a95a",
   "metadata": {},
   "source": [
    "# 6. Há variação de glicemia significativa durante o período noturno e durante a manhã (4h-8h)? (dawn phenomenon)"
   ]
  },
  {
   "cell_type": "code",
   "execution_count": null,
   "id": "66d1a549",
   "metadata": {},
   "outputs": [],
   "source": [
    "# Gráfico da média de glicemia por hora do dia \n",
    "media_por_hora = df_raw.groupby('hour')['value'].mean()\n",
    "plt.figure(figsize=(10, 5))\n",
    "sns.lineplot(x=media_por_hora.index, y=media_por_hora.values)\n",
    "plt.title('Média de glicemia por hora do dia')\n",
    "plt.xlabel('Hora do dia')\n",
    "plt.ylabel('Glicemia (mg/dL)')\n",
    "plt.grid(True)\n",
    "plt.xticks(range_time(0, 24))\n",
    "plt.show()"
   ]
  },
  {
   "cell_type": "markdown",
   "id": "780ba65c",
   "metadata": {},
   "source": [
    "# 7. Qual a glicemia média geral do período analisado?"
   ]
  },
  {
   "cell_type": "code",
   "execution_count": null,
   "id": "b0eb246e",
   "metadata": {},
   "outputs": [],
   "source": [
    "media_global = df_raw['value'].mean()\n",
    "media_check = '✔️' if media_global > 70 and media_global < 180 else '❌'\n",
    "print('Média geral:', media_global, media_check)"
   ]
  },
  {
   "cell_type": "markdown",
   "id": "c4cbb7e8",
   "metadata": {},
   "source": [
    "# 8. Qual o desvio padrão ou coeficiente de variação (CV%) da glicemia?"
   ]
  },
  {
   "cell_type": "markdown",
   "id": "ab7ccc5e",
   "metadata": {},
   "source": [
    "# 9. Quais dias em que houve mais instabilidade (maior variação)?"
   ]
  },
  {
   "cell_type": "markdown",
   "id": "882e716a",
   "metadata": {},
   "source": [
    "# 10. Há consistência nos dados? É possível prever quais horas do dia haverá oscilações significativas?"
   ]
  },
  {
   "cell_type": "markdown",
   "id": "da4af60d",
   "metadata": {},
   "source": [
    "# 11. Há alguma diferença entre a média da primeira e última metade da amostra? Houve alguma diferença no controle ao longo do mês ou permaneceu constante?"
   ]
  },
  {
   "cell_type": "code",
   "execution_count": null,
   "id": "77dbf126",
   "metadata": {},
   "outputs": [],
   "source": [
    "# 12. Número e duração média dos episódios de hipoglicemia e hiperglicemia\n",
    "# 13. Velocidade média de subida e queda da glicemia\n",
    "# 14. Tempo em hipoglicemia noturna (00h–6h)\n",
    "# 17. Predição simples com regressão ou modelo de baseline"
   ]
  },
  {
   "cell_type": "markdown",
   "id": "1b4a801d",
   "metadata": {},
   "source": [
    "# Predição com regressão linear"
   ]
  },
  {
   "cell_type": "code",
   "execution_count": null,
   "id": "154d9d44",
   "metadata": {},
   "outputs": [],
   "source": [
    "#%pip install scikit-learn"
   ]
  },
  {
   "cell_type": "code",
   "execution_count": null,
   "id": "7c678fc5",
   "metadata": {},
   "outputs": [],
   "source": [
    "import pandas as pd\n",
    "from sklearn.linear_model import LinearRegression\n",
    "from sklearn.model_selection import train_test_split\n",
    "from sklearn.metrics import mean_squared_error, r2_score\n",
    "import matplotlib.pyplot as plt"
   ]
  },
  {
   "cell_type": "code",
   "execution_count": null,
   "id": "47cb6398",
   "metadata": {},
   "outputs": [],
   "source": [
    "x = df_raw[['hour']]\n",
    "y = df_raw['value']"
   ]
  },
  {
   "cell_type": "code",
   "execution_count": null,
   "id": "9c934737",
   "metadata": {},
   "outputs": [],
   "source": [
    "x_treino, x_teste, y_treino, y_teste = train_test_split(x, y, test_size=0.2, random_state=42)"
   ]
  },
  {
   "cell_type": "code",
   "execution_count": null,
   "id": "307d235c",
   "metadata": {},
   "outputs": [],
   "source": [
    "modelo = LinearRegression()\n",
    "modelo.fit(x_treino, y_treino)\n"
   ]
  },
  {
   "cell_type": "code",
   "execution_count": null,
   "id": "e72c1929",
   "metadata": {},
   "outputs": [],
   "source": [
    "y_pred = modelo.predict(x_teste)\n",
    "rmse = np.sqrt(mean_squared_error(y_teste, y_pred))\n",
    "\n",
    "print(\"Coeficiente angular (slope):\", modelo.coef_[0])\n",
    "print(\"Intercepto:\", modelo.intercept_)\n",
    "print(\"R²:\", r2_score(y_teste, y_pred))\n",
    "print(\"RMSE:\", rmse)"
   ]
  },
  {
   "cell_type": "code",
   "execution_count": null,
   "id": "59603b12",
   "metadata": {},
   "outputs": [],
   "source": [
    "plt.scatter(x_teste, y_teste, color='gray', label='Real')\n",
    "plt.plot(x_teste, y_pred, color='blue', linewidth=2, label='Previsão')\n",
    "plt.title('Previsão da glicemia com base na hora do dia')\n",
    "plt.xlabel('Hora do dia')\n",
    "plt.ylabel('Glicemia (mg/dL)')\n",
    "plt.legend()\n",
    "plt.grid(True)\n",
    "plt.show()"
   ]
  },
  {
   "cell_type": "code",
   "execution_count": null,
   "id": "e696bd5b",
   "metadata": {},
   "outputs": [],
   "source": []
  }
 ],
 "metadata": {
  "kernelspec": {
   "display_name": "Python 3",
   "language": "python",
   "name": "python3"
  },
  "language_info": {
   "codemirror_mode": {
    "name": "ipython",
    "version": 3
   },
   "file_extension": ".py",
   "mimetype": "text/x-python",
   "name": "python",
   "nbconvert_exporter": "python",
   "pygments_lexer": "ipython3",
   "version": "3.13.5"
  }
 },
 "nbformat": 4,
 "nbformat_minor": 5
}
