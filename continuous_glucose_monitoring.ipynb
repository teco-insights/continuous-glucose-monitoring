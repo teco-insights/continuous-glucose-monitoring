{
 "cells": [
  {
   "cell_type": "markdown",
   "id": "dc6d5f4c",
   "metadata": {},
   "source": [
    "<div style=\"text-align: center;\">\n",
    "  \n",
    "# 🧁 Limpeza e tratamento de dados de CGM (monitoramento contínuo de glicemia)\n",
    "\n",
    "</div>"
   ]
  },
  {
   "cell_type": "markdown",
   "id": "7b5815ac",
   "metadata": {},
   "source": [
    "## 1. Carregando as bibliotecas"
   ]
  },
  {
   "cell_type": "code",
   "execution_count": 2,
   "id": "4b08ef7c",
   "metadata": {},
   "outputs": [],
   "source": [
    "#%pip install missingno"
   ]
  },
  {
   "cell_type": "code",
   "execution_count": 3,
   "id": "a7f2527f",
   "metadata": {},
   "outputs": [],
   "source": [
    "import pandas as pd\n",
    "import seaborn as sns\n",
    "import matplotlib.pyplot as plt\n",
    "import numpy as np"
   ]
  },
  {
   "cell_type": "markdown",
   "id": "51d404a1",
   "metadata": {},
   "source": [
    "## 2. Extraindo e visualizando o dataframe; padronizando os nomes das variáveis; certificando os tipos de dados"
   ]
  },
  {
   "cell_type": "code",
   "execution_count": 4,
   "id": "bf62036a",
   "metadata": {},
   "outputs": [],
   "source": [
    "# Dataset extraído pelo RStudio através do repositório \n",
    "# https://rdrr.io/github/personalscience/psi-shiny-cgm/man/sample_libreview_df.html\n",
    "df_extract = pd.read_csv('./sample_libreview_df_raw.csv')\n",
    "df_raw = df_extract.copy()"
   ]
  },
  {
   "cell_type": "code",
   "execution_count": 5,
   "id": "671e00bd",
   "metadata": {},
   "outputs": [
    {
     "data": {
      "text/html": [
       "<div>\n",
       "<style scoped>\n",
       "    .dataframe tbody tr th:only-of-type {\n",
       "        vertical-align: middle;\n",
       "    }\n",
       "\n",
       "    .dataframe tbody tr th {\n",
       "        vertical-align: top;\n",
       "    }\n",
       "\n",
       "    .dataframe thead th {\n",
       "        text-align: right;\n",
       "    }\n",
       "</style>\n",
       "<table border=\"1\" class=\"dataframe\">\n",
       "  <thead>\n",
       "    <tr style=\"text-align: right;\">\n",
       "      <th></th>\n",
       "      <th>unnamed0</th>\n",
       "      <th>time</th>\n",
       "      <th>scan</th>\n",
       "      <th>hist</th>\n",
       "      <th>strip</th>\n",
       "      <th>value</th>\n",
       "      <th>food</th>\n",
       "      <th>user_id</th>\n",
       "    </tr>\n",
       "  </thead>\n",
       "  <tbody>\n",
       "    <tr>\n",
       "      <th>0</th>\n",
       "      <td>1</td>\n",
       "      <td>2021-05-30 16:59:00</td>\n",
       "      <td>NaN</td>\n",
       "      <td>69.0</td>\n",
       "      <td>NaN</td>\n",
       "      <td>69.0</td>\n",
       "      <td>NaN</td>\n",
       "      <td>1234</td>\n",
       "    </tr>\n",
       "    <tr>\n",
       "      <th>1</th>\n",
       "      <td>2</td>\n",
       "      <td>2021-05-30 17:14:00</td>\n",
       "      <td>NaN</td>\n",
       "      <td>66.0</td>\n",
       "      <td>NaN</td>\n",
       "      <td>66.0</td>\n",
       "      <td>NaN</td>\n",
       "      <td>1234</td>\n",
       "    </tr>\n",
       "    <tr>\n",
       "      <th>2</th>\n",
       "      <td>3</td>\n",
       "      <td>2021-05-30 17:30:00</td>\n",
       "      <td>NaN</td>\n",
       "      <td>62.0</td>\n",
       "      <td>NaN</td>\n",
       "      <td>62.0</td>\n",
       "      <td>NaN</td>\n",
       "      <td>1234</td>\n",
       "    </tr>\n",
       "    <tr>\n",
       "      <th>3</th>\n",
       "      <td>4</td>\n",
       "      <td>2021-05-30 17:45:00</td>\n",
       "      <td>NaN</td>\n",
       "      <td>60.0</td>\n",
       "      <td>NaN</td>\n",
       "      <td>60.0</td>\n",
       "      <td>NaN</td>\n",
       "      <td>1234</td>\n",
       "    </tr>\n",
       "    <tr>\n",
       "      <th>4</th>\n",
       "      <td>5</td>\n",
       "      <td>2021-05-30 18:00:00</td>\n",
       "      <td>NaN</td>\n",
       "      <td>62.0</td>\n",
       "      <td>NaN</td>\n",
       "      <td>62.0</td>\n",
       "      <td>NaN</td>\n",
       "      <td>1234</td>\n",
       "    </tr>\n",
       "    <tr>\n",
       "      <th>...</th>\n",
       "      <td>...</td>\n",
       "      <td>...</td>\n",
       "      <td>...</td>\n",
       "      <td>...</td>\n",
       "      <td>...</td>\n",
       "      <td>...</td>\n",
       "      <td>...</td>\n",
       "      <td>...</td>\n",
       "    </tr>\n",
       "    <tr>\n",
       "      <th>3979</th>\n",
       "      <td>3980</td>\n",
       "      <td>2021-07-12 19:27:00</td>\n",
       "      <td>NaN</td>\n",
       "      <td>NaN</td>\n",
       "      <td>NaN</td>\n",
       "      <td>NaN</td>\n",
       "      <td>NaN</td>\n",
       "      <td>1234</td>\n",
       "    </tr>\n",
       "    <tr>\n",
       "      <th>3980</th>\n",
       "      <td>3981</td>\n",
       "      <td>2021-07-13 11:25:00</td>\n",
       "      <td>NaN</td>\n",
       "      <td>NaN</td>\n",
       "      <td>NaN</td>\n",
       "      <td>NaN</td>\n",
       "      <td>NaN</td>\n",
       "      <td>1234</td>\n",
       "    </tr>\n",
       "    <tr>\n",
       "      <th>3981</th>\n",
       "      <td>3982</td>\n",
       "      <td>2021-07-15 14:17:00</td>\n",
       "      <td>NaN</td>\n",
       "      <td>NaN</td>\n",
       "      <td>NaN</td>\n",
       "      <td>NaN</td>\n",
       "      <td>NaN</td>\n",
       "      <td>1234</td>\n",
       "    </tr>\n",
       "    <tr>\n",
       "      <th>3982</th>\n",
       "      <td>3983</td>\n",
       "      <td>2021-07-16 09:31:00</td>\n",
       "      <td>NaN</td>\n",
       "      <td>NaN</td>\n",
       "      <td>NaN</td>\n",
       "      <td>NaN</td>\n",
       "      <td>NaN</td>\n",
       "      <td>1234</td>\n",
       "    </tr>\n",
       "    <tr>\n",
       "      <th>3983</th>\n",
       "      <td>3984</td>\n",
       "      <td>2021-07-17 12:10:00</td>\n",
       "      <td>NaN</td>\n",
       "      <td>NaN</td>\n",
       "      <td>NaN</td>\n",
       "      <td>NaN</td>\n",
       "      <td>NaN</td>\n",
       "      <td>1234</td>\n",
       "    </tr>\n",
       "  </tbody>\n",
       "</table>\n",
       "<p>3984 rows × 8 columns</p>\n",
       "</div>"
      ],
      "text/plain": [
       "      unnamed0                 time  scan  hist  strip  value food  user_id\n",
       "0            1  2021-05-30 16:59:00   NaN  69.0    NaN   69.0  NaN     1234\n",
       "1            2  2021-05-30 17:14:00   NaN  66.0    NaN   66.0  NaN     1234\n",
       "2            3  2021-05-30 17:30:00   NaN  62.0    NaN   62.0  NaN     1234\n",
       "3            4  2021-05-30 17:45:00   NaN  60.0    NaN   60.0  NaN     1234\n",
       "4            5  2021-05-30 18:00:00   NaN  62.0    NaN   62.0  NaN     1234\n",
       "...        ...                  ...   ...   ...    ...    ...  ...      ...\n",
       "3979      3980  2021-07-12 19:27:00   NaN   NaN    NaN    NaN  NaN     1234\n",
       "3980      3981  2021-07-13 11:25:00   NaN   NaN    NaN    NaN  NaN     1234\n",
       "3981      3982  2021-07-15 14:17:00   NaN   NaN    NaN    NaN  NaN     1234\n",
       "3982      3983  2021-07-16 09:31:00   NaN   NaN    NaN    NaN  NaN     1234\n",
       "3983      3984  2021-07-17 12:10:00   NaN   NaN    NaN    NaN  NaN     1234\n",
       "\n",
       "[3984 rows x 8 columns]"
      ]
     },
     "execution_count": 5,
     "metadata": {},
     "output_type": "execute_result"
    }
   ],
   "source": [
    "'''\n",
    "No atributo columns (do tipo índice) do objeto df_raw, nosso dataframe, iremos formatar\n",
    "todos os seus elementos, isto é, os nomes das colunas. Para isso, utilizamos o acessor .str, \n",
    "que nos permite aplicar métodos de strings para todos os elementos do índice/vetor.\n",
    "Os métodos utilizados são: \n",
    "- lower(): torna todos os caracteres minúsculos;\n",
    "- strip(): remove espaços em branco das extremidades da string;\n",
    "- replace(,): substituímos o elemento da esquerda, sempre que ele aparecer, pelo da \n",
    "direita. No nosso caso, trocamos um espaço em branco por nenhum espaço, e \":\" por nenhum espaço.\n",
    "'''\n",
    "\n",
    "df_raw.columns = df_raw.columns.str.lower().str.strip().str.replace(' ', '').str.replace(':', '')\n",
    "df_raw"
   ]
  },
  {
   "cell_type": "code",
   "execution_count": 6,
   "id": "cc47014f",
   "metadata": {},
   "outputs": [],
   "source": [
    "# convertemoscoluna 'time' para o tipo datetime\n",
    "df_raw['time'] = pd.to_datetime(df_raw['time'], errors = 'coerce') \n",
    "# a coluna 'value' se torna numérica\n",
    "df_raw['value'] = pd.to_numeric(df_raw['value'], errors = 'coerce') \n",
    "\n",
    "# OBS: errors = 'coerce' faz com que elementos que não estejam num formato válido para\n",
    "# serem convertidos para datetime retornem NaT, e os que não possam ser convertidos para\n",
    "# int ou float (numérico) retornem NaN."
   ]
  },
  {
   "cell_type": "markdown",
   "id": "c753351e",
   "metadata": {},
   "source": [
    "## 3. Atribuindo valores reais (esquecidos) a 'value', seguindo a hierarquia entre 'strip', 'scan' e 'hist'"
   ]
  },
  {
   "cell_type": "code",
   "execution_count": 7,
   "id": "7646b579",
   "metadata": {},
   "outputs": [
    {
     "data": {
      "text/html": [
       "<div>\n",
       "<style scoped>\n",
       "    .dataframe tbody tr th:only-of-type {\n",
       "        vertical-align: middle;\n",
       "    }\n",
       "\n",
       "    .dataframe tbody tr th {\n",
       "        vertical-align: top;\n",
       "    }\n",
       "\n",
       "    .dataframe thead th {\n",
       "        text-align: right;\n",
       "    }\n",
       "</style>\n",
       "<table border=\"1\" class=\"dataframe\">\n",
       "  <thead>\n",
       "    <tr style=\"text-align: right;\">\n",
       "      <th></th>\n",
       "      <th>unnamed0</th>\n",
       "      <th>time</th>\n",
       "      <th>scan</th>\n",
       "      <th>hist</th>\n",
       "      <th>strip</th>\n",
       "      <th>value</th>\n",
       "      <th>food</th>\n",
       "      <th>user_id</th>\n",
       "    </tr>\n",
       "  </thead>\n",
       "  <tbody>\n",
       "    <tr>\n",
       "      <th>0</th>\n",
       "      <td>3883</td>\n",
       "      <td>2021-05-30 15:57:00</td>\n",
       "      <td>NaN</td>\n",
       "      <td>NaN</td>\n",
       "      <td>NaN</td>\n",
       "      <td>NaN</td>\n",
       "      <td>NaN</td>\n",
       "      <td>1234</td>\n",
       "    </tr>\n",
       "    <tr>\n",
       "      <th>1</th>\n",
       "      <td>3884</td>\n",
       "      <td>2021-05-30 16:58:00</td>\n",
       "      <td>NaN</td>\n",
       "      <td>NaN</td>\n",
       "      <td>NaN</td>\n",
       "      <td>NaN</td>\n",
       "      <td>NaN</td>\n",
       "      <td>1234</td>\n",
       "    </tr>\n",
       "    <tr>\n",
       "      <th>2</th>\n",
       "      <td>1</td>\n",
       "      <td>2021-05-30 16:59:00</td>\n",
       "      <td>NaN</td>\n",
       "      <td>69.0</td>\n",
       "      <td>NaN</td>\n",
       "      <td>69.0</td>\n",
       "      <td>NaN</td>\n",
       "      <td>1234</td>\n",
       "    </tr>\n",
       "    <tr>\n",
       "      <th>3</th>\n",
       "      <td>3885</td>\n",
       "      <td>2021-05-30 17:02:00</td>\n",
       "      <td>NaN</td>\n",
       "      <td>NaN</td>\n",
       "      <td>NaN</td>\n",
       "      <td>NaN</td>\n",
       "      <td>NaN</td>\n",
       "      <td>1234</td>\n",
       "    </tr>\n",
       "    <tr>\n",
       "      <th>4</th>\n",
       "      <td>2</td>\n",
       "      <td>2021-05-30 17:14:00</td>\n",
       "      <td>NaN</td>\n",
       "      <td>66.0</td>\n",
       "      <td>NaN</td>\n",
       "      <td>66.0</td>\n",
       "      <td>NaN</td>\n",
       "      <td>1234</td>\n",
       "    </tr>\n",
       "    <tr>\n",
       "      <th>...</th>\n",
       "      <td>...</td>\n",
       "      <td>...</td>\n",
       "      <td>...</td>\n",
       "      <td>...</td>\n",
       "      <td>...</td>\n",
       "      <td>...</td>\n",
       "      <td>...</td>\n",
       "      <td>...</td>\n",
       "    </tr>\n",
       "    <tr>\n",
       "      <th>3863</th>\n",
       "      <td>3560</td>\n",
       "      <td>2021-07-20 07:10:00</td>\n",
       "      <td>NaN</td>\n",
       "      <td>80.0</td>\n",
       "      <td>NaN</td>\n",
       "      <td>80.0</td>\n",
       "      <td>NaN</td>\n",
       "      <td>1234</td>\n",
       "    </tr>\n",
       "    <tr>\n",
       "      <th>3864</th>\n",
       "      <td>3561</td>\n",
       "      <td>2021-07-20 07:25:00</td>\n",
       "      <td>NaN</td>\n",
       "      <td>83.0</td>\n",
       "      <td>NaN</td>\n",
       "      <td>83.0</td>\n",
       "      <td>NaN</td>\n",
       "      <td>1234</td>\n",
       "    </tr>\n",
       "    <tr>\n",
       "      <th>3865</th>\n",
       "      <td>3562</td>\n",
       "      <td>2021-07-20 07:40:00</td>\n",
       "      <td>NaN</td>\n",
       "      <td>82.0</td>\n",
       "      <td>NaN</td>\n",
       "      <td>82.0</td>\n",
       "      <td>NaN</td>\n",
       "      <td>1234</td>\n",
       "    </tr>\n",
       "    <tr>\n",
       "      <th>3866</th>\n",
       "      <td>3879</td>\n",
       "      <td>2021-07-20 07:59:00</td>\n",
       "      <td>88.0</td>\n",
       "      <td>NaN</td>\n",
       "      <td>NaN</td>\n",
       "      <td>88.0</td>\n",
       "      <td>NaN</td>\n",
       "      <td>1234</td>\n",
       "    </tr>\n",
       "    <tr>\n",
       "      <th>3867</th>\n",
       "      <td>2953</td>\n",
       "      <td>NaT</td>\n",
       "      <td>NaN</td>\n",
       "      <td>79.0</td>\n",
       "      <td>NaN</td>\n",
       "      <td>79.0</td>\n",
       "      <td>NaN</td>\n",
       "      <td>1234</td>\n",
       "    </tr>\n",
       "  </tbody>\n",
       "</table>\n",
       "<p>3868 rows × 8 columns</p>\n",
       "</div>"
      ],
      "text/plain": [
       "      unnamed0                time  scan  hist  strip  value food  user_id\n",
       "0         3883 2021-05-30 15:57:00   NaN   NaN    NaN    NaN  NaN     1234\n",
       "1         3884 2021-05-30 16:58:00   NaN   NaN    NaN    NaN  NaN     1234\n",
       "2            1 2021-05-30 16:59:00   NaN  69.0    NaN   69.0  NaN     1234\n",
       "3         3885 2021-05-30 17:02:00   NaN   NaN    NaN    NaN  NaN     1234\n",
       "4            2 2021-05-30 17:14:00   NaN  66.0    NaN   66.0  NaN     1234\n",
       "...        ...                 ...   ...   ...    ...    ...  ...      ...\n",
       "3863      3560 2021-07-20 07:10:00   NaN  80.0    NaN   80.0  NaN     1234\n",
       "3864      3561 2021-07-20 07:25:00   NaN  83.0    NaN   83.0  NaN     1234\n",
       "3865      3562 2021-07-20 07:40:00   NaN  82.0    NaN   82.0  NaN     1234\n",
       "3866      3879 2021-07-20 07:59:00  88.0   NaN    NaN   88.0  NaN     1234\n",
       "3867      2953                 NaT   NaN  79.0    NaN   79.0  NaN     1234\n",
       "\n",
       "[3868 rows x 8 columns]"
      ]
     },
     "execution_count": 7,
     "metadata": {},
     "output_type": "execute_result"
    }
   ],
   "source": [
    "def value_herda_exclui(df, col_time='time', col_alvo='value', col1='strip', col2='scan', col3='hist'):\n",
    "    \"\"\"\n",
    "    Preenche os NaNs de `col_alvo` com prioridade:\n",
    "    1. Usa `col1` se disponível.\n",
    "    2. Caso contrário, usa `col2`.\n",
    "    3. Caso contrário, usa `col3`.\n",
    "    \"\"\"\n",
    "    \n",
    "    df = df.copy()\n",
    "    \n",
    "    # 0 = não foi preenchido por outra coluna, 1 foi por col1, 2 por col2 e 3 por col3.\n",
    "    df['preenchido_por'] = 0\n",
    "\n",
    "    # vetores (Series), onde: o primeiro tem valores True nos índices em que col_alvo é NaN; \n",
    "    # o segundo tem valores True onde col1 não é NaN\n",
    "    cond1 = df[col_alvo].isna() & df[col1].notna() \n",
    "    # faço a substituição nessas posições\n",
    "    df.loc[cond1, col_alvo] = df.loc[cond1, col1]\n",
    "    df.loc[cond1, 'preenchido_por'] = 1\n",
    "\n",
    "    # Faço o mesmo com as linhas restantes de col_alvo que continuam NaN, mas agora\n",
    "    # comparando com os valores de col2 e col3\n",
    "    cond2 = df[col_alvo].isna() & df[col2].notna()\n",
    "    df.loc[cond2, col_alvo] = df.loc[cond2, col2]\n",
    "    df.loc[cond2, 'preenchido_por'] = 2\n",
    "\n",
    "    cond3 = df[col_alvo].isna() & df[col3].notna()\n",
    "    df.loc[cond3, col_alvo] = df.loc[cond3, col3]\n",
    "    df.loc[cond3, 'preenchido_por'] = 3\n",
    "\n",
    "    # Agora, vamos ordenar por prioridade e eliminar duplicatas no tempo\n",
    "    df[col_time] = pd.to_datetime(df[col_time], errors = 'coerce') \n",
    "    df = df.sort_values(by=[col_time, 'preenchido_por'])  # menor preenchido_por tem maior prioridade\n",
    "    df = df.drop_duplicates(subset=col_time, keep='first').reset_index(drop=True)\n",
    "\n",
    "    # Removo a coluna que indica de qual medição o value foi advindo\n",
    "    df = df.drop(columns=['preenchido_por'])\n",
    "\n",
    "    return df\n",
    "\n",
    "df_raw = value_herda_exclui(df_raw)\n",
    "df_raw"
   ]
  },
  {
   "cell_type": "markdown",
   "id": "b6e7a18e",
   "metadata": {},
   "source": [
    "## 4. Removendo as variáveis restantes e, agora, desnecessárias"
   ]
  },
  {
   "cell_type": "code",
   "execution_count": 8,
   "id": "eae39c77",
   "metadata": {},
   "outputs": [
    {
     "data": {
      "text/html": [
       "<div>\n",
       "<style scoped>\n",
       "    .dataframe tbody tr th:only-of-type {\n",
       "        vertical-align: middle;\n",
       "    }\n",
       "\n",
       "    .dataframe tbody tr th {\n",
       "        vertical-align: top;\n",
       "    }\n",
       "\n",
       "    .dataframe thead th {\n",
       "        text-align: right;\n",
       "    }\n",
       "</style>\n",
       "<table border=\"1\" class=\"dataframe\">\n",
       "  <thead>\n",
       "    <tr style=\"text-align: right;\">\n",
       "      <th></th>\n",
       "      <th>time</th>\n",
       "      <th>value</th>\n",
       "    </tr>\n",
       "  </thead>\n",
       "  <tbody>\n",
       "    <tr>\n",
       "      <th>0</th>\n",
       "      <td>2021-05-30 15:57:00</td>\n",
       "      <td>NaN</td>\n",
       "    </tr>\n",
       "    <tr>\n",
       "      <th>1</th>\n",
       "      <td>2021-05-30 16:58:00</td>\n",
       "      <td>NaN</td>\n",
       "    </tr>\n",
       "    <tr>\n",
       "      <th>2</th>\n",
       "      <td>2021-05-30 16:59:00</td>\n",
       "      <td>69.0</td>\n",
       "    </tr>\n",
       "    <tr>\n",
       "      <th>3</th>\n",
       "      <td>2021-05-30 17:02:00</td>\n",
       "      <td>NaN</td>\n",
       "    </tr>\n",
       "    <tr>\n",
       "      <th>4</th>\n",
       "      <td>2021-05-30 17:14:00</td>\n",
       "      <td>66.0</td>\n",
       "    </tr>\n",
       "    <tr>\n",
       "      <th>...</th>\n",
       "      <td>...</td>\n",
       "      <td>...</td>\n",
       "    </tr>\n",
       "    <tr>\n",
       "      <th>3863</th>\n",
       "      <td>2021-07-20 07:10:00</td>\n",
       "      <td>80.0</td>\n",
       "    </tr>\n",
       "    <tr>\n",
       "      <th>3864</th>\n",
       "      <td>2021-07-20 07:25:00</td>\n",
       "      <td>83.0</td>\n",
       "    </tr>\n",
       "    <tr>\n",
       "      <th>3865</th>\n",
       "      <td>2021-07-20 07:40:00</td>\n",
       "      <td>82.0</td>\n",
       "    </tr>\n",
       "    <tr>\n",
       "      <th>3866</th>\n",
       "      <td>2021-07-20 07:59:00</td>\n",
       "      <td>88.0</td>\n",
       "    </tr>\n",
       "    <tr>\n",
       "      <th>3867</th>\n",
       "      <td>NaT</td>\n",
       "      <td>79.0</td>\n",
       "    </tr>\n",
       "  </tbody>\n",
       "</table>\n",
       "<p>3868 rows × 2 columns</p>\n",
       "</div>"
      ],
      "text/plain": [
       "                    time  value\n",
       "0    2021-05-30 15:57:00    NaN\n",
       "1    2021-05-30 16:58:00    NaN\n",
       "2    2021-05-30 16:59:00   69.0\n",
       "3    2021-05-30 17:02:00    NaN\n",
       "4    2021-05-30 17:14:00   66.0\n",
       "...                  ...    ...\n",
       "3863 2021-07-20 07:10:00   80.0\n",
       "3864 2021-07-20 07:25:00   83.0\n",
       "3865 2021-07-20 07:40:00   82.0\n",
       "3866 2021-07-20 07:59:00   88.0\n",
       "3867                 NaT   79.0\n",
       "\n",
       "[3868 rows x 2 columns]"
      ]
     },
     "execution_count": 8,
     "metadata": {},
     "output_type": "execute_result"
    }
   ],
   "source": [
    "# Eliminando as colunas que não serão utilizadas\n",
    "df_raw = df_raw.drop(columns=['unnamed0', 'strip', 'hist', 'scan', 'food', 'user_id'])\n",
    "\n",
    "df_raw"
   ]
  },
  {
   "cell_type": "markdown",
   "id": "634bba65",
   "metadata": {},
   "source": [
    "## 5. Eliminando os valores nulos e absurdos"
   ]
  },
  {
   "cell_type": "code",
   "execution_count": 9,
   "id": "e5ce0a0e",
   "metadata": {},
   "outputs": [
    {
     "name": "stdout",
     "output_type": "stream",
     "text": [
      "Valores nulos antes: \n",
      "\n",
      "time      1\n",
      "value    97\n",
      "dtype: int64\n"
     ]
    }
   ],
   "source": [
    "# Contagem de quantos valores nulos (NaN ou NaT) temos em cada coluna de df_raw\n",
    "# df_raw.isnull() retorna um dataframe com True e False em cada célula. True, se a célula tem\n",
    "# valor NaN ou NaT, e False em caso contrário. O método sum(axis = 0) soma a quantidade de cada coluna.\n",
    "# Como True corresponde ao valor 1 e False a 0, teremos assim a soma dos valores nulos.\n",
    "\n",
    "print('Valores nulos antes: \\n')\n",
    "print(df_raw.isnull().sum(axis = 0))"
   ]
  },
  {
   "cell_type": "code",
   "execution_count": 10,
   "id": "2bda297d",
   "metadata": {},
   "outputs": [
    {
     "data": {
      "text/html": [
       "<div>\n",
       "<style scoped>\n",
       "    .dataframe tbody tr th:only-of-type {\n",
       "        vertical-align: middle;\n",
       "    }\n",
       "\n",
       "    .dataframe tbody tr th {\n",
       "        vertical-align: top;\n",
       "    }\n",
       "\n",
       "    .dataframe thead th {\n",
       "        text-align: right;\n",
       "    }\n",
       "</style>\n",
       "<table border=\"1\" class=\"dataframe\">\n",
       "  <thead>\n",
       "    <tr style=\"text-align: right;\">\n",
       "      <th></th>\n",
       "      <th>time</th>\n",
       "      <th>value</th>\n",
       "    </tr>\n",
       "  </thead>\n",
       "  <tbody>\n",
       "    <tr>\n",
       "      <th>0</th>\n",
       "      <td>2021-05-30 16:59:00</td>\n",
       "      <td>69.0</td>\n",
       "    </tr>\n",
       "    <tr>\n",
       "      <th>1</th>\n",
       "      <td>2021-05-30 17:14:00</td>\n",
       "      <td>66.0</td>\n",
       "    </tr>\n",
       "    <tr>\n",
       "      <th>2</th>\n",
       "      <td>2021-05-30 17:30:00</td>\n",
       "      <td>62.0</td>\n",
       "    </tr>\n",
       "    <tr>\n",
       "      <th>3</th>\n",
       "      <td>2021-05-30 17:45:00</td>\n",
       "      <td>60.0</td>\n",
       "    </tr>\n",
       "    <tr>\n",
       "      <th>4</th>\n",
       "      <td>2021-05-30 18:00:00</td>\n",
       "      <td>62.0</td>\n",
       "    </tr>\n",
       "    <tr>\n",
       "      <th>...</th>\n",
       "      <td>...</td>\n",
       "      <td>...</td>\n",
       "    </tr>\n",
       "    <tr>\n",
       "      <th>3765</th>\n",
       "      <td>2021-07-20 06:55:00</td>\n",
       "      <td>77.0</td>\n",
       "    </tr>\n",
       "    <tr>\n",
       "      <th>3766</th>\n",
       "      <td>2021-07-20 07:10:00</td>\n",
       "      <td>80.0</td>\n",
       "    </tr>\n",
       "    <tr>\n",
       "      <th>3767</th>\n",
       "      <td>2021-07-20 07:25:00</td>\n",
       "      <td>83.0</td>\n",
       "    </tr>\n",
       "    <tr>\n",
       "      <th>3768</th>\n",
       "      <td>2021-07-20 07:40:00</td>\n",
       "      <td>82.0</td>\n",
       "    </tr>\n",
       "    <tr>\n",
       "      <th>3769</th>\n",
       "      <td>2021-07-20 07:59:00</td>\n",
       "      <td>88.0</td>\n",
       "    </tr>\n",
       "  </tbody>\n",
       "</table>\n",
       "<p>3770 rows × 2 columns</p>\n",
       "</div>"
      ],
      "text/plain": [
       "                    time  value\n",
       "0    2021-05-30 16:59:00   69.0\n",
       "1    2021-05-30 17:14:00   66.0\n",
       "2    2021-05-30 17:30:00   62.0\n",
       "3    2021-05-30 17:45:00   60.0\n",
       "4    2021-05-30 18:00:00   62.0\n",
       "...                  ...    ...\n",
       "3765 2021-07-20 06:55:00   77.0\n",
       "3766 2021-07-20 07:10:00   80.0\n",
       "3767 2021-07-20 07:25:00   83.0\n",
       "3768 2021-07-20 07:40:00   82.0\n",
       "3769 2021-07-20 07:59:00   88.0\n",
       "\n",
       "[3770 rows x 2 columns]"
      ]
     },
     "execution_count": 10,
     "metadata": {},
     "output_type": "execute_result"
    }
   ],
   "source": [
    "def elimina_nulos_ruidos(df, col_time='time', col_value='value', lim_inf=0, lim_sup=500, minutes_rel1=15, minutes_rel2=15, ruido_rel=50):\n",
    "    '''Documentação'''\n",
    "\n",
    "    df = df.copy()\n",
    "\n",
    "    # Garantir os tipos de dados\n",
    "    df_raw['time'] = pd.to_datetime(df_raw['time'], errors = 'coerce') \n",
    "    df_raw['value'] = pd.to_numeric(df_raw['value'], errors = 'coerce') \n",
    "\n",
    "    # Excluindo as linhas em que 'time' ou 'value' tem valor nulo\n",
    "    df = df.dropna(subset=[col_time,col_value])\n",
    "\n",
    "    # Excluindo as linhas em que 'value' tem um possível ruído absoluto\n",
    "    df = df[(df[col_value] > lim_inf) & (df[col_value] < lim_sup)]\n",
    "\n",
    "    # Excluindo as linhas em que 'value' tem um possível ruído relativo\n",
    "    df['diff_prev'] = df[col_value].diff().abs() # diferença de valor para a linha anterior\n",
    "    df['diff_next'] = df[col_value].diff(-1).abs() # diferença de valor para a linha posterior\n",
    "\n",
    "    df['delta_prev'] = df[col_time] - df[col_time].shift(1) # diferença de tempo para a linha anterior\n",
    "    df['delta_next'] = df[col_time].shift(-1) - df[col_time] # diferença de tempo para a linha posterior\n",
    "\n",
    "    mask_delta_prev = df['delta_prev'] <= pd.Timedelta(minutes=minutes_rel1)\n",
    "    mask_delta_next = df['delta_next'] <= pd.Timedelta(minutes=minutes_rel2)\n",
    "\n",
    "    mask_ruido_duplo = (df['diff_prev'] > ruido_rel) & mask_delta_prev & \\\n",
    "                    (df['diff_next'] > ruido_rel) & mask_delta_next\n",
    "\n",
    "    df = df.loc[~mask_ruido_duplo]\n",
    "    df.drop(columns=['diff_prev', 'diff_next', 'delta_prev', 'delta_next'], inplace=True)\n",
    "\n",
    "    # Organizando o dataframe por 'time' crescente, e resetando os índices, já que\n",
    "    # ao excluirmos linhas, a linha com o índice é excluída. Agora, temos índices ordenados e\n",
    "    # sequenciados novamente de 0 ao fim do dataframe.\n",
    "    df = df.sort_values(by=col_time).reset_index(drop=True) \n",
    "\n",
    "    return df\n",
    "\n",
    "# Esse é o dataframe apenas com dados medidos\n",
    "df_raw = elimina_nulos_ruidos(df_raw)\n",
    "df_raw\n"
   ]
  },
  {
   "cell_type": "markdown",
   "id": "789ce2f0",
   "metadata": {},
   "source": [
    "## 6. Subdivisão de 'time' em 'date', 'hour', 'hour_minute', 'weekday' e 'hour_cont'"
   ]
  },
  {
   "cell_type": "code",
   "execution_count": 11,
   "id": "9d52b7f4",
   "metadata": {},
   "outputs": [
    {
     "data": {
      "text/html": [
       "<div>\n",
       "<style scoped>\n",
       "    .dataframe tbody tr th:only-of-type {\n",
       "        vertical-align: middle;\n",
       "    }\n",
       "\n",
       "    .dataframe tbody tr th {\n",
       "        vertical-align: top;\n",
       "    }\n",
       "\n",
       "    .dataframe thead th {\n",
       "        text-align: right;\n",
       "    }\n",
       "</style>\n",
       "<table border=\"1\" class=\"dataframe\">\n",
       "  <thead>\n",
       "    <tr style=\"text-align: right;\">\n",
       "      <th></th>\n",
       "      <th>time</th>\n",
       "      <th>value</th>\n",
       "      <th>date</th>\n",
       "      <th>date_cont</th>\n",
       "      <th>hour</th>\n",
       "      <th>hour_minute</th>\n",
       "      <th>weekday</th>\n",
       "      <th>hour_cont</th>\n",
       "    </tr>\n",
       "  </thead>\n",
       "  <tbody>\n",
       "    <tr>\n",
       "      <th>0</th>\n",
       "      <td>2021-05-30 16:59:00</td>\n",
       "      <td>69.0</td>\n",
       "      <td>2021-05-30</td>\n",
       "      <td>0</td>\n",
       "      <td>16</td>\n",
       "      <td>16:59</td>\n",
       "      <td>Sunday</td>\n",
       "      <td>16.98</td>\n",
       "    </tr>\n",
       "    <tr>\n",
       "      <th>1</th>\n",
       "      <td>2021-05-30 17:14:00</td>\n",
       "      <td>66.0</td>\n",
       "      <td>2021-05-30</td>\n",
       "      <td>0</td>\n",
       "      <td>17</td>\n",
       "      <td>17:14</td>\n",
       "      <td>Sunday</td>\n",
       "      <td>17.23</td>\n",
       "    </tr>\n",
       "    <tr>\n",
       "      <th>2</th>\n",
       "      <td>2021-05-30 17:30:00</td>\n",
       "      <td>62.0</td>\n",
       "      <td>2021-05-30</td>\n",
       "      <td>0</td>\n",
       "      <td>17</td>\n",
       "      <td>17:30</td>\n",
       "      <td>Sunday</td>\n",
       "      <td>17.50</td>\n",
       "    </tr>\n",
       "    <tr>\n",
       "      <th>3</th>\n",
       "      <td>2021-05-30 17:45:00</td>\n",
       "      <td>60.0</td>\n",
       "      <td>2021-05-30</td>\n",
       "      <td>0</td>\n",
       "      <td>17</td>\n",
       "      <td>17:45</td>\n",
       "      <td>Sunday</td>\n",
       "      <td>17.75</td>\n",
       "    </tr>\n",
       "    <tr>\n",
       "      <th>4</th>\n",
       "      <td>2021-05-30 18:00:00</td>\n",
       "      <td>62.0</td>\n",
       "      <td>2021-05-30</td>\n",
       "      <td>0</td>\n",
       "      <td>18</td>\n",
       "      <td>18:00</td>\n",
       "      <td>Sunday</td>\n",
       "      <td>18.00</td>\n",
       "    </tr>\n",
       "    <tr>\n",
       "      <th>...</th>\n",
       "      <td>...</td>\n",
       "      <td>...</td>\n",
       "      <td>...</td>\n",
       "      <td>...</td>\n",
       "      <td>...</td>\n",
       "      <td>...</td>\n",
       "      <td>...</td>\n",
       "      <td>...</td>\n",
       "    </tr>\n",
       "    <tr>\n",
       "      <th>3765</th>\n",
       "      <td>2021-07-20 06:55:00</td>\n",
       "      <td>77.0</td>\n",
       "      <td>2021-07-20</td>\n",
       "      <td>51</td>\n",
       "      <td>6</td>\n",
       "      <td>06:55</td>\n",
       "      <td>Tuesday</td>\n",
       "      <td>6.92</td>\n",
       "    </tr>\n",
       "    <tr>\n",
       "      <th>3766</th>\n",
       "      <td>2021-07-20 07:10:00</td>\n",
       "      <td>80.0</td>\n",
       "      <td>2021-07-20</td>\n",
       "      <td>51</td>\n",
       "      <td>7</td>\n",
       "      <td>07:10</td>\n",
       "      <td>Tuesday</td>\n",
       "      <td>7.17</td>\n",
       "    </tr>\n",
       "    <tr>\n",
       "      <th>3767</th>\n",
       "      <td>2021-07-20 07:25:00</td>\n",
       "      <td>83.0</td>\n",
       "      <td>2021-07-20</td>\n",
       "      <td>51</td>\n",
       "      <td>7</td>\n",
       "      <td>07:25</td>\n",
       "      <td>Tuesday</td>\n",
       "      <td>7.42</td>\n",
       "    </tr>\n",
       "    <tr>\n",
       "      <th>3768</th>\n",
       "      <td>2021-07-20 07:40:00</td>\n",
       "      <td>82.0</td>\n",
       "      <td>2021-07-20</td>\n",
       "      <td>51</td>\n",
       "      <td>7</td>\n",
       "      <td>07:40</td>\n",
       "      <td>Tuesday</td>\n",
       "      <td>7.67</td>\n",
       "    </tr>\n",
       "    <tr>\n",
       "      <th>3769</th>\n",
       "      <td>2021-07-20 07:59:00</td>\n",
       "      <td>88.0</td>\n",
       "      <td>2021-07-20</td>\n",
       "      <td>51</td>\n",
       "      <td>7</td>\n",
       "      <td>07:59</td>\n",
       "      <td>Tuesday</td>\n",
       "      <td>7.98</td>\n",
       "    </tr>\n",
       "  </tbody>\n",
       "</table>\n",
       "<p>3770 rows × 8 columns</p>\n",
       "</div>"
      ],
      "text/plain": [
       "                    time  value       date  date_cont  hour hour_minute  \\\n",
       "0    2021-05-30 16:59:00   69.0 2021-05-30          0    16       16:59   \n",
       "1    2021-05-30 17:14:00   66.0 2021-05-30          0    17       17:14   \n",
       "2    2021-05-30 17:30:00   62.0 2021-05-30          0    17       17:30   \n",
       "3    2021-05-30 17:45:00   60.0 2021-05-30          0    17       17:45   \n",
       "4    2021-05-30 18:00:00   62.0 2021-05-30          0    18       18:00   \n",
       "...                  ...    ...        ...        ...   ...         ...   \n",
       "3765 2021-07-20 06:55:00   77.0 2021-07-20         51     6       06:55   \n",
       "3766 2021-07-20 07:10:00   80.0 2021-07-20         51     7       07:10   \n",
       "3767 2021-07-20 07:25:00   83.0 2021-07-20         51     7       07:25   \n",
       "3768 2021-07-20 07:40:00   82.0 2021-07-20         51     7       07:40   \n",
       "3769 2021-07-20 07:59:00   88.0 2021-07-20         51     7       07:59   \n",
       "\n",
       "      weekday  hour_cont  \n",
       "0      Sunday      16.98  \n",
       "1      Sunday      17.23  \n",
       "2      Sunday      17.50  \n",
       "3      Sunday      17.75  \n",
       "4      Sunday      18.00  \n",
       "...       ...        ...  \n",
       "3765  Tuesday       6.92  \n",
       "3766  Tuesday       7.17  \n",
       "3767  Tuesday       7.42  \n",
       "3768  Tuesday       7.67  \n",
       "3769  Tuesday       7.98  \n",
       "\n",
       "[3770 rows x 8 columns]"
      ]
     },
     "execution_count": 11,
     "metadata": {},
     "output_type": "execute_result"
    }
   ],
   "source": [
    "def dividir_time(df, col_time='time'):\n",
    "    \"\"\"\n",
    "    Adiciona colunas derivadas de tempo para análise estatística e manipulação temporal.\n",
    "\n",
    "    Parâmetros:\n",
    "    -----------\n",
    "    df : pd.DataFrame\n",
    "        DataFrame com uma coluna datetime.\n",
    "    col_time : str, default 'time'\n",
    "        Nome da coluna que contém timestamps (deve ser do tipo datetime ou conversível).\n",
    "    Retorna:\n",
    "    --------\n",
    "    pd.DataFrame\n",
    "        DataFrame com as colunas adicionais:\n",
    "            - 'date' : data (sem horário)\n",
    "            - 'hour' : hora inteira\n",
    "            - 'hour_minute' : string com hora e minuto no formato HH:MM\n",
    "            - 'weekday' : nome do dia da semana\n",
    "            - 'hour_cont' : hora com fração decimal (ex: 14.25 para 14:15)\n",
    "    \"\"\"\n",
    "    df = df.copy()\n",
    "\n",
    "    df[col_time] = pd.to_datetime(df[col_time])\n",
    "\n",
    "    df['date'] = pd.to_datetime(df[col_time].dt.date)  # <- corrigido aqui\n",
    "    primeiro_dia = df['date'].min()\n",
    "    df['date_cont'] = (df['date'] - primeiro_dia).dt.days  # <- agora funciona\n",
    "\n",
    "    df['hour'] = df[col_time].dt.hour\n",
    "    df['hour_minute'] = df[col_time].dt.strftime('%H:%M')\n",
    "    df['weekday'] = df[col_time].dt.day_name()\n",
    "    df['hour_cont'] = (df[col_time].dt.hour + df[col_time].dt.minute / 60).round(2)\n",
    "\n",
    "    return df\n",
    "\n",
    "df_raw = dividir_time(df_raw)\n",
    "df_raw"
   ]
  },
  {
   "cell_type": "code",
   "execution_count": 13,
   "id": "32d8d63e",
   "metadata": {},
   "outputs": [],
   "source": [
    "# Agora criamos a coluna 'faixa' diretamente, sem gerar warning\n",
    "colunas_ordenadas = ['time', 'date', 'date_cont', 'hour_minute', 'value', 'weekday', 'hour', 'hour_cont']\n",
    "df_raw = df_raw[colunas_ordenadas]\n"
   ]
  },
  {
   "cell_type": "markdown",
   "id": "db483163",
   "metadata": {},
   "source": [
    "## 9. Organização final da tabela"
   ]
  },
  {
   "cell_type": "code",
   "execution_count": 14,
   "id": "d15ccc4a",
   "metadata": {},
   "outputs": [
    {
     "data": {
      "text/html": [
       "<div>\n",
       "<style scoped>\n",
       "    .dataframe tbody tr th:only-of-type {\n",
       "        vertical-align: middle;\n",
       "    }\n",
       "\n",
       "    .dataframe tbody tr th {\n",
       "        vertical-align: top;\n",
       "    }\n",
       "\n",
       "    .dataframe thead th {\n",
       "        text-align: right;\n",
       "    }\n",
       "</style>\n",
       "<table border=\"1\" class=\"dataframe\">\n",
       "  <thead>\n",
       "    <tr style=\"text-align: right;\">\n",
       "      <th></th>\n",
       "      <th>time</th>\n",
       "      <th>date</th>\n",
       "      <th>date_cont</th>\n",
       "      <th>hour_minute</th>\n",
       "      <th>value</th>\n",
       "      <th>weekday</th>\n",
       "      <th>hour</th>\n",
       "      <th>hour_cont</th>\n",
       "      <th>faixa</th>\n",
       "    </tr>\n",
       "  </thead>\n",
       "  <tbody>\n",
       "    <tr>\n",
       "      <th>0</th>\n",
       "      <td>2021-05-30 16:59:00</td>\n",
       "      <td>2021-05-30</td>\n",
       "      <td>0</td>\n",
       "      <td>16:59</td>\n",
       "      <td>69.0</td>\n",
       "      <td>Sunday</td>\n",
       "      <td>16</td>\n",
       "      <td>16.98</td>\n",
       "      <td>Tarde</td>\n",
       "    </tr>\n",
       "    <tr>\n",
       "      <th>1</th>\n",
       "      <td>2021-05-30 17:14:00</td>\n",
       "      <td>2021-05-30</td>\n",
       "      <td>0</td>\n",
       "      <td>17:14</td>\n",
       "      <td>66.0</td>\n",
       "      <td>Sunday</td>\n",
       "      <td>17</td>\n",
       "      <td>17.23</td>\n",
       "      <td>Tarde</td>\n",
       "    </tr>\n",
       "    <tr>\n",
       "      <th>2</th>\n",
       "      <td>2021-05-30 17:30:00</td>\n",
       "      <td>2021-05-30</td>\n",
       "      <td>0</td>\n",
       "      <td>17:30</td>\n",
       "      <td>62.0</td>\n",
       "      <td>Sunday</td>\n",
       "      <td>17</td>\n",
       "      <td>17.50</td>\n",
       "      <td>Tarde</td>\n",
       "    </tr>\n",
       "    <tr>\n",
       "      <th>3</th>\n",
       "      <td>2021-05-30 17:45:00</td>\n",
       "      <td>2021-05-30</td>\n",
       "      <td>0</td>\n",
       "      <td>17:45</td>\n",
       "      <td>60.0</td>\n",
       "      <td>Sunday</td>\n",
       "      <td>17</td>\n",
       "      <td>17.75</td>\n",
       "      <td>Tarde</td>\n",
       "    </tr>\n",
       "    <tr>\n",
       "      <th>4</th>\n",
       "      <td>2021-05-30 18:00:00</td>\n",
       "      <td>2021-05-30</td>\n",
       "      <td>0</td>\n",
       "      <td>18:00</td>\n",
       "      <td>62.0</td>\n",
       "      <td>Sunday</td>\n",
       "      <td>18</td>\n",
       "      <td>18.00</td>\n",
       "      <td>Jantar</td>\n",
       "    </tr>\n",
       "    <tr>\n",
       "      <th>...</th>\n",
       "      <td>...</td>\n",
       "      <td>...</td>\n",
       "      <td>...</td>\n",
       "      <td>...</td>\n",
       "      <td>...</td>\n",
       "      <td>...</td>\n",
       "      <td>...</td>\n",
       "      <td>...</td>\n",
       "      <td>...</td>\n",
       "    </tr>\n",
       "    <tr>\n",
       "      <th>3765</th>\n",
       "      <td>2021-07-20 06:55:00</td>\n",
       "      <td>2021-07-20</td>\n",
       "      <td>51</td>\n",
       "      <td>06:55</td>\n",
       "      <td>77.0</td>\n",
       "      <td>Tuesday</td>\n",
       "      <td>6</td>\n",
       "      <td>6.92</td>\n",
       "      <td>Madrugada</td>\n",
       "    </tr>\n",
       "    <tr>\n",
       "      <th>3766</th>\n",
       "      <td>2021-07-20 07:10:00</td>\n",
       "      <td>2021-07-20</td>\n",
       "      <td>51</td>\n",
       "      <td>07:10</td>\n",
       "      <td>80.0</td>\n",
       "      <td>Tuesday</td>\n",
       "      <td>7</td>\n",
       "      <td>7.17</td>\n",
       "      <td>Manhã</td>\n",
       "    </tr>\n",
       "    <tr>\n",
       "      <th>3767</th>\n",
       "      <td>2021-07-20 07:25:00</td>\n",
       "      <td>2021-07-20</td>\n",
       "      <td>51</td>\n",
       "      <td>07:25</td>\n",
       "      <td>83.0</td>\n",
       "      <td>Tuesday</td>\n",
       "      <td>7</td>\n",
       "      <td>7.42</td>\n",
       "      <td>Manhã</td>\n",
       "    </tr>\n",
       "    <tr>\n",
       "      <th>3768</th>\n",
       "      <td>2021-07-20 07:40:00</td>\n",
       "      <td>2021-07-20</td>\n",
       "      <td>51</td>\n",
       "      <td>07:40</td>\n",
       "      <td>82.0</td>\n",
       "      <td>Tuesday</td>\n",
       "      <td>7</td>\n",
       "      <td>7.67</td>\n",
       "      <td>Manhã</td>\n",
       "    </tr>\n",
       "    <tr>\n",
       "      <th>3769</th>\n",
       "      <td>2021-07-20 07:59:00</td>\n",
       "      <td>2021-07-20</td>\n",
       "      <td>51</td>\n",
       "      <td>07:59</td>\n",
       "      <td>88.0</td>\n",
       "      <td>Tuesday</td>\n",
       "      <td>7</td>\n",
       "      <td>7.98</td>\n",
       "      <td>Manhã</td>\n",
       "    </tr>\n",
       "  </tbody>\n",
       "</table>\n",
       "<p>3770 rows × 9 columns</p>\n",
       "</div>"
      ],
      "text/plain": [
       "                    time       date  date_cont hour_minute  value  weekday  \\\n",
       "0    2021-05-30 16:59:00 2021-05-30          0       16:59   69.0   Sunday   \n",
       "1    2021-05-30 17:14:00 2021-05-30          0       17:14   66.0   Sunday   \n",
       "2    2021-05-30 17:30:00 2021-05-30          0       17:30   62.0   Sunday   \n",
       "3    2021-05-30 17:45:00 2021-05-30          0       17:45   60.0   Sunday   \n",
       "4    2021-05-30 18:00:00 2021-05-30          0       18:00   62.0   Sunday   \n",
       "...                  ...        ...        ...         ...    ...      ...   \n",
       "3765 2021-07-20 06:55:00 2021-07-20         51       06:55   77.0  Tuesday   \n",
       "3766 2021-07-20 07:10:00 2021-07-20         51       07:10   80.0  Tuesday   \n",
       "3767 2021-07-20 07:25:00 2021-07-20         51       07:25   83.0  Tuesday   \n",
       "3768 2021-07-20 07:40:00 2021-07-20         51       07:40   82.0  Tuesday   \n",
       "3769 2021-07-20 07:59:00 2021-07-20         51       07:59   88.0  Tuesday   \n",
       "\n",
       "      hour  hour_cont      faixa  \n",
       "0       16      16.98      Tarde  \n",
       "1       17      17.23      Tarde  \n",
       "2       17      17.50      Tarde  \n",
       "3       17      17.75      Tarde  \n",
       "4       18      18.00     Jantar  \n",
       "...    ...        ...        ...  \n",
       "3765     6       6.92  Madrugada  \n",
       "3766     7       7.17      Manhã  \n",
       "3767     7       7.42      Manhã  \n",
       "3768     7       7.67      Manhã  \n",
       "3769     7       7.98      Manhã  \n",
       "\n",
       "[3770 rows x 9 columns]"
      ]
     },
     "execution_count": 14,
     "metadata": {},
     "output_type": "execute_result"
    }
   ],
   "source": [
    "# Organização final da tabela de valores reais\n",
    "def faixa_horaria(hora):\n",
    "    if 0 <= hora <= 6:\n",
    "        return 'Madrugada'\n",
    "    elif 7 <= hora <= 12:\n",
    "        return 'Manhã'\n",
    "    elif 13 <= hora <= 17:\n",
    "        return 'Tarde'\n",
    "    elif 18 <= hora <= 21:\n",
    "        return 'Jantar'\n",
    "    else:\n",
    "        return 'Fim da noite'\n",
    "\n",
    "df_raw.loc[:, 'faixa'] = df_raw['hour'].apply(faixa_horaria)\n",
    "df_raw"
   ]
  },
  {
   "cell_type": "markdown",
   "id": "da0258b7",
   "metadata": {},
   "source": [
    "<div style=\"text-align: center;\">\n",
    "  \n",
    "# 🔍 Análise Exploratória de Dados\n",
    "\n",
    "</div>"
   ]
  },
  {
   "cell_type": "markdown",
   "id": "16bcac7d",
   "metadata": {},
   "source": [
    "## 1. Informações da tabela df_raw"
   ]
  },
  {
   "cell_type": "code",
   "execution_count": 15,
   "id": "1e4c4f8e",
   "metadata": {},
   "outputs": [
    {
     "name": "stdout",
     "output_type": "stream",
     "text": [
      "Quantidade de linhas e colunas:\n",
      " (3770, 9) \n",
      "\n",
      "---\n",
      "\n",
      "Colunas presentes:\n",
      " Index(['time', 'date', 'date_cont', 'hour_minute', 'value', 'weekday', 'hour',\n",
      "       'hour_cont', 'faixa'],\n",
      "      dtype='object') \n",
      "---\n",
      "\n",
      "Tipo de dados:\n",
      " time           datetime64[ns]\n",
      "date           datetime64[ns]\n",
      "date_cont               int64\n",
      "hour_minute            object\n",
      "value                 float64\n",
      "weekday                object\n",
      "hour                    int32\n",
      "hour_cont             float64\n",
      "faixa                  object\n",
      "dtype: object \n",
      "\n",
      "---\n",
      "\n",
      "Quantidade de dados únicos:\n",
      " time           3770\n",
      "date             45\n",
      "date_cont        45\n",
      "hour_minute    1372\n",
      "value           122\n",
      "weekday           7\n",
      "hour             24\n",
      "hour_cont      1372\n",
      "faixa             5\n",
      "dtype: int64\n"
     ]
    }
   ],
   "source": [
    "print('Quantidade de linhas e colunas:\\n', df_raw.shape, '\\n\\n---\\n')\n",
    "print('Colunas presentes:\\n', df_raw.columns, '\\n---\\n')\n",
    "print('Tipo de dados:\\n', df_raw.dtypes, '\\n\\n---\\n')\n",
    "print('Quantidade de dados únicos:\\n', df_raw.nunique())"
   ]
  },
  {
   "cell_type": "markdown",
   "id": "04f74dfe",
   "metadata": {},
   "source": [
    "## 2. Estatísticas gerais da variável 'value' e sua distribuição de frequências absolutas"
   ]
  },
  {
   "cell_type": "code",
   "execution_count": 16,
   "id": "e6642d99",
   "metadata": {},
   "outputs": [
    {
     "data": {
      "text/plain": [
       "count    3770.0\n",
       "mean       78.5\n",
       "std        17.4\n",
       "min        40.0\n",
       "25%        68.0\n",
       "50%        76.0\n",
       "75%        84.0\n",
       "max       223.0\n",
       "Name: value, dtype: float64"
      ]
     },
     "execution_count": 16,
     "metadata": {},
     "output_type": "execute_result"
    }
   ],
   "source": [
    "df_raw['value'].describe().round(1)"
   ]
  },
  {
   "cell_type": "code",
   "execution_count": 19,
   "id": "54ed2965",
   "metadata": {},
   "outputs": [
    {
     "name": "stdout",
     "output_type": "stream",
     "text": [
      "Quantidade de aparições dos valores medidos de glicemia (mg/dL)\n"
     ]
    },
    {
     "data": {
      "text/plain": [
       "Text(0.5, 0, 'Glicemia (mg/dL)')"
      ]
     },
     "execution_count": 19,
     "metadata": {},
     "output_type": "execute_result"
    },
    {
     "data": {
      "image/png": "[encoded data removed]",
      "text/plain": [
       "<Figure size 640x480 with 1 Axes>"
      ]
     },
     "metadata": {},
     "output_type": "display_data"
    }
   ],
   "source": [
    "print('Quantidade de aparições dos valores medidos de glicemia (mg/dL)')\n",
    "sns.histplot(df_raw['value'], kde=True)\n",
    "plt.ylabel('Número de aparições')\n",
    "plt.xlabel('Glicemia (mg/dL)')"
   ]
  },
  {
   "cell_type": "code",
   "execution_count": 22,
   "id": "d9e98e1f",
   "metadata": {},
   "outputs": [
    {
     "name": "stdout",
     "output_type": "stream",
     "text": [
      "Assimetria: 1.7684318929557772\n",
      "Curtose: 6.560482423430236\n"
     ]
    }
   ],
   "source": [
    "# Assimetria positiva indica cauda mais longa à direita\n",
    "print(\"Assimetria:\", df_raw['value'].skew())\n",
    "\n",
    "# Curtose acima de 3 indica caudas mais \"pesadas\" que as de uma distribuição normal \n",
    "# (com mais valores extremos do que seriam esperados em dados gerados de uma normal)\n",
    "print(\"Curtose:\", df_raw['value'].kurt())"
   ]
  },
  {
   "cell_type": "markdown",
   "id": "3672ea3d",
   "metadata": {},
   "source": [
    "## 3. Estatísticas diárias de 'value'"
   ]
  },
  {
   "cell_type": "code",
   "execution_count": 23,
   "id": "0208cf2c",
   "metadata": {},
   "outputs": [
    {
     "name": "stdout",
     "output_type": "stream",
     "text": [
      "Quantidade de medições por dia da semana\n"
     ]
    },
    {
     "data": {
      "text/plain": [
       "Text(0.5, 0, 'Dia da semana')"
      ]
     },
     "execution_count": 23,
     "metadata": {},
     "output_type": "execute_result"
    },
    {
     "data": {
      "image/png": "[encoded data removed]",
      "text/plain": [
       "<Figure size 640x480 with 1 Axes>"
      ]
     },
     "metadata": {},
     "output_type": "display_data"
    }
   ],
   "source": [
    "print('Quantidade de medições por dia da semana')\n",
    "df_raw['weekday'].value_counts().plot.bar()\n",
    "plt.ylabel('Quantidade de medições')\n",
    "plt.xlabel('Dia da semana')"
   ]
  },
  {
   "cell_type": "code",
   "execution_count": 27,
   "id": "305cc409",
   "metadata": {},
   "outputs": [
    {
     "data": {
      "image/png": "[encoded data removed]",
      "text/plain": [
       "<Figure size 1500x400 with 1 Axes>"
      ]
     },
     "metadata": {},
     "output_type": "display_data"
    }
   ],
   "source": [
    "df_raw['date_str'] = df_raw['date'].dt.strftime('%Y-%m-%d')  # ou '%d/%m/%Y' se preferir\n",
    "df_raw.groupby('date_str').size().plot(\n",
    "    kind='bar', figsize=(15, 4), title='Quantidade de medições por data'\n",
    ")\n",
    "plt.ylabel('Quantidade de aferições')\n",
    "plt.xlabel('Data')\n",
    "plt.show()"
   ]
  },
  {
   "cell_type": "markdown",
   "id": "2689912f",
   "metadata": {},
   "source": [
    "Abaixo, temos a média por dia, mas com um porém: mesmo considerando dias com mais de 64 medições, ainda podem haver dias com medições irregulares, que não contemplem todos os ciclos do dia!"
   ]
  },
  {
   "cell_type": "code",
   "execution_count": 31,
   "id": "267dddb0",
   "metadata": {},
   "outputs": [
    {
     "name": "stdout",
     "output_type": "stream",
     "text": [
      "Média das medições nos dias em que houve aferição\n"
     ]
    },
    {
     "data": {
      "image/png": "[encoded data removed]",
      "text/plain": [
       "<Figure size 640x480 with 1 Axes>"
      ]
     },
     "metadata": {},
     "output_type": "display_data"
    }
   ],
   "source": [
    "print('Média das medições nos dias em que houve aferição')\n",
    "contagem_por_dia = df_raw.groupby('date_cont')['value'].count()\n",
    "dias_validos = contagem_por_dia[contagem_por_dia > 64].index\n",
    "media_filtrada = df_raw[df_raw['date_cont'].isin(dias_validos)].groupby('date_cont')['value'].mean()\n",
    "\n",
    "# Plota a média diária apenas para os dias com mais de 64 medições\n",
    "media_filtrada.plot(marker='o', linestyle='-')\n",
    "\n",
    "x = media_filtrada.index          # números do dia: 0, 1, 3, 10, etc.\n",
    "y = media_filtrada.values         # médias de glicose\n",
    "\n",
    "# Plotando com espaçamento proporcional\n",
    "plt.plot(x, y, marker='o', linestyle='-')\n",
    "\n",
    "# Rótulos dos eixos\n",
    "plt.xlabel('Dia (contagem desde o início)')\n",
    "plt.ylabel('Média de Glicose (mg/dL)')\n",
    "plt.title(f'Média diária de glicose (apenas dias com mais de 64 medições)')\n",
    "\n",
    "# Ativar grade\n",
    "plt.grid(True)\n",
    "\n",
    "plt.show()"
   ]
  },
  {
   "cell_type": "code",
   "execution_count": 30,
   "id": "28732012",
   "metadata": {},
   "outputs": [
    {
     "data": {
      "image/png": "[encoded data removed]",
      "text/plain": [
       "<Figure size 1200x400 with 1 Axes>"
      ]
     },
     "metadata": {},
     "output_type": "display_data"
    }
   ],
   "source": [
    "# Contar quantas faixas únicas existem por dia\n",
    "faixas_por_dia = df_raw.groupby('date_cont')['faixa'].nunique()\n",
    "\n",
    "# Selecionar apenas os dias que têm todas as 5 faixas\n",
    "dias_completo = faixas_por_dia[faixas_por_dia == 5].index\n",
    "\n",
    "media_filtrada = df_raw[df_raw['date_cont'].isin(dias_completo)].groupby('date_cont')['value'].mean()\n",
    "plt.figure(figsize=(12,4))\n",
    "plt.plot(media_filtrada.index, media_filtrada.values, marker='o', linestyle='-')\n",
    "plt.xlabel('Dia (contagem desde o início)')\n",
    "plt.ylabel('Média de Glicose (mg/dL)')\n",
    "plt.title('Média diária de glicose (apenas para dias com todas as 5 faixas de horário)')\n",
    "plt.grid(True)\n",
    "plt.show()"
   ]
  },
  {
   "cell_type": "code",
   "execution_count": null,
   "id": "b7610b08",
   "metadata": {},
   "outputs": [],
   "source": [
    "print('Quantidade de medições por hora')\n",
    "contagem_horas_ord = df_raw['hour'].value_counts().sort_index()\n",
    "contagem_horas_ord.plot.bar()\n",
    "plt.ylabel('Quantidade de medições')\n",
    "plt.xlabel('Hora do dia')"
   ]
  },
  {
   "cell_type": "markdown",
   "id": "9703df6b",
   "metadata": {},
   "source": [
    "## 1. Há relação entre o valor da glicemia (value) e o horário do dia (time)? Em quais horas do dia há maiores picos de glicemia? Em quais horas do dia há menores valores de glicemia? \n"
   ]
  },
  {
   "cell_type": "code",
   "execution_count": null,
   "id": "aa9e1eee",
   "metadata": {},
   "outputs": [],
   "source": [
    "# Valores de média, mínimo e máximo valores de glicemia (mg/dL) por hora do dia\n",
    "df_raw.groupby('hour')['value'].agg(['mean', 'min', 'max']).round(1)"
   ]
  },
  {
   "cell_type": "markdown",
   "id": "9d99e50a",
   "metadata": {},
   "source": [
    "Serve para analisar o ciclo como um todo!"
   ]
  },
  {
   "cell_type": "code",
   "execution_count": null,
   "id": "4f5bb74d",
   "metadata": {},
   "outputs": [],
   "source": [
    "# Gráfico da média de glicemia por hora do dia \n",
    "media_por_hora = df_raw.groupby('hour')['value'].mean()\n",
    "plt.figure(figsize=(10, 5))\n",
    "sns.lineplot(x=media_por_hora.index, y=media_por_hora.values)\n",
    "plt.title('Média de glicemia por hora do dia')\n",
    "plt.xlabel('Hora do dia')\n",
    "plt.ylabel('Glicemia (mg/dL)')\n",
    "plt.grid(True)\n",
    "plt.xticks(range(24))\n",
    "plt.show()"
   ]
  },
  {
   "cell_type": "code",
   "execution_count": null,
   "id": "6a65a1d9",
   "metadata": {},
   "outputs": [],
   "source": [
    "media_por_faixa = df_raw.groupby(['date_cont', 'faixa'])['value'].mean().unstack()\n",
    "\n",
    "media_por_faixa.plot(figsize=(12, 6), marker='o')\n",
    "\n",
    "plt.xlabel('Dia (contagem)')\n",
    "plt.ylabel('Glicose média (mg/dL)')\n",
    "plt.title('Evolução diária da glicose por faixa horária')\n",
    "plt.grid(True)\n",
    "plt.legend(title='Faixa do dia', bbox_to_anchor=(1.05, 1), loc='upper left')\n",
    "plt.tight_layout()\n",
    "plt.show()"
   ]
  },
  {
   "cell_type": "markdown",
   "id": "265f178b",
   "metadata": {},
   "source": [
    "# 2. Nos dados analisados, qual a porcentagem do tempo o paciente está dentro, acima ou abaixo dos valores de referência ideais? \n",
    "\n",
    "##### Valores ideais:\n",
    "##### TIR time in range: ≥ 70% do tempo entre 70-180 mg/dL\n",
    "##### TBR time below range: < 4% do tempo abaixo de 70 mg/dL\n",
    "##### TBR time very below range: < 1% abaixo de 54 mg/dL\n",
    "##### TAR time above range: < 25% acima de 180 mg/dL"
   ]
  },
  {
   "cell_type": "code",
   "execution_count": null,
   "id": "09272d41",
   "metadata": {},
   "outputs": [],
   "source": [
    "total = len(df_raw)\n",
    "tar = len(df_raw[df_raw['value'] > 180]) / total * 100\n",
    "tir = len(df_raw[(df_raw['value'] >= 70) & (df_raw['value'] <= 180)]) / total * 100\n",
    "tbr = len(df_raw[df_raw['value'] < 70]) / total * 100\n",
    "tvbr = len(df_raw[df_raw['value'] < 54]) / total * 100"
   ]
  },
  {
   "cell_type": "code",
   "execution_count": null,
   "id": "2e8c152a",
   "metadata": {},
   "outputs": [],
   "source": [
    "tar_check = '✔️' if tar < 25 else '❌'\n",
    "tir_check = '✔️' if tir >= 70 else '❌'\n",
    "tbr_check = '✔️' if tbr < 4 else '❌'\n",
    "tvbr_check = '✔️' if tvbr < 1 else '❌'"
   ]
  },
  {
   "cell_type": "code",
   "execution_count": null,
   "id": "86a8ede5",
   "metadata": {},
   "outputs": [],
   "source": [
    "print(f'| TAR time above range      | {tar:.1f}%  | < 25% acima de 180 mg/dL           | {tar_check} |')\n",
    "print(f'| TIR time in range         | {tir:.1f}% |  ≥ 70% do tempo entre 70-180 mg/dL | {tir_check} |')\n",
    "print(f'| TBR time below range      | {tbr:.1f}% | < 4% do tempo abaixo de 70 mg/dL   | {tbr_check} |')\n",
    "print(f'| TBR time very below range | {tvbr:.1f}%  | < 1% abaixo de 54 mg/dL            | {tvbr_check} |')"
   ]
  },
  {
   "cell_type": "markdown",
   "id": "a80b7f74",
   "metadata": {},
   "source": [
    "# 3. Dentro do período de medição, houve algum dia em que a média de glicemia destoou muito do normal? Em quais momentos houve episódios de hiper (>180mg/dL) e hipoglicemia? (<70mg/dL)"
   ]
  },
  {
   "cell_type": "code",
   "execution_count": null,
   "id": "a4a9d46a",
   "metadata": {},
   "outputs": [],
   "source": [
    "from matplotlib.colors import ListedColormap, BoundaryNorm\n",
    "\n",
    "mapa_medicoes = df_raw[['value']]\n",
    "mapa_medicoes = mapa_medicoes.T\n",
    "\n",
    "faixas = [0, 70, 180, df_raw['value'].max() + 1]\n",
    "\n",
    "# Cores suaves e harmônicas:\n",
    "colors = ['#7DA6C1', '#A3C293', '#D46256']\n",
    "cmap = ListedColormap(colors)\n",
    "norm = BoundaryNorm(faixas, cmap.N)\n",
    "\n",
    "# Plot\n",
    "plt.figure(figsize=(20, 2))\n",
    "sns.heatmap(mapa_medicoes, cmap=cmap, norm=norm, cbar_kws={'label': 'Glicose (mg/dL)'})\n",
    "plt.yticks([], [])\n",
    "plt.xlabel(\"Leituras\")\n",
    "plt.title(\"Mapa de calor com destaque para medições individuais acima de 180 e abaixo de 70\")\n",
    "plt.show()\n"
   ]
  },
  {
   "cell_type": "markdown",
   "id": "80a9ad97",
   "metadata": {},
   "source": [
    "# 4. Quão rápido a curva de glicemia tende a voltar para os valores de referência ideais? Há alguma variável que influencia o tempo de retorno?"
   ]
  },
  {
   "cell_type": "markdown",
   "id": "570380f2",
   "metadata": {},
   "source": [
    "# 5. Há diferença significativa da média de glicemia entre dias da semana? (dias úteis, fins de semana)"
   ]
  },
  {
   "cell_type": "code",
   "execution_count": null,
   "id": "c31a377d",
   "metadata": {},
   "outputs": [],
   "source": [
    "from matplotlib.colors import ListedColormap, BoundaryNorm\n",
    "\n",
    "tabela = df_raw.pivot_table(index='hour', columns='weekday', values='value', aggfunc='mean')\n",
    "max_val = df_raw['value'].max()\n",
    "\n",
    "colors = ['#E99A8B', '#A3C293', '#D46256'] \n",
    "glucose_range = [0, 70, 140, max_val + 1]\n",
    "\n",
    "cmap = ListedColormap(colors)\n",
    "norm = BoundaryNorm(glucose_range, cmap.N)\n",
    "\n",
    "plt.figure(figsize=(6, 6))\n",
    "sns.heatmap(tabela, annot=True, fmt=\".1f\", cmap=cmap, norm=norm, cbar_kws={'label': 'Glicose (mg/dL)'})\n",
    "plt.title(\"Glicose média por hora do dia e por dia da semana\")\n",
    "plt.ylabel(\"Hora do dia\")\n",
    "plt.xlabel(\"Dia da semana\")\n",
    "plt.show()"
   ]
  },
  {
   "cell_type": "code",
   "execution_count": null,
   "id": "69da3cf6",
   "metadata": {},
   "outputs": [],
   "source": [
    "media_por_dia = df_raw.groupby('weekday')['value'].mean().reindex([\n",
    "    'Monday', 'Tuesday', 'Wednesday', 'Thursday', 'Friday', 'Saturday', 'Sunday'\n",
    "]).reset_index()\n",
    "\n",
    "mapa_mediageral = pd.DataFrame([media_por_dia['value'].values], columns=media_por_dia['weekday'].values)\n",
    "\n",
    "plt.figure(figsize=(8, 2))\n",
    "sns.heatmap(mapa_mediageral, annot=True, fmt=\".1f\", cmap=\"crest\", cbar_kws={'label': 'Glicose média (mg/dL)'})\n",
    "plt.title(\"Média de glicose no fluido intersticial por dia da semana\")\n",
    "plt.yticks([], []) \n",
    "plt.xlabel(\"Dia da semana\")\n",
    "plt.show()\n"
   ]
  },
  {
   "cell_type": "markdown",
   "id": "fee5a95a",
   "metadata": {},
   "source": [
    "# 6. Há variação de glicemia significativa durante o período noturno e durante a manhã (4h-8h)? (dawn phenomenon)"
   ]
  },
  {
   "cell_type": "code",
   "execution_count": null,
   "id": "66d1a549",
   "metadata": {},
   "outputs": [],
   "source": [
    "# Gráfico da média de glicemia por hora do dia \n",
    "media_por_hora = df_raw.groupby('hour')['value'].mean()\n",
    "plt.figure(figsize=(10, 5))\n",
    "sns.lineplot(x=media_por_hora.index, y=media_por_hora.values)\n",
    "plt.title('Média de glicemia por hora do dia')\n",
    "plt.xlabel('Hora do dia')\n",
    "plt.ylabel('Glicemia (mg/dL)')\n",
    "plt.grid(True)\n",
    "plt.xticks(range(24))\n",
    "plt.show()"
   ]
  },
  {
   "cell_type": "markdown",
   "id": "780ba65c",
   "metadata": {},
   "source": [
    "# 7. Qual a glicemia média geral do período analisado?"
   ]
  },
  {
   "cell_type": "code",
   "execution_count": null,
   "id": "b0eb246e",
   "metadata": {},
   "outputs": [],
   "source": [
    "media_global = df_raw['value'].mean()\n",
    "media_check = '✔️' if media_global > 70 and media_global < 180 else '❌'\n",
    "print('Média geral:', media_global, media_check)"
   ]
  },
  {
   "cell_type": "markdown",
   "id": "c4cbb7e8",
   "metadata": {},
   "source": [
    "# 8. Qual o desvio padrão ou coeficiente de variação (CV%) da glicemia?"
   ]
  },
  {
   "cell_type": "markdown",
   "id": "ab7ccc5e",
   "metadata": {},
   "source": [
    "# 9. Quais dias em que houve mais instabilidade (maior variação)?"
   ]
  },
  {
   "cell_type": "markdown",
   "id": "882e716a",
   "metadata": {},
   "source": [
    "# 10. Há consistência nos dados? É possível prever quais horas do dia haverá oscilações significativas?"
   ]
  },
  {
   "cell_type": "markdown",
   "id": "da4af60d",
   "metadata": {},
   "source": [
    "# 11. Há alguma diferença entre a média da primeira e última metade da amostra? Houve alguma diferença no controle ao longo do mês ou permaneceu constante?"
   ]
  },
  {
   "cell_type": "code",
   "execution_count": null,
   "id": "77dbf126",
   "metadata": {},
   "outputs": [],
   "source": [
    "# 12. Número e duração média dos episódios de hipoglicemia e hiperglicemia\n",
    "# 13. Velocidade média de subida e queda da glicemia\n",
    "# 14. Tempo em hipoglicemia noturna (00h–6h)\n",
    "# 17. Predição simples com regressão ou modelo de baseline"
   ]
  },
  {
   "cell_type": "markdown",
   "id": "1b4a801d",
   "metadata": {},
   "source": [
    "# Predição com regressão linear"
   ]
  },
  {
   "cell_type": "code",
   "execution_count": null,
   "id": "154d9d44",
   "metadata": {},
   "outputs": [],
   "source": [
    "#%pip install scikit-learn"
   ]
  },
  {
   "cell_type": "code",
   "execution_count": null,
   "id": "7c678fc5",
   "metadata": {},
   "outputs": [],
   "source": [
    "import pandas as pd\n",
    "from sklearn.linear_model import LinearRegression\n",
    "from sklearn.model_selection import train_test_split\n",
    "from sklearn.metrics import mean_squared_error, r2_score\n",
    "import matplotlib.pyplot as plt"
   ]
  },
  {
   "cell_type": "code",
   "execution_count": null,
   "id": "47cb6398",
   "metadata": {},
   "outputs": [],
   "source": [
    "x = df_raw[['hour']]\n",
    "y = df_raw['value']"
   ]
  },
  {
   "cell_type": "code",
   "execution_count": null,
   "id": "9c934737",
   "metadata": {},
   "outputs": [],
   "source": [
    "x_treino, x_teste, y_treino, y_teste = train_test_split(x, y, test_size=0.2, random_state=42)"
   ]
  },
  {
   "cell_type": "code",
   "execution_count": null,
   "id": "307d235c",
   "metadata": {},
   "outputs": [],
   "source": [
    "modelo = LinearRegression()\n",
    "modelo.fit(x_treino, y_treino)\n"
   ]
  },
  {
   "cell_type": "code",
   "execution_count": null,
   "id": "e72c1929",
   "metadata": {},
   "outputs": [],
   "source": [
    "y_pred = modelo.predict(x_teste)\n",
    "rmse = np.sqrt(mean_squared_error(y_teste, y_pred))\n",
    "\n",
    "print(\"Coeficiente angular (slope):\", modelo.coef_[0])\n",
    "print(\"Intercepto:\", modelo.intercept_)\n",
    "print(\"R²:\", r2_score(y_teste, y_pred))\n",
    "print(\"RMSE:\", rmse)"
   ]
  },
  {
   "cell_type": "code",
   "execution_count": null,
   "id": "59603b12",
   "metadata": {},
   "outputs": [],
   "source": [
    "plt.scatter(x_teste, y_teste, color='gray', label='Real')\n",
    "plt.plot(x_teste, y_pred, color='blue', linewidth=2, label='Previsão')\n",
    "plt.title('Previsão da glicemia com base na hora do dia')\n",
    "plt.xlabel('Hora do dia')\n",
    "plt.ylabel('Glicemia (mg/dL)')\n",
    "plt.legend()\n",
    "plt.grid(True)\n",
    "plt.show()"
   ]
  },
  {
   "cell_type": "code",
   "execution_count": null,
   "id": "e696bd5b",
   "metadata": {},
   "outputs": [],
   "source": [
    "main()"
   ]
  }
 ],
 "metadata": {
  "kernelspec": {
   "display_name": "Python 3",
   "language": "python",
   "name": "python3"
  },
  "language_info": {
   "codemirror_mode": {
    "name": "ipython",
    "version": 3
   },
   "file_extension": ".py",
   "mimetype": "text/x-python",
   "name": "python",
   "nbconvert_exporter": "python",
   "pygments_lexer": "ipython3",
   "version": "3.13.5"
  }
 },
 "nbformat": 4,
 "nbformat_minor": 5
}
